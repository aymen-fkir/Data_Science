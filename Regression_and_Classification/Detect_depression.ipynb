{
  "nbformat": 4,
  "nbformat_minor": 0,
  "metadata": {
    "colab": {
      "provenance": [],
      "gpuType": "T4"
    },
    "kernelspec": {
      "name": "python3",
      "display_name": "Python 3"
    },
    "language_info": {
      "name": "python"
    },
    "accelerator": "GPU"
  },
  "cells": [
    {
      "cell_type": "code",
      "execution_count": null,
      "metadata": {
        "id": "M59rEk-zUESV"
      },
      "outputs": [],
      "source": [
        "!mkdir /root/.kaggle\n",
        "!mv kaggle.json /root/.kaggle/kaggle.json"
      ]
    },
    {
      "cell_type": "code",
      "source": [
        "!kaggle competitions download -c playground-series-s4e11"
      ],
      "metadata": {
        "colab": {
          "base_uri": "https://localhost:8080/"
        },
        "id": "QHm4r8PkUTCV",
        "outputId": "2b9b2de6-ff54-4c16-b56c-a0d17b6bc0bd"
      },
      "execution_count": null,
      "outputs": [
        {
          "output_type": "stream",
          "name": "stdout",
          "text": [
            "Warning: Your Kaggle API key is readable by other users on this system! To fix this, you can run 'chmod 600 /root/.kaggle/kaggle.json'\n",
            "Downloading playground-series-s4e11.zip to /content\n",
            " 88% 4.00M/4.55M [00:01<00:00, 4.51MB/s]\n",
            "100% 4.55M/4.55M [00:01<00:00, 3.66MB/s]\n"
          ]
        }
      ]
    },
    {
      "cell_type": "code",
      "source": [
        "!unzip playground-series-s4e11.zip"
      ],
      "metadata": {
        "colab": {
          "base_uri": "https://localhost:8080/"
        },
        "id": "I8UKjVf5UUDu",
        "outputId": "704f424a-f3f9-4421-bd1c-020a93064f34"
      },
      "execution_count": null,
      "outputs": [
        {
          "output_type": "stream",
          "name": "stdout",
          "text": [
            "Archive:  playground-series-s4e11.zip\n",
            "  inflating: sample_submission.csv   \n",
            "  inflating: test.csv                \n",
            "  inflating: train.csv               \n"
          ]
        }
      ]
    },
    {
      "cell_type": "code",
      "source": [
        "!kaggle datasets download sumansharmadataworld/depression-surveydataset-for-analysis"
      ],
      "metadata": {
        "colab": {
          "base_uri": "https://localhost:8080/"
        },
        "id": "dZV6Ib0DWXg4",
        "outputId": "e495d552-1e83-47c3-eea2-6d14ec3dbbe2"
      },
      "execution_count": null,
      "outputs": [
        {
          "output_type": "stream",
          "name": "stdout",
          "text": [
            "Warning: Your Kaggle API key is readable by other users on this system! To fix this, you can run 'chmod 600 /root/.kaggle/kaggle.json'\n",
            "Dataset URL: https://www.kaggle.com/datasets/sumansharmadataworld/depression-surveydataset-for-analysis\n",
            "License(s): CC0-1.0\n",
            "Downloading depression-surveydataset-for-analysis.zip to /content\n",
            "  0% 0.00/42.6k [00:00<?, ?B/s]\n",
            "100% 42.6k/42.6k [00:00<00:00, 1.43MB/s]\n"
          ]
        }
      ]
    },
    {
      "cell_type": "code",
      "source": [
        "!unzip depression-surveydataset-for-analysis.zip"
      ],
      "metadata": {
        "colab": {
          "base_uri": "https://localhost:8080/"
        },
        "id": "-wSSdPCgWb5M",
        "outputId": "96764e5d-b22c-4f41-eec5-13b0ab13f3a3"
      },
      "execution_count": null,
      "outputs": [
        {
          "output_type": "stream",
          "name": "stdout",
          "text": [
            "Archive:  depression-surveydataset-for-analysis.zip\n",
            "  inflating: final_depression_dataset_1.csv  \n"
          ]
        }
      ]
    },
    {
      "cell_type": "code",
      "source": [
        "!pip install optuna catboost"
      ],
      "metadata": {
        "colab": {
          "base_uri": "https://localhost:8080/"
        },
        "id": "37P5pZhVbalf",
        "outputId": "5b5353f2-9ab6-425d-8433-6e4d7ba177a1"
      },
      "execution_count": null,
      "outputs": [
        {
          "output_type": "stream",
          "name": "stdout",
          "text": [
            "Collecting optuna\n",
            "  Downloading optuna-4.1.0-py3-none-any.whl.metadata (16 kB)\n",
            "Collecting catboost\n",
            "  Downloading catboost-1.2.7-cp310-cp310-manylinux2014_x86_64.whl.metadata (1.2 kB)\n",
            "Collecting alembic>=1.5.0 (from optuna)\n",
            "  Downloading alembic-1.14.0-py3-none-any.whl.metadata (7.4 kB)\n",
            "Collecting colorlog (from optuna)\n",
            "  Downloading colorlog-6.9.0-py3-none-any.whl.metadata (10 kB)\n",
            "Requirement already satisfied: numpy in /usr/local/lib/python3.10/dist-packages (from optuna) (1.26.4)\n",
            "Requirement already satisfied: packaging>=20.0 in /usr/local/lib/python3.10/dist-packages (from optuna) (24.2)\n",
            "Requirement already satisfied: sqlalchemy>=1.4.2 in /usr/local/lib/python3.10/dist-packages (from optuna) (2.0.36)\n",
            "Requirement already satisfied: tqdm in /usr/local/lib/python3.10/dist-packages (from optuna) (4.66.6)\n",
            "Requirement already satisfied: PyYAML in /usr/local/lib/python3.10/dist-packages (from optuna) (6.0.2)\n",
            "Requirement already satisfied: graphviz in /usr/local/lib/python3.10/dist-packages (from catboost) (0.20.3)\n",
            "Requirement already satisfied: matplotlib in /usr/local/lib/python3.10/dist-packages (from catboost) (3.8.0)\n",
            "Requirement already satisfied: pandas>=0.24 in /usr/local/lib/python3.10/dist-packages (from catboost) (2.2.2)\n",
            "Requirement already satisfied: scipy in /usr/local/lib/python3.10/dist-packages (from catboost) (1.13.1)\n",
            "Requirement already satisfied: plotly in /usr/local/lib/python3.10/dist-packages (from catboost) (5.24.1)\n",
            "Requirement already satisfied: six in /usr/local/lib/python3.10/dist-packages (from catboost) (1.16.0)\n",
            "Collecting Mako (from alembic>=1.5.0->optuna)\n",
            "  Downloading Mako-1.3.6-py3-none-any.whl.metadata (2.9 kB)\n",
            "Requirement already satisfied: typing-extensions>=4 in /usr/local/lib/python3.10/dist-packages (from alembic>=1.5.0->optuna) (4.12.2)\n",
            "Requirement already satisfied: python-dateutil>=2.8.2 in /usr/local/lib/python3.10/dist-packages (from pandas>=0.24->catboost) (2.8.2)\n",
            "Requirement already satisfied: pytz>=2020.1 in /usr/local/lib/python3.10/dist-packages (from pandas>=0.24->catboost) (2024.2)\n",
            "Requirement already satisfied: tzdata>=2022.7 in /usr/local/lib/python3.10/dist-packages (from pandas>=0.24->catboost) (2024.2)\n",
            "Requirement already satisfied: greenlet!=0.4.17 in /usr/local/lib/python3.10/dist-packages (from sqlalchemy>=1.4.2->optuna) (3.1.1)\n",
            "Requirement already satisfied: contourpy>=1.0.1 in /usr/local/lib/python3.10/dist-packages (from matplotlib->catboost) (1.3.1)\n",
            "Requirement already satisfied: cycler>=0.10 in /usr/local/lib/python3.10/dist-packages (from matplotlib->catboost) (0.12.1)\n",
            "Requirement already satisfied: fonttools>=4.22.0 in /usr/local/lib/python3.10/dist-packages (from matplotlib->catboost) (4.54.1)\n",
            "Requirement already satisfied: kiwisolver>=1.0.1 in /usr/local/lib/python3.10/dist-packages (from matplotlib->catboost) (1.4.7)\n",
            "Requirement already satisfied: pillow>=6.2.0 in /usr/local/lib/python3.10/dist-packages (from matplotlib->catboost) (11.0.0)\n",
            "Requirement already satisfied: pyparsing>=2.3.1 in /usr/local/lib/python3.10/dist-packages (from matplotlib->catboost) (3.2.0)\n",
            "Requirement already satisfied: tenacity>=6.2.0 in /usr/local/lib/python3.10/dist-packages (from plotly->catboost) (9.0.0)\n",
            "Requirement already satisfied: MarkupSafe>=0.9.2 in /usr/local/lib/python3.10/dist-packages (from Mako->alembic>=1.5.0->optuna) (3.0.2)\n",
            "Downloading optuna-4.1.0-py3-none-any.whl (364 kB)\n",
            "\u001b[2K   \u001b[90m━━━━━━━━━━━━━━━━━━━━━━━━━━━━━━━━━━━━━━━━\u001b[0m \u001b[32m364.4/364.4 kB\u001b[0m \u001b[31m25.0 MB/s\u001b[0m eta \u001b[36m0:00:00\u001b[0m\n",
            "\u001b[?25hDownloading catboost-1.2.7-cp310-cp310-manylinux2014_x86_64.whl (98.7 MB)\n",
            "\u001b[2K   \u001b[90m━━━━━━━━━━━━━━━━━━━━━━━━━━━━━━━━━━━━━━━━\u001b[0m \u001b[32m98.7/98.7 MB\u001b[0m \u001b[31m7.3 MB/s\u001b[0m eta \u001b[36m0:00:00\u001b[0m\n",
            "\u001b[?25hDownloading alembic-1.14.0-py3-none-any.whl (233 kB)\n",
            "\u001b[2K   \u001b[90m━━━━━━━━━━━━━━━━━━━━━━━━━━━━━━━━━━━━━━━━\u001b[0m \u001b[32m233.5/233.5 kB\u001b[0m \u001b[31m16.1 MB/s\u001b[0m eta \u001b[36m0:00:00\u001b[0m\n",
            "\u001b[?25hDownloading colorlog-6.9.0-py3-none-any.whl (11 kB)\n",
            "Downloading Mako-1.3.6-py3-none-any.whl (78 kB)\n",
            "\u001b[2K   \u001b[90m━━━━━━━━━━━━━━━━━━━━━━━━━━━━━━━━━━━━━━━━\u001b[0m \u001b[32m78.6/78.6 kB\u001b[0m \u001b[31m6.6 MB/s\u001b[0m eta \u001b[36m0:00:00\u001b[0m\n",
            "\u001b[?25hInstalling collected packages: Mako, colorlog, alembic, optuna, catboost\n",
            "Successfully installed Mako-1.3.6 alembic-1.14.0 catboost-1.2.7 colorlog-6.9.0 optuna-4.1.0\n"
          ]
        }
      ]
    },
    {
      "cell_type": "code",
      "source": [
        "import pandas as pd"
      ],
      "metadata": {
        "id": "7_VMq418TbkP"
      },
      "execution_count": null,
      "outputs": []
    },
    {
      "cell_type": "code",
      "source": [
        "original_data = pd.read_csv(\"final_depression_dataset_1.csv\")"
      ],
      "metadata": {
        "id": "oI0BPDb0We6h"
      },
      "execution_count": null,
      "outputs": []
    },
    {
      "cell_type": "code",
      "source": [
        "original_data[\"Depression\"] = original_data[\"Depression\"].map({\"Yes\":1,\"No\":0})"
      ],
      "metadata": {
        "id": "jiQGKFg5mW4G"
      },
      "execution_count": null,
      "outputs": []
    },
    {
      "cell_type": "code",
      "source": [
        "import pandas as pd\n",
        "import matplotlib.pyplot as plt\n",
        "import seaborn as sns\n",
        "from sklearn.preprocessing import LabelEncoder\n",
        "from sklearn.model_selection import train_test_split\n",
        "from sklearn.metrics import accuracy_score\n",
        "from xgboost import XGBClassifier\n",
        "from sklearn.model_selection import KFold\n",
        "from sklearn.metrics import accuracy_score\n",
        "from lightgbm import LGBMClassifier\n",
        "import lightgbm as lgb\n",
        "import optuna\n",
        "from catboost import CatBoostClassifier,Pool\n",
        "from sklearn.ensemble import RandomForestClassifier"
      ],
      "metadata": {
        "id": "alkdAGucUW_W",
        "colab": {
          "base_uri": "https://localhost:8080/"
        },
        "outputId": "87943709-519e-4982-cb53-fc7a88b30037"
      },
      "execution_count": null,
      "outputs": [
        {
          "output_type": "stream",
          "name": "stderr",
          "text": [
            "/usr/local/lib/python3.10/dist-packages/dask/dataframe/__init__.py:42: FutureWarning: \n",
            "Dask dataframe query planning is disabled because dask-expr is not installed.\n",
            "\n",
            "You can install it with `pip install dask[dataframe]` or `conda install dask`.\n",
            "This will raise in a future version.\n",
            "\n",
            "  warnings.warn(msg, FutureWarning)\n"
          ]
        }
      ]
    },
    {
      "cell_type": "markdown",
      "source": [
        "## **Process Data**"
      ],
      "metadata": {
        "id": "mr0JARkJV1kV"
      }
    },
    {
      "cell_type": "code",
      "source": [
        "train = pd.read_csv(\"train.csv\")\n",
        "test = pd.read_csv(\"test.csv\")"
      ],
      "metadata": {
        "id": "aoXrHT2pUa7a"
      },
      "execution_count": null,
      "outputs": []
    },
    {
      "cell_type": "code",
      "source": [
        "train = pd.concat([train,original_data])"
      ],
      "metadata": {
        "id": "HWxr6O8XWlgx"
      },
      "execution_count": null,
      "outputs": []
    },
    {
      "cell_type": "code",
      "source": [
        "scale_pos_weight =  train[\"Depression\"].value_counts().iloc[0] / train[\"Depression\"].value_counts().iloc[1]"
      ],
      "metadata": {
        "id": "pLxSvtxSYwZX"
      },
      "execution_count": null,
      "outputs": []
    },
    {
      "cell_type": "code",
      "source": [
        "scale_pos_weight"
      ],
      "metadata": {
        "colab": {
          "base_uri": "https://localhost:8080/"
        },
        "id": "uR1n2afBzUN4",
        "outputId": "837a9e92-a63d-4cf5-c6de-e69b56adcfba"
      },
      "execution_count": null,
      "outputs": [
        {
          "output_type": "execute_result",
          "data": {
            "text/plain": [
              "4.50518791791561"
            ]
          },
          "metadata": {},
          "execution_count": 14
        }
      ]
    },
    {
      "cell_type": "code",
      "source": [
        "train = train.sample(frac=1).reset_index(drop=True)"
      ],
      "metadata": {
        "id": "rgSdVdTJe-xq"
      },
      "execution_count": null,
      "outputs": []
    },
    {
      "cell_type": "code",
      "source": [
        "train.drop(\"id\",axis=1,inplace=True)"
      ],
      "metadata": {
        "id": "tHO4z16ZE-zL"
      },
      "execution_count": null,
      "outputs": []
    },
    {
      "cell_type": "code",
      "source": [
        "obj_col = train.select_dtypes(\"object\").columns.tolist()\n",
        "for col in obj_col:\n",
        "  train[col] = train[col].astype(\"category\")"
      ],
      "metadata": {
        "id": "3h6GVoCZnD-G"
      },
      "execution_count": null,
      "outputs": []
    },
    {
      "cell_type": "code",
      "source": [
        "train = train.sample(frac=1).reset_index(drop=True)"
      ],
      "metadata": {
        "id": "YkPAiKrTm90A"
      },
      "execution_count": null,
      "outputs": []
    },
    {
      "cell_type": "code",
      "source": [
        "# NEXT STEP ENSEMBEL MODEL"
      ],
      "metadata": {
        "id": "qBHPfnRBftYA"
      },
      "execution_count": null,
      "outputs": []
    },
    {
      "cell_type": "markdown",
      "source": [
        "## **ENSEMBEl MODEL**"
      ],
      "metadata": {
        "id": "eMqrRaZbWDRb"
      }
    },
    {
      "cell_type": "code",
      "source": [
        "from sklearn.base import BaseEstimator, TransformerMixin\n",
        "class ProcessCatFeatures(BaseEstimator, TransformerMixin):\n",
        "    def __init__(self, cat_features):\n",
        "        self.cat_features = cat_features\n",
        "\n",
        "    def fit(self, X, y=None):\n",
        "        # No fitting needed, just return self\n",
        "        return self\n",
        "\n",
        "    def transform(self, X):\n",
        "        # Process the categorical features\n",
        "        X_copy = X.copy()\n",
        "        X_copy[self.cat_features] = X_copy[self.cat_features].astype(\"object\").fillna(\"missing\")\n",
        "        X_copy[self.cat_features] = X_copy[self.cat_features].astype(\"category\")\n",
        "        return X_copy"
      ],
      "metadata": {
        "id": "tUqggc-vjl_5"
      },
      "execution_count": null,
      "outputs": []
    },
    {
      "cell_type": "code",
      "source": [
        "from sklearn.ensemble import StackingClassifier\n",
        "from sklearn.linear_model import LogisticRegression\n",
        "from sklearn.pipeline import make_pipeline,Pipeline\n",
        "\n",
        "\n",
        "def ensembelModel(x_train,y_train,obj_col,params):\n",
        "  catmodel = CatBoostClassifier(nan_mode=\"Min\",cat_features=obj_col,eval_metric=\"Accuracy\",loss_function='Logloss',random_state=42,scale_pos_weight=4.50518791791561,task_type=\"GPU\",verbose=0,**params[\"catboost\"])\n",
        "\n",
        "  catpipeline = make_pipeline(ProcessCatFeatures(obj_col),catmodel)\n",
        "\n",
        "  estimators = [\n",
        "      ('lgbm', LGBMClassifier(random_state=42,scale_pos_weight=4.50518791791561,objective='binary',metric= 'binary_logloss',boosting_type='gbdt',**params[\"lgbm\"],verbosity=-1)),\n",
        "      ('catboost', catpipeline),\n",
        "      ('xgboost', XGBClassifier(enable_categorical=True,random_state=42,tree_method='gpu_hist',predictor='gpu_predictor',verbosity=0,scale_pos_weight=4.50518791791561,**params[\"xgb\"]))\n",
        "  ]\n",
        "\n",
        "  clf = StackingClassifier(\n",
        "      estimators=estimators, final_estimator=LogisticRegression()\n",
        "  )\n",
        "  return clf"
      ],
      "metadata": {
        "id": "IgZGGMfjdvbw"
      },
      "execution_count": null,
      "outputs": []
    },
    {
      "cell_type": "code",
      "source": [
        "X = train.drop(\"Depression\",axis=1)\n",
        "Y = train[\"Depression\"]"
      ],
      "metadata": {
        "id": "xr98d-BXhuwo"
      },
      "execution_count": null,
      "outputs": []
    },
    {
      "cell_type": "code",
      "source": [
        "from optuna import trial\n",
        "import numpy as np\n",
        "from sklearn.model_selection import cross_val_score\n",
        "def objective(trial):\n",
        "  params = {\n",
        "      \"xgb\":{\n",
        "          'n_estimators': trial.suggest_int('n_estimators', 100, 1000),\n",
        "          'max_depth': trial.suggest_int('max_depth', 3, 10),\n",
        "          'learning_rate': trial.suggest_float('learning_rate', 0.01, 0.3, log=True),\n",
        "          'min_child_weight': trial.suggest_int('min_child_weight', 1, 10),\n",
        "          'subsample': trial.suggest_float('subsample', 0.5, 1.0),\n",
        "          'colsample_bytree': trial.suggest_float('colsample_bytree', 0.5, 1.0),\n",
        "          'max_cat_to_onehot': trial.suggest_int('max_cat_to_onehot', 1, 10),\n",
        "          'max_cat_threshold': trial.suggest_int('max_cat_threshold', 32, 128),\n",
        "          'reg_alpha': trial.suggest_float('reg_alpha', 0.1, 10.0, log=True),\n",
        "          'reg_lambda': trial.suggest_float('reg_lambda', 0.1, 10.0, log=True),\n",
        "      },\n",
        "      \"catboost\":{\n",
        "              'iterations': trial.suggest_int('iterations', 100, 1000),\n",
        "              'depth': trial.suggest_int('depth', 3, 10),\n",
        "              'learning_rate': trial.suggest_float('cat_learning_rate', 0.01, 0.3, log=True),\n",
        "              'min_data_in_leaf': trial.suggest_int('min_data_in_leaf', 1, 10),\n",
        "              'l2_leaf_reg': trial.suggest_float('l2_leaf_reg', 0.1, 10.0, log=True),\n",
        "              'border_count': trial.suggest_int('border_count', 32, 128),\n",
        "\n",
        "      },\n",
        "      \"lgbm\":{\n",
        "              'n_estimators': trial.suggest_int('lgb_n_estimators', 100, 1000),\n",
        "              'max_depth': trial.suggest_int('lgb_max_depth', 3, 10),\n",
        "              'learning_rate': trial.suggest_float('lgb_learning_rate', 0.01, 0.3, log=True),\n",
        "              'min_child_samples': trial.suggest_int('min_child_samples', 1, 10),\n",
        "              'subsample': trial.suggest_float('lgb_subsample', 0.5, 1.0),\n",
        "              'colsample_bytree': trial.suggest_float('lgb_colsample_bytree', 0.5, 1.0),\n",
        "              'max_bin': trial.suggest_int('lgb_max_bin', 32, 128),\n",
        "              'reg_alpha': trial.suggest_float('lgb_reg_alpha', 0.1, 10.0, log=True),\n",
        "              'reg_lambda': trial.suggest_float('lgb_reg_lambda', 0.1, 10.0, log=True),\n",
        "              'cat_smooth': trial.suggest_float('cat_smooth', 1.0, 100.0),\n",
        "      }\n",
        "  }\n",
        "\n",
        "  clf = ensembelModel(X,Y,obj_col,params)\n",
        "  scores = cross_val_score(clf, X, Y, cv=5)\n",
        "  return np.mean(scores)"
      ],
      "metadata": {
        "id": "sUxUYkxTZlrc"
      },
      "execution_count": null,
      "outputs": []
    },
    {
      "cell_type": "code",
      "source": [
        "study = optuna.create_study(direction='maximize')\n",
        "study.optimize(objective, n_trials=30)"
      ],
      "metadata": {
        "colab": {
          "base_uri": "https://localhost:8080/"
        },
        "id": "o1W9nGv2eoXp",
        "outputId": "b344d655-5c91-4040-ba2a-008506f4b270"
      },
      "execution_count": null,
      "outputs": [
        {
          "output_type": "stream",
          "name": "stderr",
          "text": [
            "[I 2024-11-20 09:39:58,019] A new study created in memory with name: no-name-ab3690f7-794f-485d-b385-b57b484d754e\n",
            "[I 2024-11-20 10:02:54,337] Trial 0 finished with value: 0.9393603022618165 and parameters: {'n_estimators': 934, 'max_depth': 7, 'learning_rate': 0.02531449662871177, 'min_child_weight': 2, 'subsample': 0.8619353404698312, 'colsample_bytree': 0.6052963290916453, 'max_cat_to_onehot': 1, 'max_cat_threshold': 48, 'reg_alpha': 3.6365383024003837, 'reg_lambda': 4.623820904121375, 'iterations': 237, 'depth': 10, 'cat_learning_rate': 0.06667217182459025, 'min_data_in_leaf': 9, 'l2_leaf_reg': 5.041338475484808, 'border_count': 71, 'lgb_n_estimators': 767, 'lgb_max_depth': 9, 'lgb_learning_rate': 0.04150491577857082, 'min_child_samples': 3, 'lgb_subsample': 0.5746121056296347, 'lgb_colsample_bytree': 0.8238156201501892, 'lgb_max_bin': 106, 'lgb_reg_alpha': 0.41940497570987234, 'lgb_reg_lambda': 1.842350164792471, 'cat_smooth': 21.039936879313316}. Best is trial 0 with value: 0.9393603022618165.\n",
            "[I 2024-11-20 10:18:52,951] Trial 1 finished with value: 0.9379572166958272 and parameters: {'n_estimators': 529, 'max_depth': 4, 'learning_rate': 0.010124712158482803, 'min_child_weight': 7, 'subsample': 0.7580676786419123, 'colsample_bytree': 0.9185910322260016, 'max_cat_to_onehot': 8, 'max_cat_threshold': 34, 'reg_alpha': 0.1793191673381999, 'reg_lambda': 0.26252163003532086, 'iterations': 628, 'depth': 7, 'cat_learning_rate': 0.019125944849407942, 'min_data_in_leaf': 2, 'l2_leaf_reg': 2.5756909092518554, 'border_count': 52, 'lgb_n_estimators': 396, 'lgb_max_depth': 3, 'lgb_learning_rate': 0.02079373776852288, 'min_child_samples': 4, 'lgb_subsample': 0.6786283214800477, 'lgb_colsample_bytree': 0.6069083202288884, 'lgb_max_bin': 80, 'lgb_reg_alpha': 5.635614222141738, 'lgb_reg_lambda': 0.34824620195751604, 'cat_smooth': 19.44050695449094}. Best is trial 0 with value: 0.9393603022618165.\n"
          ]
        }
      ]
    },
    {
      "cell_type": "code",
      "source": [
        "ids = test[\"id\"]\n",
        "test.drop(\"id\",axis=1,inplace=True)\n",
        "obj_col = test.select_dtypes(\"object\").columns.tolist()\n",
        "for col in obj_col:\n",
        "  test[col] = test[col].astype(\"category\")\n",
        "\n",
        "\n",
        "pred = clf.predict(test)\n",
        "submmission = pd.DataFrame({\"id\":ids,\"Depression\":pred})\n",
        "submmission.to_csv(\"submission.csv\",index=False)\n",
        "\n",
        "!kaggle competitions submit -c playground-series-s4e11 -f submission.csv -m \"ensembel model\""
      ],
      "metadata": {
        "colab": {
          "base_uri": "https://localhost:8080/"
        },
        "id": "hT4KceXfbMgJ",
        "outputId": "2ce8eda5-e988-45a5-bdbe-8daf7ee09657"
      },
      "execution_count": null,
      "outputs": [
        {
          "output_type": "stream",
          "name": "stdout",
          "text": [
            "Warning: Your Kaggle API key is readable by other users on this system! To fix this, you can run 'chmod 600 /root/.kaggle/kaggle.json'\n",
            "100% 824k/824k [00:00<00:00, 1.41MB/s]\n",
            "Successfully submitted to Exploring Mental Health Data"
          ]
        }
      ]
    },
    {
      "cell_type": "code",
      "source": [],
      "metadata": {
        "id": "33l9g-gWds2e"
      },
      "execution_count": null,
      "outputs": []
    }
  ]
}