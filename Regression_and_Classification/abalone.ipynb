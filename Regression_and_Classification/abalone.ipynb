{
  "cells": [
    {
      "cell_type": "code",
      "execution_count": null,
      "metadata": {
        "id": "UmuN5e_e2xss"
      },
      "outputs": [],
      "source": [
        "!mkdir /root/.kaggle\n",
        "!mv kaggle.json /root/.kaggle/\n",
        "!chmod 600 /root/.kaggle/kaggle.json"
      ]
    },
    {
      "cell_type": "code",
      "execution_count": null,
      "metadata": {
        "colab": {
          "base_uri": "https://localhost:8080/"
        },
        "id": "Jiw5vFPj2pbs",
        "outputId": "ab075e65-4077-47d3-b479-a5e7c367c620"
      },
      "outputs": [
        {
          "output_type": "stream",
          "name": "stdout",
          "text": [
            "Downloading playground-series-s4e4.zip to /content\n",
            "\r  0% 0.00/2.41M [00:00<?, ?B/s]\n",
            "\r100% 2.41M/2.41M [00:00<00:00, 127MB/s]\n"
          ]
        }
      ],
      "source": [
        "!kaggle competitions download -c playground-series-s4e4"
      ]
    },
    {
      "cell_type": "code",
      "execution_count": null,
      "metadata": {
        "colab": {
          "base_uri": "https://localhost:8080/"
        },
        "id": "WIPkfwOUarqb",
        "outputId": "b0649478-d67a-4963-9cdd-4327e4b25a5f"
      },
      "outputs": [
        {
          "output_type": "stream",
          "name": "stdout",
          "text": [
            "Collecting ucimlrepo\n",
            "  Downloading ucimlrepo-0.0.6-py3-none-any.whl (8.0 kB)\n",
            "Installing collected packages: ucimlrepo\n",
            "Successfully installed ucimlrepo-0.0.6\n"
          ]
        }
      ],
      "source": [
        "!pip install ucimlrepo"
      ]
    },
    {
      "cell_type": "code",
      "execution_count": null,
      "metadata": {
        "id": "w9PlUN1o4TyY"
      },
      "outputs": [],
      "source": [
        "import pandas as pd\n",
        "import numpy as np\n",
        "import matplotlib.pyplot as plt\n",
        "import seaborn as sns"
      ]
    },
    {
      "cell_type": "code",
      "execution_count": null,
      "metadata": {
        "id": "v8CpVAKmaw15"
      },
      "outputs": [],
      "source": [
        "from ucimlrepo import fetch_ucirepo\n",
        "\n",
        "abalone = fetch_ucirepo(id=1)\n",
        "X = abalone.data.features\n",
        "y = abalone.data.targets\n",
        "\n",
        "rest_data = pd.concat([X,y],axis=1)"
      ]
    },
    {
      "cell_type": "code",
      "execution_count": null,
      "metadata": {
        "colab": {
          "base_uri": "https://localhost:8080/",
          "height": 423
        },
        "id": "FIxGfc8LbEYK",
        "outputId": "2edc93fb-40aa-4133-c7d4-20540e2d8519"
      },
      "outputs": [
        {
          "output_type": "execute_result",
          "data": {
            "text/plain": [
              "     Sex  Length  Diameter  Height  Whole_weight  Shucked_weight  \\\n",
              "0      M   0.455     0.365   0.095        0.5140          0.2245   \n",
              "1      M   0.350     0.265   0.090        0.2255          0.0995   \n",
              "2      F   0.530     0.420   0.135        0.6770          0.2565   \n",
              "3      M   0.440     0.365   0.125        0.5160          0.2155   \n",
              "4      I   0.330     0.255   0.080        0.2050          0.0895   \n",
              "...   ..     ...       ...     ...           ...             ...   \n",
              "4172   F   0.565     0.450   0.165        0.8870          0.3700   \n",
              "4173   M   0.590     0.440   0.135        0.9660          0.4390   \n",
              "4174   M   0.600     0.475   0.205        1.1760          0.5255   \n",
              "4175   F   0.625     0.485   0.150        1.0945          0.5310   \n",
              "4176   M   0.710     0.555   0.195        1.9485          0.9455   \n",
              "\n",
              "      Viscera_weight  Shell_weight  Rings  \n",
              "0             0.1010        0.1500     15  \n",
              "1             0.0485        0.0700      7  \n",
              "2             0.1415        0.2100      9  \n",
              "3             0.1140        0.1550     10  \n",
              "4             0.0395        0.0550      7  \n",
              "...              ...           ...    ...  \n",
              "4172          0.2390        0.2490     11  \n",
              "4173          0.2145        0.2605     10  \n",
              "4174          0.2875        0.3080      9  \n",
              "4175          0.2610        0.2960     10  \n",
              "4176          0.3765        0.4950     12  \n",
              "\n",
              "[4177 rows x 9 columns]"
            ],
            "text/html": [
              "\n",
              "  <div id=\"df-41ece22f-aac9-4e2f-916d-e2088ee8646b\" class=\"colab-df-container\">\n",
              "    <div>\n",
              "<style scoped>\n",
              "    .dataframe tbody tr th:only-of-type {\n",
              "        vertical-align: middle;\n",
              "    }\n",
              "\n",
              "    .dataframe tbody tr th {\n",
              "        vertical-align: top;\n",
              "    }\n",
              "\n",
              "    .dataframe thead th {\n",
              "        text-align: right;\n",
              "    }\n",
              "</style>\n",
              "<table border=\"1\" class=\"dataframe\">\n",
              "  <thead>\n",
              "    <tr style=\"text-align: right;\">\n",
              "      <th></th>\n",
              "      <th>Sex</th>\n",
              "      <th>Length</th>\n",
              "      <th>Diameter</th>\n",
              "      <th>Height</th>\n",
              "      <th>Whole_weight</th>\n",
              "      <th>Shucked_weight</th>\n",
              "      <th>Viscera_weight</th>\n",
              "      <th>Shell_weight</th>\n",
              "      <th>Rings</th>\n",
              "    </tr>\n",
              "  </thead>\n",
              "  <tbody>\n",
              "    <tr>\n",
              "      <th>0</th>\n",
              "      <td>M</td>\n",
              "      <td>0.455</td>\n",
              "      <td>0.365</td>\n",
              "      <td>0.095</td>\n",
              "      <td>0.5140</td>\n",
              "      <td>0.2245</td>\n",
              "      <td>0.1010</td>\n",
              "      <td>0.1500</td>\n",
              "      <td>15</td>\n",
              "    </tr>\n",
              "    <tr>\n",
              "      <th>1</th>\n",
              "      <td>M</td>\n",
              "      <td>0.350</td>\n",
              "      <td>0.265</td>\n",
              "      <td>0.090</td>\n",
              "      <td>0.2255</td>\n",
              "      <td>0.0995</td>\n",
              "      <td>0.0485</td>\n",
              "      <td>0.0700</td>\n",
              "      <td>7</td>\n",
              "    </tr>\n",
              "    <tr>\n",
              "      <th>2</th>\n",
              "      <td>F</td>\n",
              "      <td>0.530</td>\n",
              "      <td>0.420</td>\n",
              "      <td>0.135</td>\n",
              "      <td>0.6770</td>\n",
              "      <td>0.2565</td>\n",
              "      <td>0.1415</td>\n",
              "      <td>0.2100</td>\n",
              "      <td>9</td>\n",
              "    </tr>\n",
              "    <tr>\n",
              "      <th>3</th>\n",
              "      <td>M</td>\n",
              "      <td>0.440</td>\n",
              "      <td>0.365</td>\n",
              "      <td>0.125</td>\n",
              "      <td>0.5160</td>\n",
              "      <td>0.2155</td>\n",
              "      <td>0.1140</td>\n",
              "      <td>0.1550</td>\n",
              "      <td>10</td>\n",
              "    </tr>\n",
              "    <tr>\n",
              "      <th>4</th>\n",
              "      <td>I</td>\n",
              "      <td>0.330</td>\n",
              "      <td>0.255</td>\n",
              "      <td>0.080</td>\n",
              "      <td>0.2050</td>\n",
              "      <td>0.0895</td>\n",
              "      <td>0.0395</td>\n",
              "      <td>0.0550</td>\n",
              "      <td>7</td>\n",
              "    </tr>\n",
              "    <tr>\n",
              "      <th>...</th>\n",
              "      <td>...</td>\n",
              "      <td>...</td>\n",
              "      <td>...</td>\n",
              "      <td>...</td>\n",
              "      <td>...</td>\n",
              "      <td>...</td>\n",
              "      <td>...</td>\n",
              "      <td>...</td>\n",
              "      <td>...</td>\n",
              "    </tr>\n",
              "    <tr>\n",
              "      <th>4172</th>\n",
              "      <td>F</td>\n",
              "      <td>0.565</td>\n",
              "      <td>0.450</td>\n",
              "      <td>0.165</td>\n",
              "      <td>0.8870</td>\n",
              "      <td>0.3700</td>\n",
              "      <td>0.2390</td>\n",
              "      <td>0.2490</td>\n",
              "      <td>11</td>\n",
              "    </tr>\n",
              "    <tr>\n",
              "      <th>4173</th>\n",
              "      <td>M</td>\n",
              "      <td>0.590</td>\n",
              "      <td>0.440</td>\n",
              "      <td>0.135</td>\n",
              "      <td>0.9660</td>\n",
              "      <td>0.4390</td>\n",
              "      <td>0.2145</td>\n",
              "      <td>0.2605</td>\n",
              "      <td>10</td>\n",
              "    </tr>\n",
              "    <tr>\n",
              "      <th>4174</th>\n",
              "      <td>M</td>\n",
              "      <td>0.600</td>\n",
              "      <td>0.475</td>\n",
              "      <td>0.205</td>\n",
              "      <td>1.1760</td>\n",
              "      <td>0.5255</td>\n",
              "      <td>0.2875</td>\n",
              "      <td>0.3080</td>\n",
              "      <td>9</td>\n",
              "    </tr>\n",
              "    <tr>\n",
              "      <th>4175</th>\n",
              "      <td>F</td>\n",
              "      <td>0.625</td>\n",
              "      <td>0.485</td>\n",
              "      <td>0.150</td>\n",
              "      <td>1.0945</td>\n",
              "      <td>0.5310</td>\n",
              "      <td>0.2610</td>\n",
              "      <td>0.2960</td>\n",
              "      <td>10</td>\n",
              "    </tr>\n",
              "    <tr>\n",
              "      <th>4176</th>\n",
              "      <td>M</td>\n",
              "      <td>0.710</td>\n",
              "      <td>0.555</td>\n",
              "      <td>0.195</td>\n",
              "      <td>1.9485</td>\n",
              "      <td>0.9455</td>\n",
              "      <td>0.3765</td>\n",
              "      <td>0.4950</td>\n",
              "      <td>12</td>\n",
              "    </tr>\n",
              "  </tbody>\n",
              "</table>\n",
              "<p>4177 rows × 9 columns</p>\n",
              "</div>\n",
              "    <div class=\"colab-df-buttons\">\n",
              "\n",
              "  <div class=\"colab-df-container\">\n",
              "    <button class=\"colab-df-convert\" onclick=\"convertToInteractive('df-41ece22f-aac9-4e2f-916d-e2088ee8646b')\"\n",
              "            title=\"Convert this dataframe to an interactive table.\"\n",
              "            style=\"display:none;\">\n",
              "\n",
              "  <svg xmlns=\"http://www.w3.org/2000/svg\" height=\"24px\" viewBox=\"0 -960 960 960\">\n",
              "    <path d=\"M120-120v-720h720v720H120Zm60-500h600v-160H180v160Zm220 220h160v-160H400v160Zm0 220h160v-160H400v160ZM180-400h160v-160H180v160Zm440 0h160v-160H620v160ZM180-180h160v-160H180v160Zm440 0h160v-160H620v160Z\"/>\n",
              "  </svg>\n",
              "    </button>\n",
              "\n",
              "  <style>\n",
              "    .colab-df-container {\n",
              "      display:flex;\n",
              "      gap: 12px;\n",
              "    }\n",
              "\n",
              "    .colab-df-convert {\n",
              "      background-color: #E8F0FE;\n",
              "      border: none;\n",
              "      border-radius: 50%;\n",
              "      cursor: pointer;\n",
              "      display: none;\n",
              "      fill: #1967D2;\n",
              "      height: 32px;\n",
              "      padding: 0 0 0 0;\n",
              "      width: 32px;\n",
              "    }\n",
              "\n",
              "    .colab-df-convert:hover {\n",
              "      background-color: #E2EBFA;\n",
              "      box-shadow: 0px 1px 2px rgba(60, 64, 67, 0.3), 0px 1px 3px 1px rgba(60, 64, 67, 0.15);\n",
              "      fill: #174EA6;\n",
              "    }\n",
              "\n",
              "    .colab-df-buttons div {\n",
              "      margin-bottom: 4px;\n",
              "    }\n",
              "\n",
              "    [theme=dark] .colab-df-convert {\n",
              "      background-color: #3B4455;\n",
              "      fill: #D2E3FC;\n",
              "    }\n",
              "\n",
              "    [theme=dark] .colab-df-convert:hover {\n",
              "      background-color: #434B5C;\n",
              "      box-shadow: 0px 1px 3px 1px rgba(0, 0, 0, 0.15);\n",
              "      filter: drop-shadow(0px 1px 2px rgba(0, 0, 0, 0.3));\n",
              "      fill: #FFFFFF;\n",
              "    }\n",
              "  </style>\n",
              "\n",
              "    <script>\n",
              "      const buttonEl =\n",
              "        document.querySelector('#df-41ece22f-aac9-4e2f-916d-e2088ee8646b button.colab-df-convert');\n",
              "      buttonEl.style.display =\n",
              "        google.colab.kernel.accessAllowed ? 'block' : 'none';\n",
              "\n",
              "      async function convertToInteractive(key) {\n",
              "        const element = document.querySelector('#df-41ece22f-aac9-4e2f-916d-e2088ee8646b');\n",
              "        const dataTable =\n",
              "          await google.colab.kernel.invokeFunction('convertToInteractive',\n",
              "                                                    [key], {});\n",
              "        if (!dataTable) return;\n",
              "\n",
              "        const docLinkHtml = 'Like what you see? Visit the ' +\n",
              "          '<a target=\"_blank\" href=https://colab.research.google.com/notebooks/data_table.ipynb>data table notebook</a>'\n",
              "          + ' to learn more about interactive tables.';\n",
              "        element.innerHTML = '';\n",
              "        dataTable['output_type'] = 'display_data';\n",
              "        await google.colab.output.renderOutput(dataTable, element);\n",
              "        const docLink = document.createElement('div');\n",
              "        docLink.innerHTML = docLinkHtml;\n",
              "        element.appendChild(docLink);\n",
              "      }\n",
              "    </script>\n",
              "  </div>\n",
              "\n",
              "\n",
              "<div id=\"df-bbdef034-6f48-4ea0-8f9f-390d31e4f62c\">\n",
              "  <button class=\"colab-df-quickchart\" onclick=\"quickchart('df-bbdef034-6f48-4ea0-8f9f-390d31e4f62c')\"\n",
              "            title=\"Suggest charts\"\n",
              "            style=\"display:none;\">\n",
              "\n",
              "<svg xmlns=\"http://www.w3.org/2000/svg\" height=\"24px\"viewBox=\"0 0 24 24\"\n",
              "     width=\"24px\">\n",
              "    <g>\n",
              "        <path d=\"M19 3H5c-1.1 0-2 .9-2 2v14c0 1.1.9 2 2 2h14c1.1 0 2-.9 2-2V5c0-1.1-.9-2-2-2zM9 17H7v-7h2v7zm4 0h-2V7h2v10zm4 0h-2v-4h2v4z\"/>\n",
              "    </g>\n",
              "</svg>\n",
              "  </button>\n",
              "\n",
              "<style>\n",
              "  .colab-df-quickchart {\n",
              "      --bg-color: #E8F0FE;\n",
              "      --fill-color: #1967D2;\n",
              "      --hover-bg-color: #E2EBFA;\n",
              "      --hover-fill-color: #174EA6;\n",
              "      --disabled-fill-color: #AAA;\n",
              "      --disabled-bg-color: #DDD;\n",
              "  }\n",
              "\n",
              "  [theme=dark] .colab-df-quickchart {\n",
              "      --bg-color: #3B4455;\n",
              "      --fill-color: #D2E3FC;\n",
              "      --hover-bg-color: #434B5C;\n",
              "      --hover-fill-color: #FFFFFF;\n",
              "      --disabled-bg-color: #3B4455;\n",
              "      --disabled-fill-color: #666;\n",
              "  }\n",
              "\n",
              "  .colab-df-quickchart {\n",
              "    background-color: var(--bg-color);\n",
              "    border: none;\n",
              "    border-radius: 50%;\n",
              "    cursor: pointer;\n",
              "    display: none;\n",
              "    fill: var(--fill-color);\n",
              "    height: 32px;\n",
              "    padding: 0;\n",
              "    width: 32px;\n",
              "  }\n",
              "\n",
              "  .colab-df-quickchart:hover {\n",
              "    background-color: var(--hover-bg-color);\n",
              "    box-shadow: 0 1px 2px rgba(60, 64, 67, 0.3), 0 1px 3px 1px rgba(60, 64, 67, 0.15);\n",
              "    fill: var(--button-hover-fill-color);\n",
              "  }\n",
              "\n",
              "  .colab-df-quickchart-complete:disabled,\n",
              "  .colab-df-quickchart-complete:disabled:hover {\n",
              "    background-color: var(--disabled-bg-color);\n",
              "    fill: var(--disabled-fill-color);\n",
              "    box-shadow: none;\n",
              "  }\n",
              "\n",
              "  .colab-df-spinner {\n",
              "    border: 2px solid var(--fill-color);\n",
              "    border-color: transparent;\n",
              "    border-bottom-color: var(--fill-color);\n",
              "    animation:\n",
              "      spin 1s steps(1) infinite;\n",
              "  }\n",
              "\n",
              "  @keyframes spin {\n",
              "    0% {\n",
              "      border-color: transparent;\n",
              "      border-bottom-color: var(--fill-color);\n",
              "      border-left-color: var(--fill-color);\n",
              "    }\n",
              "    20% {\n",
              "      border-color: transparent;\n",
              "      border-left-color: var(--fill-color);\n",
              "      border-top-color: var(--fill-color);\n",
              "    }\n",
              "    30% {\n",
              "      border-color: transparent;\n",
              "      border-left-color: var(--fill-color);\n",
              "      border-top-color: var(--fill-color);\n",
              "      border-right-color: var(--fill-color);\n",
              "    }\n",
              "    40% {\n",
              "      border-color: transparent;\n",
              "      border-right-color: var(--fill-color);\n",
              "      border-top-color: var(--fill-color);\n",
              "    }\n",
              "    60% {\n",
              "      border-color: transparent;\n",
              "      border-right-color: var(--fill-color);\n",
              "    }\n",
              "    80% {\n",
              "      border-color: transparent;\n",
              "      border-right-color: var(--fill-color);\n",
              "      border-bottom-color: var(--fill-color);\n",
              "    }\n",
              "    90% {\n",
              "      border-color: transparent;\n",
              "      border-bottom-color: var(--fill-color);\n",
              "    }\n",
              "  }\n",
              "</style>\n",
              "\n",
              "  <script>\n",
              "    async function quickchart(key) {\n",
              "      const quickchartButtonEl =\n",
              "        document.querySelector('#' + key + ' button');\n",
              "      quickchartButtonEl.disabled = true;  // To prevent multiple clicks.\n",
              "      quickchartButtonEl.classList.add('colab-df-spinner');\n",
              "      try {\n",
              "        const charts = await google.colab.kernel.invokeFunction(\n",
              "            'suggestCharts', [key], {});\n",
              "      } catch (error) {\n",
              "        console.error('Error during call to suggestCharts:', error);\n",
              "      }\n",
              "      quickchartButtonEl.classList.remove('colab-df-spinner');\n",
              "      quickchartButtonEl.classList.add('colab-df-quickchart-complete');\n",
              "    }\n",
              "    (() => {\n",
              "      let quickchartButtonEl =\n",
              "        document.querySelector('#df-bbdef034-6f48-4ea0-8f9f-390d31e4f62c button');\n",
              "      quickchartButtonEl.style.display =\n",
              "        google.colab.kernel.accessAllowed ? 'block' : 'none';\n",
              "    })();\n",
              "  </script>\n",
              "</div>\n",
              "\n",
              "  <div id=\"id_4e54e644-6eef-41b2-8e2b-65501ce67818\">\n",
              "    <style>\n",
              "      .colab-df-generate {\n",
              "        background-color: #E8F0FE;\n",
              "        border: none;\n",
              "        border-radius: 50%;\n",
              "        cursor: pointer;\n",
              "        display: none;\n",
              "        fill: #1967D2;\n",
              "        height: 32px;\n",
              "        padding: 0 0 0 0;\n",
              "        width: 32px;\n",
              "      }\n",
              "\n",
              "      .colab-df-generate:hover {\n",
              "        background-color: #E2EBFA;\n",
              "        box-shadow: 0px 1px 2px rgba(60, 64, 67, 0.3), 0px 1px 3px 1px rgba(60, 64, 67, 0.15);\n",
              "        fill: #174EA6;\n",
              "      }\n",
              "\n",
              "      [theme=dark] .colab-df-generate {\n",
              "        background-color: #3B4455;\n",
              "        fill: #D2E3FC;\n",
              "      }\n",
              "\n",
              "      [theme=dark] .colab-df-generate:hover {\n",
              "        background-color: #434B5C;\n",
              "        box-shadow: 0px 1px 3px 1px rgba(0, 0, 0, 0.15);\n",
              "        filter: drop-shadow(0px 1px 2px rgba(0, 0, 0, 0.3));\n",
              "        fill: #FFFFFF;\n",
              "      }\n",
              "    </style>\n",
              "    <button class=\"colab-df-generate\" onclick=\"generateWithVariable('rest_data')\"\n",
              "            title=\"Generate code using this dataframe.\"\n",
              "            style=\"display:none;\">\n",
              "\n",
              "  <svg xmlns=\"http://www.w3.org/2000/svg\" height=\"24px\"viewBox=\"0 0 24 24\"\n",
              "       width=\"24px\">\n",
              "    <path d=\"M7,19H8.4L18.45,9,17,7.55,7,17.6ZM5,21V16.75L18.45,3.32a2,2,0,0,1,2.83,0l1.4,1.43a1.91,1.91,0,0,1,.58,1.4,1.91,1.91,0,0,1-.58,1.4L9.25,21ZM18.45,9,17,7.55Zm-12,3A5.31,5.31,0,0,0,4.9,8.1,5.31,5.31,0,0,0,1,6.5,5.31,5.31,0,0,0,4.9,4.9,5.31,5.31,0,0,0,6.5,1,5.31,5.31,0,0,0,8.1,4.9,5.31,5.31,0,0,0,12,6.5,5.46,5.46,0,0,0,6.5,12Z\"/>\n",
              "  </svg>\n",
              "    </button>\n",
              "    <script>\n",
              "      (() => {\n",
              "      const buttonEl =\n",
              "        document.querySelector('#id_4e54e644-6eef-41b2-8e2b-65501ce67818 button.colab-df-generate');\n",
              "      buttonEl.style.display =\n",
              "        google.colab.kernel.accessAllowed ? 'block' : 'none';\n",
              "\n",
              "      buttonEl.onclick = () => {\n",
              "        google.colab.notebook.generateWithVariable('rest_data');\n",
              "      }\n",
              "      })();\n",
              "    </script>\n",
              "  </div>\n",
              "\n",
              "    </div>\n",
              "  </div>\n"
            ],
            "application/vnd.google.colaboratory.intrinsic+json": {
              "type": "dataframe",
              "variable_name": "rest_data",
              "summary": "{\n  \"name\": \"rest_data\",\n  \"rows\": 4177,\n  \"fields\": [\n    {\n      \"column\": \"Sex\",\n      \"properties\": {\n        \"dtype\": \"category\",\n        \"num_unique_values\": 3,\n        \"samples\": [\n          \"M\",\n          \"F\",\n          \"I\"\n        ],\n        \"semantic_type\": \"\",\n        \"description\": \"\"\n      }\n    },\n    {\n      \"column\": \"Length\",\n      \"properties\": {\n        \"dtype\": \"number\",\n        \"std\": 0.12009291256479956,\n        \"min\": 0.075,\n        \"max\": 0.815,\n        \"num_unique_values\": 134,\n        \"samples\": [\n          0.815,\n          0.65,\n          0.29\n        ],\n        \"semantic_type\": \"\",\n        \"description\": \"\"\n      }\n    },\n    {\n      \"column\": \"Diameter\",\n      \"properties\": {\n        \"dtype\": \"number\",\n        \"std\": 0.09923986613365945,\n        \"min\": 0.055,\n        \"max\": 0.65,\n        \"num_unique_values\": 111,\n        \"samples\": [\n          0.09,\n          0.35,\n          0.3\n        ],\n        \"semantic_type\": \"\",\n        \"description\": \"\"\n      }\n    },\n    {\n      \"column\": \"Height\",\n      \"properties\": {\n        \"dtype\": \"number\",\n        \"std\": 0.041827056607257274,\n        \"min\": 0.0,\n        \"max\": 1.13,\n        \"num_unique_values\": 51,\n        \"samples\": [\n          0.235,\n          0.035,\n          0.015\n        ],\n        \"semantic_type\": \"\",\n        \"description\": \"\"\n      }\n    },\n    {\n      \"column\": \"Whole_weight\",\n      \"properties\": {\n        \"dtype\": \"number\",\n        \"std\": 0.4903890182309977,\n        \"min\": 0.002,\n        \"max\": 2.8255,\n        \"num_unique_values\": 2429,\n        \"samples\": [\n          1.2825,\n          1.09,\n          0.131\n        ],\n        \"semantic_type\": \"\",\n        \"description\": \"\"\n      }\n    },\n    {\n      \"column\": \"Shucked_weight\",\n      \"properties\": {\n        \"dtype\": \"number\",\n        \"std\": 0.22196294903322014,\n        \"min\": 0.001,\n        \"max\": 1.488,\n        \"num_unique_values\": 1515,\n        \"samples\": [\n          0.2105,\n          0.0645,\n          0.476\n        ],\n        \"semantic_type\": \"\",\n        \"description\": \"\"\n      }\n    },\n    {\n      \"column\": \"Viscera_weight\",\n      \"properties\": {\n        \"dtype\": \"number\",\n        \"std\": 0.10961425025968446,\n        \"min\": 0.0005,\n        \"max\": 0.76,\n        \"num_unique_values\": 880,\n        \"samples\": [\n          0.0645,\n          0.0095,\n          0.1115\n        ],\n        \"semantic_type\": \"\",\n        \"description\": \"\"\n      }\n    },\n    {\n      \"column\": \"Shell_weight\",\n      \"properties\": {\n        \"dtype\": \"number\",\n        \"std\": 0.1392026695223861,\n        \"min\": 0.0015,\n        \"max\": 1.005,\n        \"num_unique_values\": 926,\n        \"samples\": [\n          0.3745,\n          0.2825,\n          0.49\n        ],\n        \"semantic_type\": \"\",\n        \"description\": \"\"\n      }\n    },\n    {\n      \"column\": \"Rings\",\n      \"properties\": {\n        \"dtype\": \"number\",\n        \"std\": 3,\n        \"min\": 1,\n        \"max\": 29,\n        \"num_unique_values\": 28,\n        \"samples\": [\n          11,\n          27,\n          14\n        ],\n        \"semantic_type\": \"\",\n        \"description\": \"\"\n      }\n    }\n  ]\n}"
            }
          },
          "metadata": {},
          "execution_count": 6
        }
      ],
      "source": [
        "rest_data"
      ]
    },
    {
      "cell_type": "code",
      "execution_count": null,
      "metadata": {
        "colab": {
          "base_uri": "https://localhost:8080/"
        },
        "id": "U90Vzr873Ae3",
        "outputId": "81a9da7d-05ee-4e4f-ddb9-3dd4fdeb2b8b"
      },
      "outputs": [
        {
          "output_type": "stream",
          "name": "stdout",
          "text": [
            "Archive:  playground-series-s4e4.zip\n",
            "  inflating: sample_submission.csv   \n",
            "  inflating: test.csv                \n",
            "  inflating: train.csv               \n"
          ]
        }
      ],
      "source": [
        "!unzip playground-series-s4e4.zip"
      ]
    },
    {
      "cell_type": "code",
      "execution_count": null,
      "metadata": {
        "id": "B35a0gUS3GWb"
      },
      "outputs": [],
      "source": [
        "train = pd.read_csv('train.csv')\n",
        "test = pd.read_csv('test.csv')"
      ]
    },
    {
      "cell_type": "code",
      "execution_count": null,
      "metadata": {
        "id": "qefJENyVdzg5"
      },
      "outputs": [],
      "source": [
        "id = test[\"id\"]"
      ]
    },
    {
      "cell_type": "code",
      "execution_count": null,
      "metadata": {
        "id": "a05KGs75dtkC"
      },
      "outputs": [],
      "source": [
        "train.drop(columns=[\"id\"],inplace=True)\n",
        "test.drop(columns=[\"id\"],inplace=True)"
      ]
    },
    {
      "cell_type": "code",
      "execution_count": null,
      "metadata": {
        "id": "q1q1xylxdqaF"
      },
      "outputs": [],
      "source": [
        "rest_data.columns = train.columns"
      ]
    },
    {
      "cell_type": "code",
      "execution_count": null,
      "metadata": {
        "id": "-QDSMKQmcqi4"
      },
      "outputs": [],
      "source": [
        "train = pd.concat([train,rest_data],axis=0)"
      ]
    },
    {
      "cell_type": "code",
      "execution_count": null,
      "metadata": {
        "id": "4ObcHqVJ3ImV"
      },
      "outputs": [],
      "source": [
        "train[\"Sex\"] = train[\"Sex\"].astype(\"category\").cat.codes\n",
        "test[\"Sex\"] = test[\"Sex\"].astype(\"category\").cat.codes"
      ]
    },
    {
      "cell_type": "code",
      "execution_count": null,
      "metadata": {
        "id": "9CL_diU23tZ3"
      },
      "outputs": [],
      "source": [
        "!pip install catboost"
      ]
    },
    {
      "cell_type": "code",
      "execution_count": null,
      "metadata": {
        "id": "YoCzAuQQ69BZ"
      },
      "outputs": [],
      "source": [
        "from catboost import CatBoostRegressor,Pool"
      ]
    },
    {
      "cell_type": "code",
      "execution_count": null,
      "metadata": {
        "id": "PUwnYU2h7DCI"
      },
      "outputs": [],
      "source": [
        "from sklearn.model_selection import train_test_split"
      ]
    },
    {
      "cell_type": "code",
      "execution_count": null,
      "metadata": {
        "id": "ZwrswmkH7JC3"
      },
      "outputs": [],
      "source": [
        "x_train,x_test,y_train,y_test = train_test_split(train.drop(columns=[\"Rings\"]),train[\"Rings\"],test_size=0.2)"
      ]
    },
    {
      "cell_type": "code",
      "execution_count": null,
      "metadata": {
        "id": "MInn7B597Po_"
      },
      "outputs": [],
      "source": [
        "train_pool = Pool(x_train,y_train)\n",
        "test_pool = Pool(x_test,y_test)"
      ]
    },
    {
      "cell_type": "code",
      "execution_count": null,
      "metadata": {
        "id": "oyY5tKOy7W3Y"
      },
      "outputs": [],
      "source": [
        "model = CatBoostRegressor(verbose=False)"
      ]
    },
    {
      "cell_type": "code",
      "execution_count": null,
      "metadata": {
        "id": "COFH1hpMHSHT"
      },
      "outputs": [],
      "source": [
        "grid = {'learning_rate': [0.03, 0.05,0.01,0.02],\n",
        "        'depth': [3,4, 6, 10,12],\n",
        "        'l2_leaf_reg': [1, 3, 5, 7, 9,6],\n",
        "        'iterations':[100,300,500,700,800]}"
      ]
    },
    {
      "cell_type": "code",
      "execution_count": null,
      "metadata": {
        "colab": {
          "base_uri": "https://localhost:8080/",
          "height": 1000,
          "referenced_widgets": [
            "f4974439e1ec4799b33a03927660e5b2"
          ]
        },
        "id": "uikO8YapHVLv",
        "outputId": "4f774ec2-39b9-4e4c-ff12-19349bc15963"
      },
      "outputs": [
        {
          "output_type": "display_data",
          "data": {
            "text/plain": [
              "MetricVisualizer(layout=Layout(align_self='stretch', height='500px'))"
            ],
            "application/vnd.jupyter.widget-view+json": {
              "version_major": 2,
              "version_minor": 0,
              "model_id": "f4974439e1ec4799b33a03927660e5b2"
            }
          },
          "metadata": {}
        },
        {
          "output_type": "stream",
          "name": "stdout",
          "text": [
            "\n",
            "bestTest = 1.883371356\n",
            "bestIteration = 698\n",
            "\n",
            "\n",
            "bestTest = 1.899185066\n",
            "bestIteration = 699\n",
            "\n",
            "\n",
            "bestTest = 1.964653818\n",
            "bestIteration = 799\n",
            "\n",
            "\n",
            "bestTest = 1.894238964\n",
            "bestIteration = 799\n",
            "\n",
            "\n",
            "bestTest = 2.531616065\n",
            "bestIteration = 99\n",
            "\n",
            "\n",
            "bestTest = 2.532754182\n",
            "bestIteration = 99\n",
            "\n",
            "\n",
            "bestTest = 1.902210886\n",
            "bestIteration = 699\n",
            "\n",
            "\n",
            "bestTest = 1.880878892\n",
            "bestIteration = 799\n",
            "\n",
            "\n",
            "bestTest = 1.865667197\n",
            "bestIteration = 499\n",
            "\n",
            "\n",
            "bestTest = 2.026685234\n",
            "bestIteration = 99\n",
            "\n",
            "\n",
            "bestTest = 4.256768912\n",
            "bestIteration = 99\n",
            "\n",
            "\n",
            "bestTest = 2.026581972\n",
            "bestIteration = 299\n",
            "\n",
            "\n",
            "bestTest = 1.906625816\n",
            "bestIteration = 299\n",
            "\n",
            "\n",
            "bestTest = 1.85915102\n",
            "bestIteration = 699\n",
            "\n",
            "\n",
            "bestTest = 1.888429515\n",
            "bestIteration = 799\n",
            "\n",
            "\n",
            "bestTest = 1.889379766\n",
            "bestIteration = 799\n",
            "\n",
            "\n",
            "bestTest = 1.853306847\n",
            "bestIteration = 798\n",
            "\n",
            "\n",
            "bestTest = 1.910640185\n",
            "bestIteration = 99\n",
            "\n",
            "\n",
            "bestTest = 2.431480399\n",
            "bestIteration = 99\n",
            "\n",
            "\n",
            "bestTest = 1.869171959\n",
            "bestIteration = 299\n",
            "\n",
            "Training on fold [0/5]\n",
            "\n",
            "bestTest = 1.865933076\n",
            "bestIteration = 790\n",
            "\n",
            "Training on fold [1/5]\n",
            "\n",
            "bestTest = 1.877420096\n",
            "bestIteration = 799\n",
            "\n",
            "Training on fold [2/5]\n",
            "\n",
            "bestTest = 1.858902602\n",
            "bestIteration = 794\n",
            "\n",
            "Training on fold [3/5]\n",
            "\n",
            "bestTest = 1.856771237\n",
            "bestIteration = 799\n",
            "\n",
            "Training on fold [4/5]\n",
            "\n",
            "bestTest = 1.850735165\n",
            "bestIteration = 798\n",
            "\n"
          ]
        }
      ],
      "source": [
        "randomized_search_result = model.randomized_search(grid,\n",
        "                                                   cv=5,\n",
        "                                                   n_iter=20,\n",
        "                                                   X=x_train,\n",
        "                                                   y=y_train,\n",
        "                                                   plot=True,verbose=False)"
      ]
    },
    {
      "cell_type": "code",
      "execution_count": null,
      "metadata": {
        "colab": {
          "base_uri": "https://localhost:8080/"
        },
        "id": "TIqBcVjU9Gv0",
        "outputId": "3b75b564-6f3c-4207-8070-a08c3fc2fca7"
      },
      "outputs": [
        {
          "data": {
            "text/plain": [
              "<catboost.core.CatBoostRegressor at 0x7cf3a699db70>"
            ]
          },
          "execution_count": 133,
          "metadata": {},
          "output_type": "execute_result"
        }
      ],
      "source": [
        "model.fit(train_pool,eval_set=test_pool,verbose=False)"
      ]
    },
    {
      "cell_type": "code",
      "execution_count": null,
      "metadata": {
        "id": "xF1fvQ1r_8pT"
      },
      "outputs": [],
      "source": [
        "meta_data = model.get_metadata()"
      ]
    },
    {
      "cell_type": "code",
      "execution_count": null,
      "metadata": {
        "colab": {
          "base_uri": "https://localhost:8080/"
        },
        "id": "D4qVgWgkAFga",
        "outputId": "a0965935-06c0-49fa-c0b4-6dc543a50429"
      },
      "outputs": [
        {
          "output_type": "stream",
          "name": "stdout",
          "text": [
            "catboost_version_info\n",
            "train_finish_time\n",
            "output_options\n",
            "training\n",
            "model_guid\n",
            "params\n"
          ]
        }
      ],
      "source": [
        "for i in meta_data:\n",
        "  print(i)"
      ]
    },
    {
      "cell_type": "code",
      "execution_count": null,
      "metadata": {
        "id": "A1K2wYl3ANYI"
      },
      "outputs": [],
      "source": [
        "import json"
      ]
    },
    {
      "cell_type": "code",
      "execution_count": null,
      "metadata": {
        "id": "m92sBD6fAKQj"
      },
      "outputs": [],
      "source": [
        "history = json.loads(meta_data[\"training\"])"
      ]
    },
    {
      "cell_type": "code",
      "execution_count": null,
      "metadata": {
        "colab": {
          "base_uri": "https://localhost:8080/"
        },
        "id": "pH-heeS2E4Sr",
        "outputId": "1cd3b693-3bb7-4203-a8b3-1585542fe5fe"
      },
      "outputs": [
        {
          "output_type": "execute_result",
          "data": {
            "text/plain": [
              "{'metrics': {'learn_best_error': {'RMSE': 1.6971926203470864},\n",
              "  'test_metrics_history': [],\n",
              "  'learn_metrics_history': [{'RMSE': 3.0921762354269413},\n",
              "   {'RMSE': 3.014258790469482},\n",
              "   {'RMSE': 2.9393054580535596},\n",
              "   {'RMSE': 2.8699549843419283},\n",
              "   {'RMSE': 2.802394669394124},\n",
              "   {'RMSE': 2.741119482645711},\n",
              "   {'RMSE': 2.685949965434351},\n",
              "   {'RMSE': 2.6322059692365816},\n",
              "   {'RMSE': 2.582162221682958},\n",
              "   {'RMSE': 2.536000299101559},\n",
              "   {'RMSE': 2.4938397806743304},\n",
              "   {'RMSE': 2.4549667662315855},\n",
              "   {'RMSE': 2.4186141566800528},\n",
              "   {'RMSE': 2.382915561369849},\n",
              "   {'RMSE': 2.351020941837974},\n",
              "   {'RMSE': 2.3217440057808134},\n",
              "   {'RMSE': 2.2951578819809053},\n",
              "   {'RMSE': 2.2695553877103833},\n",
              "   {'RMSE': 2.246161125051088},\n",
              "   {'RMSE': 2.2243103387284577},\n",
              "   {'RMSE': 2.2040749132570614},\n",
              "   {'RMSE': 2.185233119501826},\n",
              "   {'RMSE': 2.1666989893335864},\n",
              "   {'RMSE': 2.1504050607802547},\n",
              "   {'RMSE': 2.135356559286736},\n",
              "   {'RMSE': 2.1214909937179174},\n",
              "   {'RMSE': 2.1083455341694473},\n",
              "   {'RMSE': 2.095935991629267},\n",
              "   {'RMSE': 2.0852001260580217},\n",
              "   {'RMSE': 2.0746790146842526},\n",
              "   {'RMSE': 2.064591828508333},\n",
              "   {'RMSE': 2.056225272865253},\n",
              "   {'RMSE': 2.0474327569273565},\n",
              "   {'RMSE': 2.0397460315683165},\n",
              "   {'RMSE': 2.032267030589265},\n",
              "   {'RMSE': 2.0253380573596003},\n",
              "   {'RMSE': 2.0190025349183465},\n",
              "   {'RMSE': 2.012658284984199},\n",
              "   {'RMSE': 2.006723366630441},\n",
              "   {'RMSE': 2.001751136740299},\n",
              "   {'RMSE': 1.996714282909971},\n",
              "   {'RMSE': 1.9920715137010607},\n",
              "   {'RMSE': 1.9875678706538447},\n",
              "   {'RMSE': 1.9831761632701488},\n",
              "   {'RMSE': 1.9787211409248169},\n",
              "   {'RMSE': 1.9745758410948957},\n",
              "   {'RMSE': 1.9706391238882417},\n",
              "   {'RMSE': 1.9674157559754157},\n",
              "   {'RMSE': 1.96429000777034},\n",
              "   {'RMSE': 1.9608717739645247},\n",
              "   {'RMSE': 1.958456917063839},\n",
              "   {'RMSE': 1.9559076803206947},\n",
              "   {'RMSE': 1.9535630484057986},\n",
              "   {'RMSE': 1.9511749852508693},\n",
              "   {'RMSE': 1.9487486385387716},\n",
              "   {'RMSE': 1.946539414807602},\n",
              "   {'RMSE': 1.9444542432729224},\n",
              "   {'RMSE': 1.9422688692394408},\n",
              "   {'RMSE': 1.9403318423993108},\n",
              "   {'RMSE': 1.9387152637835041},\n",
              "   {'RMSE': 1.9370487833050918},\n",
              "   {'RMSE': 1.9355722167949638},\n",
              "   {'RMSE': 1.9340454052901639},\n",
              "   {'RMSE': 1.9326932953339226},\n",
              "   {'RMSE': 1.9310900618165596},\n",
              "   {'RMSE': 1.9293410161220699},\n",
              "   {'RMSE': 1.9278201018919827},\n",
              "   {'RMSE': 1.926468805485395},\n",
              "   {'RMSE': 1.925079760278693},\n",
              "   {'RMSE': 1.9237374494523716},\n",
              "   {'RMSE': 1.9223364380207595},\n",
              "   {'RMSE': 1.9208791463101647},\n",
              "   {'RMSE': 1.919565043861484},\n",
              "   {'RMSE': 1.918366153471996},\n",
              "   {'RMSE': 1.917114211536149},\n",
              "   {'RMSE': 1.9160163867275641},\n",
              "   {'RMSE': 1.9150963374185115},\n",
              "   {'RMSE': 1.9139484189494471},\n",
              "   {'RMSE': 1.9130027389059587},\n",
              "   {'RMSE': 1.9120534054386045},\n",
              "   {'RMSE': 1.9112268780966706},\n",
              "   {'RMSE': 1.9104705418744599},\n",
              "   {'RMSE': 1.9094009962469924},\n",
              "   {'RMSE': 1.9087708052042336},\n",
              "   {'RMSE': 1.9077606370868143},\n",
              "   {'RMSE': 1.9067800439675529},\n",
              "   {'RMSE': 1.9058780813133134},\n",
              "   {'RMSE': 1.9050143573308913},\n",
              "   {'RMSE': 1.9041369828869887},\n",
              "   {'RMSE': 1.9035269920928481},\n",
              "   {'RMSE': 1.9028243059098282},\n",
              "   {'RMSE': 1.9018696772275911},\n",
              "   {'RMSE': 1.900957442690756},\n",
              "   {'RMSE': 1.9004070878241823},\n",
              "   {'RMSE': 1.8995272990219014},\n",
              "   {'RMSE': 1.8986064233527133},\n",
              "   {'RMSE': 1.8977682323511942},\n",
              "   {'RMSE': 1.8972020076692993},\n",
              "   {'RMSE': 1.89643847091555},\n",
              "   {'RMSE': 1.8956260420548343},\n",
              "   {'RMSE': 1.894834823461986},\n",
              "   {'RMSE': 1.894103701519384},\n",
              "   {'RMSE': 1.893402975779099},\n",
              "   {'RMSE': 1.8927629682137148},\n",
              "   {'RMSE': 1.8921851577827313},\n",
              "   {'RMSE': 1.8915267939514673},\n",
              "   {'RMSE': 1.890826841008035},\n",
              "   {'RMSE': 1.8902022012952404},\n",
              "   {'RMSE': 1.8896377385949998},\n",
              "   {'RMSE': 1.8887846150412904},\n",
              "   {'RMSE': 1.8881299480250777},\n",
              "   {'RMSE': 1.887549549002153},\n",
              "   {'RMSE': 1.8869433443962298},\n",
              "   {'RMSE': 1.8862329306270385},\n",
              "   {'RMSE': 1.885534731838185},\n",
              "   {'RMSE': 1.884906078798022},\n",
              "   {'RMSE': 1.8843535944827288},\n",
              "   {'RMSE': 1.8836323072220342},\n",
              "   {'RMSE': 1.8830230468180136},\n",
              "   {'RMSE': 1.8822829928128202},\n",
              "   {'RMSE': 1.8818581532998118},\n",
              "   {'RMSE': 1.8809999446608086},\n",
              "   {'RMSE': 1.880565553175133},\n",
              "   {'RMSE': 1.879900420673724},\n",
              "   {'RMSE': 1.879421873781655},\n",
              "   {'RMSE': 1.879041422859891},\n",
              "   {'RMSE': 1.8785090384730145},\n",
              "   {'RMSE': 1.877919477043515},\n",
              "   {'RMSE': 1.8775036265930525},\n",
              "   {'RMSE': 1.8770945979475784},\n",
              "   {'RMSE': 1.8765192520561254},\n",
              "   {'RMSE': 1.8760113673575913},\n",
              "   {'RMSE': 1.8754190857830604},\n",
              "   {'RMSE': 1.8748753972035892},\n",
              "   {'RMSE': 1.874477965061167},\n",
              "   {'RMSE': 1.8741086386895034},\n",
              "   {'RMSE': 1.8735240321693039},\n",
              "   {'RMSE': 1.8731029315606096},\n",
              "   {'RMSE': 1.8726139887701776},\n",
              "   {'RMSE': 1.8722857523863154},\n",
              "   {'RMSE': 1.8717767033206194},\n",
              "   {'RMSE': 1.8714295398466483},\n",
              "   {'RMSE': 1.8710629025944017},\n",
              "   {'RMSE': 1.870676082604617},\n",
              "   {'RMSE': 1.8701089195334633},\n",
              "   {'RMSE': 1.8695069318329935},\n",
              "   {'RMSE': 1.8689973647221194},\n",
              "   {'RMSE': 1.8685391208826478},\n",
              "   {'RMSE': 1.8680968058842302},\n",
              "   {'RMSE': 1.8677375666055738},\n",
              "   {'RMSE': 1.8670740947871143},\n",
              "   {'RMSE': 1.8667465424614478},\n",
              "   {'RMSE': 1.8663683172123693},\n",
              "   {'RMSE': 1.8658162496618176},\n",
              "   {'RMSE': 1.8649501070045635},\n",
              "   {'RMSE': 1.864308745316456},\n",
              "   {'RMSE': 1.8639505828823633},\n",
              "   {'RMSE': 1.863104243077333},\n",
              "   {'RMSE': 1.8627045304340444},\n",
              "   {'RMSE': 1.862197774820916},\n",
              "   {'RMSE': 1.86177099325135},\n",
              "   {'RMSE': 1.861077998007507},\n",
              "   {'RMSE': 1.8605391744745412},\n",
              "   {'RMSE': 1.8601600274381465},\n",
              "   {'RMSE': 1.8597470496206807},\n",
              "   {'RMSE': 1.859069632418542},\n",
              "   {'RMSE': 1.858858824073061},\n",
              "   {'RMSE': 1.858604936611642},\n",
              "   {'RMSE': 1.858063355227014},\n",
              "   {'RMSE': 1.857774903220336},\n",
              "   {'RMSE': 1.8572523662993883},\n",
              "   {'RMSE': 1.8569103539071423},\n",
              "   {'RMSE': 1.8564140630855934},\n",
              "   {'RMSE': 1.8559713588777513},\n",
              "   {'RMSE': 1.8557867435429427},\n",
              "   {'RMSE': 1.8552253503012568},\n",
              "   {'RMSE': 1.8547060047888624},\n",
              "   {'RMSE': 1.8542861302740385},\n",
              "   {'RMSE': 1.8536310947512167},\n",
              "   {'RMSE': 1.8533671801467748},\n",
              "   {'RMSE': 1.8529599703837505},\n",
              "   {'RMSE': 1.852284336369648},\n",
              "   {'RMSE': 1.8519615956061042},\n",
              "   {'RMSE': 1.8514681043220906},\n",
              "   {'RMSE': 1.850855897858751},\n",
              "   {'RMSE': 1.8502776839209407},\n",
              "   {'RMSE': 1.8498406639289453},\n",
              "   {'RMSE': 1.8494433609940384},\n",
              "   {'RMSE': 1.8491263388180794},\n",
              "   {'RMSE': 1.8483688833474097},\n",
              "   {'RMSE': 1.8480877783792438},\n",
              "   {'RMSE': 1.847727905308313},\n",
              "   {'RMSE': 1.8473531422985234},\n",
              "   {'RMSE': 1.846739034127295},\n",
              "   {'RMSE': 1.846314837222533},\n",
              "   {'RMSE': 1.845971829992396},\n",
              "   {'RMSE': 1.845172967682412},\n",
              "   {'RMSE': 1.8446226626765327},\n",
              "   {'RMSE': 1.8443250204363655},\n",
              "   {'RMSE': 1.843954613051719},\n",
              "   {'RMSE': 1.843422185097799},\n",
              "   {'RMSE': 1.8430395554212178},\n",
              "   {'RMSE': 1.8428777395640221},\n",
              "   {'RMSE': 1.8424127982145335},\n",
              "   {'RMSE': 1.8422559851540536},\n",
              "   {'RMSE': 1.841787543706631},\n",
              "   {'RMSE': 1.8413038031989462},\n",
              "   {'RMSE': 1.8409156773258029},\n",
              "   {'RMSE': 1.8403394924184766},\n",
              "   {'RMSE': 1.8400157132775596},\n",
              "   {'RMSE': 1.8398735201245908},\n",
              "   {'RMSE': 1.8395826760505842},\n",
              "   {'RMSE': 1.839347651494282},\n",
              "   {'RMSE': 1.839074835834922},\n",
              "   {'RMSE': 1.8387114381744147},\n",
              "   {'RMSE': 1.8383884375675734},\n",
              "   {'RMSE': 1.8380979230699503},\n",
              "   {'RMSE': 1.837931618430078},\n",
              "   {'RMSE': 1.8376270841759006},\n",
              "   {'RMSE': 1.8371005847293003},\n",
              "   {'RMSE': 1.8368937290574765},\n",
              "   {'RMSE': 1.8365590290100118},\n",
              "   {'RMSE': 1.8363165071499936},\n",
              "   {'RMSE': 1.8359349390224156},\n",
              "   {'RMSE': 1.8352560299429006},\n",
              "   {'RMSE': 1.8350767644772101},\n",
              "   {'RMSE': 1.8345693851195513},\n",
              "   {'RMSE': 1.8341832398709481},\n",
              "   {'RMSE': 1.8336869573433219},\n",
              "   {'RMSE': 1.8332756624803523},\n",
              "   {'RMSE': 1.8329205149309997},\n",
              "   {'RMSE': 1.8326127760091953},\n",
              "   {'RMSE': 1.8323870233569197},\n",
              "   {'RMSE': 1.8320766729992033},\n",
              "   {'RMSE': 1.8317461401408803},\n",
              "   {'RMSE': 1.8312407761153306},\n",
              "   {'RMSE': 1.830836823679592},\n",
              "   {'RMSE': 1.8307016506818201},\n",
              "   {'RMSE': 1.8304072778588467},\n",
              "   {'RMSE': 1.8302269955631314},\n",
              "   {'RMSE': 1.829854181308743},\n",
              "   {'RMSE': 1.8295483175500522},\n",
              "   {'RMSE': 1.8293088903943362},\n",
              "   {'RMSE': 1.829090377448332},\n",
              "   {'RMSE': 1.8287584067587355},\n",
              "   {'RMSE': 1.8284467096530053},\n",
              "   {'RMSE': 1.827986438569501},\n",
              "   {'RMSE': 1.8277864368510899},\n",
              "   {'RMSE': 1.8275023663650267},\n",
              "   {'RMSE': 1.8272414556054035},\n",
              "   {'RMSE': 1.8270128907943142},\n",
              "   {'RMSE': 1.8267438121029151},\n",
              "   {'RMSE': 1.826483812810366},\n",
              "   {'RMSE': 1.8262164598663067},\n",
              "   {'RMSE': 1.82599781518205},\n",
              "   {'RMSE': 1.8257399736580746},\n",
              "   {'RMSE': 1.825460521531255},\n",
              "   {'RMSE': 1.8252838876915838},\n",
              "   {'RMSE': 1.8247995001166957},\n",
              "   {'RMSE': 1.8243413455526354},\n",
              "   {'RMSE': 1.8240197143651768},\n",
              "   {'RMSE': 1.8238242949330201},\n",
              "   {'RMSE': 1.8235414351904544},\n",
              "   {'RMSE': 1.8232430774964683},\n",
              "   {'RMSE': 1.8229988553565648},\n",
              "   {'RMSE': 1.8227065638333715},\n",
              "   {'RMSE': 1.8220684426851308},\n",
              "   {'RMSE': 1.8218491112377215},\n",
              "   {'RMSE': 1.8215791607106788},\n",
              "   {'RMSE': 1.8213726033921338},\n",
              "   {'RMSE': 1.8212472851382695},\n",
              "   {'RMSE': 1.8209502071813364},\n",
              "   {'RMSE': 1.820546034392481},\n",
              "   {'RMSE': 1.8202159296685059},\n",
              "   {'RMSE': 1.8199838328105757},\n",
              "   {'RMSE': 1.819319950687675},\n",
              "   {'RMSE': 1.818859833690424},\n",
              "   {'RMSE': 1.8186430758967018},\n",
              "   {'RMSE': 1.8185532453754016},\n",
              "   {'RMSE': 1.8181100334801656},\n",
              "   {'RMSE': 1.8178248350687476},\n",
              "   {'RMSE': 1.8172453595666558},\n",
              "   {'RMSE': 1.8169974338595338},\n",
              "   {'RMSE': 1.8164330210556583},\n",
              "   {'RMSE': 1.8161536750232965},\n",
              "   {'RMSE': 1.81563850288991},\n",
              "   {'RMSE': 1.81545093480156},\n",
              "   {'RMSE': 1.8152755911470342},\n",
              "   {'RMSE': 1.8150411112471445},\n",
              "   {'RMSE': 1.8148564062340946},\n",
              "   {'RMSE': 1.8145476171560422},\n",
              "   {'RMSE': 1.8140711115064394},\n",
              "   {'RMSE': 1.8136317625332377},\n",
              "   {'RMSE': 1.8133951338891154},\n",
              "   {'RMSE': 1.8130425109708392},\n",
              "   {'RMSE': 1.812411526381465},\n",
              "   {'RMSE': 1.8122290434242676},\n",
              "   {'RMSE': 1.8116603221271368},\n",
              "   {'RMSE': 1.8116422617417791},\n",
              "   {'RMSE': 1.8112812816161865},\n",
              "   {'RMSE': 1.8109553177312954},\n",
              "   {'RMSE': 1.8105109379674365},\n",
              "   {'RMSE': 1.810200423516437},\n",
              "   {'RMSE': 1.8101849966762082},\n",
              "   {'RMSE': 1.8095968588975933},\n",
              "   {'RMSE': 1.8093353164288242},\n",
              "   {'RMSE': 1.809037291645795},\n",
              "   {'RMSE': 1.8089333934032248},\n",
              "   {'RMSE': 1.8086854054861512},\n",
              "   {'RMSE': 1.808548085830249},\n",
              "   {'RMSE': 1.808122606611033},\n",
              "   {'RMSE': 1.8076850010181198},\n",
              "   {'RMSE': 1.8072153718572672},\n",
              "   {'RMSE': 1.8070859367334438},\n",
              "   {'RMSE': 1.8070160705052971},\n",
              "   {'RMSE': 1.8065886920671805},\n",
              "   {'RMSE': 1.80603430163967},\n",
              "   {'RMSE': 1.8057867625684128},\n",
              "   {'RMSE': 1.8053725076928142},\n",
              "   {'RMSE': 1.8048694658322986},\n",
              "   {'RMSE': 1.8046720548080553},\n",
              "   {'RMSE': 1.804279111745384},\n",
              "   {'RMSE': 1.8039980992375084},\n",
              "   {'RMSE': 1.8037801466934795},\n",
              "   {'RMSE': 1.8033400356503773},\n",
              "   {'RMSE': 1.8031718000577752},\n",
              "   {'RMSE': 1.8030268414478263},\n",
              "   {'RMSE': 1.8027651111153606},\n",
              "   {'RMSE': 1.8021906073116956},\n",
              "   {'RMSE': 1.8018649237071223},\n",
              "   {'RMSE': 1.8017536767804283},\n",
              "   {'RMSE': 1.8015242080993659},\n",
              "   {'RMSE': 1.8012205053378452},\n",
              "   {'RMSE': 1.8009277724679043},\n",
              "   {'RMSE': 1.800715668953171},\n",
              "   {'RMSE': 1.8004919386512062},\n",
              "   {'RMSE': 1.8002220769173747},\n",
              "   {'RMSE': 1.8000167607044715},\n",
              "   {'RMSE': 1.7995659439197311},\n",
              "   {'RMSE': 1.7994376816409854},\n",
              "   {'RMSE': 1.7991520650205994},\n",
              "   {'RMSE': 1.7990369218135003},\n",
              "   {'RMSE': 1.7987738580676575},\n",
              "   {'RMSE': 1.7983550625937033},\n",
              "   {'RMSE': 1.7981444875298844},\n",
              "   {'RMSE': 1.797902928884302},\n",
              "   {'RMSE': 1.7976676520412276},\n",
              "   {'RMSE': 1.7974019855512142},\n",
              "   {'RMSE': 1.7970752867223223},\n",
              "   {'RMSE': 1.7968345840738256},\n",
              "   {'RMSE': 1.7967371983450897},\n",
              "   {'RMSE': 1.796403910339616},\n",
              "   {'RMSE': 1.7960429701465854},\n",
              "   {'RMSE': 1.7958398487731653},\n",
              "   {'RMSE': 1.7956583699475501},\n",
              "   {'RMSE': 1.795177704926819},\n",
              "   {'RMSE': 1.7948924988828783},\n",
              "   {'RMSE': 1.7943710660420409},\n",
              "   {'RMSE': 1.7941889561776738},\n",
              "   {'RMSE': 1.7938587986406846},\n",
              "   {'RMSE': 1.7935899397618595},\n",
              "   {'RMSE': 1.7935070681989471},\n",
              "   {'RMSE': 1.7932245023325357},\n",
              "   {'RMSE': 1.7928073773528252},\n",
              "   {'RMSE': 1.7923951639446227},\n",
              "   {'RMSE': 1.7919264518318423},\n",
              "   {'RMSE': 1.7914654747251322},\n",
              "   {'RMSE': 1.790987356393783},\n",
              "   {'RMSE': 1.7905460728985019},\n",
              "   {'RMSE': 1.7903571444189255},\n",
              "   {'RMSE': 1.7900105546986478},\n",
              "   {'RMSE': 1.7895850201486123},\n",
              "   {'RMSE': 1.789550290558299},\n",
              "   {'RMSE': 1.7894789283732186},\n",
              "   {'RMSE': 1.789159189716707},\n",
              "   {'RMSE': 1.788920016896185},\n",
              "   {'RMSE': 1.788440850174561},\n",
              "   {'RMSE': 1.7884024715403537},\n",
              "   {'RMSE': 1.788215730573101},\n",
              "   {'RMSE': 1.7879064325776612},\n",
              "   {'RMSE': 1.7874794056803436},\n",
              "   {'RMSE': 1.7871066024329174},\n",
              "   {'RMSE': 1.7865168317500377},\n",
              "   {'RMSE': 1.7862620968978837},\n",
              "   {'RMSE': 1.785836180327792},\n",
              "   {'RMSE': 1.7857800891213231},\n",
              "   {'RMSE': 1.7855436255390442},\n",
              "   {'RMSE': 1.7854922937560311},\n",
              "   {'RMSE': 1.7852851488767463},\n",
              "   {'RMSE': 1.7851620272483286},\n",
              "   {'RMSE': 1.7849668152455884},\n",
              "   {'RMSE': 1.7844895144848942},\n",
              "   {'RMSE': 1.7840636485666534},\n",
              "   {'RMSE': 1.7837120154727812},\n",
              "   {'RMSE': 1.7832677119810743},\n",
              "   {'RMSE': 1.7831431965349478},\n",
              "   {'RMSE': 1.7828090702008457},\n",
              "   {'RMSE': 1.7823720920107624},\n",
              "   {'RMSE': 1.7821999949937493},\n",
              "   {'RMSE': 1.7816479350847245},\n",
              "   {'RMSE': 1.7814456892157824},\n",
              "   {'RMSE': 1.7812409094865238},\n",
              "   {'RMSE': 1.7810662267033506},\n",
              "   {'RMSE': 1.7807671910538003},\n",
              "   {'RMSE': 1.780715703405659},\n",
              "   {'RMSE': 1.7805305587215239},\n",
              "   {'RMSE': 1.7803584421550955},\n",
              "   {'RMSE': 1.779983779849875},\n",
              "   {'RMSE': 1.7797132455387767},\n",
              "   {'RMSE': 1.7794081045377468},\n",
              "   {'RMSE': 1.7792033156393803},\n",
              "   {'RMSE': 1.7789904840114739},\n",
              "   {'RMSE': 1.7787244086626277},\n",
              "   {'RMSE': 1.7784549693795682},\n",
              "   {'RMSE': 1.7782647858131495},\n",
              "   {'RMSE': 1.7782528062202163},\n",
              "   {'RMSE': 1.7780479109077012},\n",
              "   {'RMSE': 1.7779900861074995},\n",
              "   {'RMSE': 1.7776220225987203},\n",
              "   {'RMSE': 1.777267549191745},\n",
              "   {'RMSE': 1.7769369396659493},\n",
              "   {'RMSE': 1.7767769470127208},\n",
              "   {'RMSE': 1.7763632344097395},\n",
              "   {'RMSE': 1.7761875202842454},\n",
              "   {'RMSE': 1.7760562156732498},\n",
              "   {'RMSE': 1.7759572182406436},\n",
              "   {'RMSE': 1.7759477836286262},\n",
              "   {'RMSE': 1.7755295097441215},\n",
              "   {'RMSE': 1.7754958406460914},\n",
              "   {'RMSE': 1.77532083272821},\n",
              "   {'RMSE': 1.775222785964471},\n",
              "   {'RMSE': 1.7750938141452615},\n",
              "   {'RMSE': 1.7750672426617577},\n",
              "   {'RMSE': 1.7746611740850937},\n",
              "   {'RMSE': 1.774331851881643},\n",
              "   {'RMSE': 1.7740156798297502},\n",
              "   {'RMSE': 1.7739844608114987},\n",
              "   {'RMSE': 1.773561132232669},\n",
              "   {'RMSE': 1.773317808996427},\n",
              "   {'RMSE': 1.7731984321986596},\n",
              "   {'RMSE': 1.7730173965013176},\n",
              "   {'RMSE': 1.7727968010800548},\n",
              "   {'RMSE': 1.7726171834930275},\n",
              "   {'RMSE': 1.7725335426066955},\n",
              "   {'RMSE': 1.7721870837642981},\n",
              "   {'RMSE': 1.7719851840519965},\n",
              "   {'RMSE': 1.7715659558014167},\n",
              "   {'RMSE': 1.7714219372111628},\n",
              "   {'RMSE': 1.7713956576942855},\n",
              "   {'RMSE': 1.7713856651770046},\n",
              "   {'RMSE': 1.7712773302945932},\n",
              "   {'RMSE': 1.7710552146673622},\n",
              "   {'RMSE': 1.771012566490526},\n",
              "   {'RMSE': 1.770922170393544},\n",
              "   {'RMSE': 1.7705995781046049},\n",
              "   {'RMSE': 1.7704481830650176},\n",
              "   {'RMSE': 1.7702712330592192},\n",
              "   {'RMSE': 1.7702032549332543},\n",
              "   {'RMSE': 1.7697548497734226},\n",
              "   {'RMSE': 1.7695855861912189},\n",
              "   {'RMSE': 1.769378103237254},\n",
              "   {'RMSE': 1.769234814744228},\n",
              "   {'RMSE': 1.7689408961455917},\n",
              "   {'RMSE': 1.7684748773436336},\n",
              "   {'RMSE': 1.7683512815624298},\n",
              "   {'RMSE': 1.7683380570695593},\n",
              "   {'RMSE': 1.7682500895748996},\n",
              "   {'RMSE': 1.7680337804621586},\n",
              "   {'RMSE': 1.7676864141398192},\n",
              "   {'RMSE': 1.767440432988486},\n",
              "   {'RMSE': 1.7673006343370243},\n",
              "   {'RMSE': 1.766928443662756},\n",
              "   {'RMSE': 1.7665865562832819},\n",
              "   {'RMSE': 1.7664129694618813},\n",
              "   {'RMSE': 1.766062224805858},\n",
              "   {'RMSE': 1.7657165209315362},\n",
              "   {'RMSE': 1.7653170072398745},\n",
              "   {'RMSE': 1.7652803739102934},\n",
              "   {'RMSE': 1.7650753633450982},\n",
              "   {'RMSE': 1.765018700146621},\n",
              "   {'RMSE': 1.7649316849487462},\n",
              "   {'RMSE': 1.7648606776905564},\n",
              "   {'RMSE': 1.7645011256402372},\n",
              "   {'RMSE': 1.7641722997955975},\n",
              "   {'RMSE': 1.7638007738273467},\n",
              "   {'RMSE': 1.763394394847425},\n",
              "   {'RMSE': 1.7630709806712235},\n",
              "   {'RMSE': 1.7628290330465517},\n",
              "   {'RMSE': 1.7625530071716913},\n",
              "   {'RMSE': 1.762192369335868},\n",
              "   {'RMSE': 1.761910546313232},\n",
              "   {'RMSE': 1.761678925673213},\n",
              "   {'RMSE': 1.7613490980230955},\n",
              "   {'RMSE': 1.7608989785219165},\n",
              "   {'RMSE': 1.760749205701822},\n",
              "   {'RMSE': 1.7604822039797325},\n",
              "   {'RMSE': 1.7602403820961818},\n",
              "   {'RMSE': 1.7601748812793767},\n",
              "   {'RMSE': 1.759725937998223},\n",
              "   {'RMSE': 1.759614012089867},\n",
              "   {'RMSE': 1.759506345350935},\n",
              "   {'RMSE': 1.759343169030487},\n",
              "   {'RMSE': 1.7591620178280156},\n",
              "   {'RMSE': 1.7588858998068295},\n",
              "   {'RMSE': 1.7586897391680942},\n",
              "   {'RMSE': 1.7585141772210193},\n",
              "   {'RMSE': 1.7582085995104366},\n",
              "   {'RMSE': 1.7579238532481456},\n",
              "   {'RMSE': 1.7579105897781693},\n",
              "   {'RMSE': 1.7576954884876481},\n",
              "   {'RMSE': 1.7575295880650785},\n",
              "   {'RMSE': 1.7572574807276957},\n",
              "   {'RMSE': 1.7570809297544991},\n",
              "   {'RMSE': 1.756801373367714},\n",
              "   {'RMSE': 1.756543408196519},\n",
              "   {'RMSE': 1.7562551694286352},\n",
              "   {'RMSE': 1.756123019080653},\n",
              "   {'RMSE': 1.7559116987842962},\n",
              "   {'RMSE': 1.7556002634367547},\n",
              "   {'RMSE': 1.755288639737633},\n",
              "   {'RMSE': 1.7550164395344596},\n",
              "   {'RMSE': 1.7544842757760377},\n",
              "   {'RMSE': 1.7543293871466137},\n",
              "   {'RMSE': 1.7540388159004396},\n",
              "   {'RMSE': 1.7539293178977935},\n",
              "   {'RMSE': 1.7536758052417465},\n",
              "   {'RMSE': 1.7535733085749237},\n",
              "   {'RMSE': 1.753287565210381},\n",
              "   {'RMSE': 1.7530191744353083},\n",
              "   {'RMSE': 1.752688832648828},\n",
              "   {'RMSE': 1.7523776989052875},\n",
              "   {'RMSE': 1.752151760673361},\n",
              "   {'RMSE': 1.7520125463971552},\n",
              "   {'RMSE': 1.7516615197115426},\n",
              "   {'RMSE': 1.7513621785530256},\n",
              "   {'RMSE': 1.7509856640868173},\n",
              "   {'RMSE': 1.7507256886006173},\n",
              "   {'RMSE': 1.7504701814149775},\n",
              "   {'RMSE': 1.7500460779510738},\n",
              "   {'RMSE': 1.7499718983637773},\n",
              "   {'RMSE': 1.7496435162890587},\n",
              "   {'RMSE': 1.7495102006571268},\n",
              "   {'RMSE': 1.7493664803783167},\n",
              "   {'RMSE': 1.7493561247936487},\n",
              "   {'RMSE': 1.7490016595600941},\n",
              "   {'RMSE': 1.7487369204846797},\n",
              "   {'RMSE': 1.7486182413767204},\n",
              "   {'RMSE': 1.748461002703358},\n",
              "   {'RMSE': 1.7483045158423949},\n",
              "   {'RMSE': 1.7480534914034704},\n",
              "   {'RMSE': 1.7477078255164726},\n",
              "   {'RMSE': 1.7476068633132853},\n",
              "   {'RMSE': 1.747239836216714},\n",
              "   {'RMSE': 1.747131098765235},\n",
              "   {'RMSE': 1.7468545514053164},\n",
              "   {'RMSE': 1.746743650527516},\n",
              "   {'RMSE': 1.7464513389590877},\n",
              "   {'RMSE': 1.7463822601281844},\n",
              "   {'RMSE': 1.7461909264058544},\n",
              "   {'RMSE': 1.7457606601879059},\n",
              "   {'RMSE': 1.7457071442184762},\n",
              "   {'RMSE': 1.7454910120349445},\n",
              "   {'RMSE': 1.7451731865373832},\n",
              "   {'RMSE': 1.7449743528076802},\n",
              "   {'RMSE': 1.7445709723675629},\n",
              "   {'RMSE': 1.7445584924055588},\n",
              "   {'RMSE': 1.7442814474455444},\n",
              "   {'RMSE': 1.7441515088130517},\n",
              "   {'RMSE': 1.7439546356854216},\n",
              "   {'RMSE': 1.7438315515407226},\n",
              "   {'RMSE': 1.7435897711916943},\n",
              "   {'RMSE': 1.7432263695098102},\n",
              "   {'RMSE': 1.7428280464395776},\n",
              "   {'RMSE': 1.7426820610467733},\n",
              "   {'RMSE': 1.742345412528649},\n",
              "   {'RMSE': 1.7422781603804756},\n",
              "   {'RMSE': 1.7418645818532568},\n",
              "   {'RMSE': 1.7416962629237465},\n",
              "   {'RMSE': 1.7415633915226112},\n",
              "   {'RMSE': 1.741438213669205},\n",
              "   {'RMSE': 1.7413848322630803},\n",
              "   {'RMSE': 1.7411838325751092},\n",
              "   {'RMSE': 1.7408140592051151},\n",
              "   {'RMSE': 1.7406435117494945},\n",
              "   {'RMSE': 1.7404778213933214},\n",
              "   {'RMSE': 1.740149215852537},\n",
              "   {'RMSE': 1.739922224373045},\n",
              "   {'RMSE': 1.7398390339471521},\n",
              "   {'RMSE': 1.7396302065718703},\n",
              "   {'RMSE': 1.7393571939712322},\n",
              "   {'RMSE': 1.7392255135220558},\n",
              "   {'RMSE': 1.73910871783565},\n",
              "   {'RMSE': 1.7387055158224156},\n",
              "   {'RMSE': 1.7385422258240117},\n",
              "   {'RMSE': 1.7384559571252574},\n",
              "   {'RMSE': 1.738105993275033},\n",
              "   {'RMSE': 1.7379572080488925},\n",
              "   {'RMSE': 1.7376638642586129},\n",
              "   {'RMSE': 1.7375932833905703},\n",
              "   {'RMSE': 1.7375262286712225},\n",
              "   {'RMSE': 1.737112037055347},\n",
              "   {'RMSE': 1.736960898908413},\n",
              "   {'RMSE': 1.7368885074758642},\n",
              "   {'RMSE': 1.7366131819189659},\n",
              "   {'RMSE': 1.736507093910514},\n",
              "   {'RMSE': 1.736428837777276},\n",
              "   {'RMSE': 1.7360626738781446},\n",
              "   {'RMSE': 1.7360293019501352},\n",
              "   {'RMSE': 1.7360178044876724},\n",
              "   {'RMSE': 1.7357044356475715},\n",
              "   {'RMSE': 1.7355883667004548},\n",
              "   {'RMSE': 1.7354178816984847},\n",
              "   {'RMSE': 1.7352489996490341},\n",
              "   {'RMSE': 1.7352310750316806},\n",
              "   {'RMSE': 1.7351462673523086},\n",
              "   {'RMSE': 1.7350704757435282},\n",
              "   {'RMSE': 1.7348769722661856},\n",
              "   {'RMSE': 1.7343845691060364},\n",
              "   {'RMSE': 1.7342440803696693},\n",
              "   {'RMSE': 1.7340402312468233},\n",
              "   {'RMSE': 1.7337821983805213},\n",
              "   {'RMSE': 1.733629246055108},\n",
              "   {'RMSE': 1.7334736181053574},\n",
              "   {'RMSE': 1.7331511056454765},\n",
              "   {'RMSE': 1.7328646616651115},\n",
              "   {'RMSE': 1.7324033305644035},\n",
              "   {'RMSE': 1.73203559897459},\n",
              "   {'RMSE': 1.7319001947304193},\n",
              "   {'RMSE': 1.731744562676074},\n",
              "   {'RMSE': 1.731446966046787},\n",
              "   {'RMSE': 1.7311810880939915},\n",
              "   {'RMSE': 1.7309223840130754},\n",
              "   {'RMSE': 1.730638759204541},\n",
              "   {'RMSE': 1.7302565648628814},\n",
              "   {'RMSE': 1.7301665635033672},\n",
              "   {'RMSE': 1.730004957892402},\n",
              "   {'RMSE': 1.7298346662230975},\n",
              "   {'RMSE': 1.7295107012761775},\n",
              "   {'RMSE': 1.7293979768850438},\n",
              "   {'RMSE': 1.7291947320744605},\n",
              "   {'RMSE': 1.728857419429117},\n",
              "   {'RMSE': 1.7285832259715808},\n",
              "   {'RMSE': 1.728241547849112},\n",
              "   {'RMSE': 1.7282138950379131},\n",
              "   {'RMSE': 1.7278323541623024},\n",
              "   {'RMSE': 1.7275248425055996},\n",
              "   {'RMSE': 1.727290555665416},\n",
              "   {'RMSE': 1.727010545771372},\n",
              "   {'RMSE': 1.726907461257755},\n",
              "   {'RMSE': 1.7267541601106633},\n",
              "   {'RMSE': 1.726670704111874},\n",
              "   {'RMSE': 1.726500597416901},\n",
              "   {'RMSE': 1.72644263160135},\n",
              "   {'RMSE': 1.7260461146823394},\n",
              "   {'RMSE': 1.7258735081278527},\n",
              "   {'RMSE': 1.7257096850884668},\n",
              "   {'RMSE': 1.7256151297036038},\n",
              "   {'RMSE': 1.7253957488268594},\n",
              "   {'RMSE': 1.725195378288122},\n",
              "   {'RMSE': 1.7251211126317743},\n",
              "   {'RMSE': 1.7250975072520613},\n",
              "   {'RMSE': 1.7248906402313176},\n",
              "   {'RMSE': 1.724517211096688},\n",
              "   {'RMSE': 1.7242780805839284},\n",
              "   {'RMSE': 1.7242065867835725},\n",
              "   {'RMSE': 1.7240807595901309},\n",
              "   {'RMSE': 1.723948933301084},\n",
              "   {'RMSE': 1.7236487191131826},\n",
              "   {'RMSE': 1.7233144170579702},\n",
              "   {'RMSE': 1.7230232264800216},\n",
              "   {'RMSE': 1.7226630803516358},\n",
              "   {'RMSE': 1.7225439709445967},\n",
              "   {'RMSE': 1.7224807044888912},\n",
              "   {'RMSE': 1.7222154355867731},\n",
              "   {'RMSE': 1.7221162172602207},\n",
              "   {'RMSE': 1.7217378132529977},\n",
              "   {'RMSE': 1.7214967445631906},\n",
              "   {'RMSE': 1.7214193126999364},\n",
              "   {'RMSE': 1.721145853185809},\n",
              "   {'RMSE': 1.721047105148062},\n",
              "   {'RMSE': 1.7208249824410518},\n",
              "   {'RMSE': 1.7205988240979728},\n",
              "   {'RMSE': 1.7205260889938834},\n",
              "   {'RMSE': 1.7202906312951607},\n",
              "   {'RMSE': 1.7200938521263938},\n",
              "   {'RMSE': 1.7199884662786946},\n",
              "   {'RMSE': 1.7197059263885157},\n",
              "   {'RMSE': 1.719702344178327},\n",
              "   {'RMSE': 1.7195313727464847},\n",
              "   {'RMSE': 1.7194112240092096},\n",
              "   {'RMSE': 1.7190743450033061},\n",
              "   {'RMSE': 1.719024824558926},\n",
              "   {'RMSE': 1.7187593245527935},\n",
              "   {'RMSE': 1.7185745115092803},\n",
              "   {'RMSE': 1.718357975417869},\n",
              "   {'RMSE': 1.7180680822888277},\n",
              "   {'RMSE': 1.7180140606934182},\n",
              "   {'RMSE': 1.717662335993102},\n",
              "   {'RMSE': 1.7173993777090177},\n",
              "   {'RMSE': 1.7171387218879914},\n",
              "   {'RMSE': 1.7167203204152972},\n",
              "   {'RMSE': 1.716396683169394},\n",
              "   {'RMSE': 1.7163676464265378},\n",
              "   {'RMSE': 1.716157829654473},\n",
              "   {'RMSE': 1.7160728278581228},\n",
              "   {'RMSE': 1.7159710940717097},\n",
              "   {'RMSE': 1.7156559670287723},\n",
              "   {'RMSE': 1.7154506459587378},\n",
              "   {'RMSE': 1.7152563311732827},\n",
              "   {'RMSE': 1.7148951552270137},\n",
              "   {'RMSE': 1.7145114044840803},\n",
              "   {'RMSE': 1.71423781444229},\n",
              "   {'RMSE': 1.7139315958289483},\n",
              "   {'RMSE': 1.7138454197196504},\n",
              "   {'RMSE': 1.713645425444538},\n",
              "   {'RMSE': 1.7133898326475248},\n",
              "   {'RMSE': 1.7132714240186786},\n",
              "   {'RMSE': 1.7130729348037101},\n",
              "   {'RMSE': 1.7128837628208413},\n",
              "   {'RMSE': 1.7127540850030438},\n",
              "   {'RMSE': 1.7125961160801022},\n",
              "   {'RMSE': 1.7124242966960923},\n",
              "   {'RMSE': 1.7122105026438166},\n",
              "   {'RMSE': 1.712005277915642},\n",
              "   {'RMSE': 1.711937520586107},\n",
              "   {'RMSE': 1.711802177338109},\n",
              "   {'RMSE': 1.7115030560089832},\n",
              "   {'RMSE': 1.7112989144077548},\n",
              "   {'RMSE': 1.7111633087147322},\n",
              "   {'RMSE': 1.7109846049560489},\n",
              "   {'RMSE': 1.710790253304246},\n",
              "   {'RMSE': 1.71059534704458},\n",
              "   {'RMSE': 1.7102965403873347},\n",
              "   {'RMSE': 1.7102938974729023},\n",
              "   {'RMSE': 1.7099943101592023},\n",
              "   {'RMSE': 1.7096614319118655},\n",
              "   {'RMSE': 1.709474762781612},\n",
              "   {'RMSE': 1.7092241327404845},\n",
              "   {'RMSE': 1.7091007196998913},\n",
              "   {'RMSE': 1.7088083347173648},\n",
              "   {'RMSE': 1.7085496427232139},\n",
              "   {'RMSE': 1.7083022350789427},\n",
              "   {'RMSE': 1.7082092819998844},\n",
              "   {'RMSE': 1.7081258500083556},\n",
              "   {'RMSE': 1.7080200230732265},\n",
              "   {'RMSE': 1.7078644274136874},\n",
              "   {'RMSE': 1.7075789388055225},\n",
              "   {'RMSE': 1.7074777086065627},\n",
              "   {'RMSE': 1.7072482055987515},\n",
              "   {'RMSE': 1.7069833794342713},\n",
              "   {'RMSE': 1.706766239365278},\n",
              "   {'RMSE': 1.706464604668751},\n",
              "   {'RMSE': 1.7063951631318426},\n",
              "   {'RMSE': 1.7061448848744236},\n",
              "   {'RMSE': 1.7058333216934958},\n",
              "   {'RMSE': 1.7056069886335767},\n",
              "   {'RMSE': 1.7053397158037487},\n",
              "   {'RMSE': 1.7051807739678555},\n",
              "   {'RMSE': 1.7048188438350351},\n",
              "   {'RMSE': 1.7047233021989463},\n",
              "   {'RMSE': 1.7044330125644782},\n",
              "   {'RMSE': 1.7042223431799155},\n",
              "   {'RMSE': 1.703956195230724},\n",
              "   {'RMSE': 1.7039277133614334},\n",
              "   {'RMSE': 1.703812063515774},\n",
              "   {'RMSE': 1.7036902265927745},\n",
              "   {'RMSE': 1.7034601886737628},\n",
              "   {'RMSE': 1.7032623397890359},\n",
              "   {'RMSE': 1.7032031057265489},\n",
              "   {'RMSE': 1.7028813652170598},\n",
              "   {'RMSE': 1.7025756065381163},\n",
              "   {'RMSE': 1.70221298459255},\n",
              "   {'RMSE': 1.7021030447646865},\n",
              "   {'RMSE': 1.7018216857074695},\n",
              "   {'RMSE': 1.7016183245408973},\n",
              "   {'RMSE': 1.7014611838221547},\n",
              "   {'RMSE': 1.701451045575446},\n",
              "   {'RMSE': 1.7010490047207354},\n",
              "   {'RMSE': 1.7009988258381865},\n",
              "   {'RMSE': 1.700720394598669},\n",
              "   {'RMSE': 1.7004597240093966},\n",
              "   {'RMSE': 1.7003131101945115},\n",
              "   {'RMSE': 1.7000354039416101},\n",
              "   {'RMSE': 1.6997455006281166},\n",
              "   {'RMSE': 1.6994771916546862},\n",
              "   {'RMSE': 1.6992818356693937},\n",
              "   {'RMSE': 1.699231612572321},\n",
              "   {'RMSE': 1.698954891118789},\n",
              "   {'RMSE': 1.698530940851523},\n",
              "   {'RMSE': 1.698263506641895},\n",
              "   {'RMSE': 1.6981742258545904},\n",
              "   {'RMSE': 1.6981199525906239},\n",
              "   {'RMSE': 1.697992679002595},\n",
              "   {'RMSE': 1.6979915662720093},\n",
              "   {'RMSE': 1.6979901685759167},\n",
              "   {'RMSE': 1.6978908146435034},\n",
              "   {'RMSE': 1.6976433561189872},\n",
              "   {'RMSE': 1.6975621076240022},\n",
              "   {'RMSE': 1.6973876855782388},\n",
              "   {'RMSE': 1.6971926203470864}],\n",
              "  'test_best_error': []}}"
            ]
          },
          "metadata": {},
          "execution_count": 108
        }
      ],
      "source": [
        "history"
      ]
    },
    {
      "cell_type": "code",
      "execution_count": null,
      "metadata": {
        "id": "Shn6H8NrAUCQ"
      },
      "outputs": [],
      "source": [
        "hist = {\"loss\":[]}#,\"val_loss\":[]}\n",
        "for item in history[\"metrics\"][\"learn_metrics_history\"]:\n",
        "  hist[\"loss\"].append(item[\"RMSE\"])\n",
        "# for item in history[\"metrics\"][\"test_metrics_history\"]:\n",
        "#   hist[\"val_loss\"].append(item[0][\"RMSE\"])\n",
        "hist = pd.DataFrame(hist)"
      ]
    },
    {
      "cell_type": "code",
      "execution_count": null,
      "metadata": {
        "colab": {
          "base_uri": "https://localhost:8080/",
          "height": 430
        },
        "id": "1PNkMlmCBhmU",
        "outputId": "23df5af2-ab47-4121-f6a6-ba8c365e80fa"
      },
      "outputs": [
        {
          "output_type": "display_data",
          "data": {
            "text/plain": [
              "<Figure size 640x480 with 1 Axes>"
            ],
            "image/png": "[encoded data removed]"
          },
          "metadata": {}
        }
      ],
      "source": [
        "plt.plot(hist[\"loss\"],label=\"loss\")\n",
        "#plt.plot(hist[\"val_loss\"],label=\"val_loss\")\n",
        "plt.legend()\n",
        "plt.grid(True)\n",
        "plt.show()"
      ]
    },
    {
      "cell_type": "code",
      "execution_count": null,
      "metadata": {
        "id": "jLEZ8yLu9Ktd"
      },
      "outputs": [],
      "source": [
        "prediction = model.predict(x_test)"
      ]
    },
    {
      "cell_type": "code",
      "execution_count": null,
      "metadata": {
        "id": "gK-KPNUy-Bqc"
      },
      "outputs": [],
      "source": [
        "from sklearn.metrics import mean_squared_log_error"
      ]
    },
    {
      "cell_type": "code",
      "execution_count": null,
      "metadata": {
        "colab": {
          "base_uri": "https://localhost:8080/"
        },
        "id": "NrllRe3O-JZz",
        "outputId": "c8799e91-061f-4868-e562-c4ee201d89c8"
      },
      "outputs": [
        {
          "output_type": "execute_result",
          "data": {
            "text/plain": [
              "0.02311982982174171"
            ]
          },
          "metadata": {},
          "execution_count": 113
        }
      ],
      "source": [
        "mean_squared_log_error(y_test,prediction)"
      ]
    },
    {
      "cell_type": "code",
      "execution_count": null,
      "metadata": {
        "id": "gu84Upf5-NVe"
      },
      "outputs": [],
      "source": [
        "pred = model.predict(test)"
      ]
    },
    {
      "cell_type": "code",
      "execution_count": null,
      "metadata": {
        "id": "ekC1WZik-ez8"
      },
      "outputs": [],
      "source": [
        "pred = pred.reshape(60411)"
      ]
    },
    {
      "cell_type": "code",
      "execution_count": null,
      "metadata": {
        "id": "3Y3dGMyE-R5s"
      },
      "outputs": [],
      "source": [
        "df = pd.DataFrame({\"id\":id,\"Rings\":pred})"
      ]
    },
    {
      "cell_type": "code",
      "execution_count": null,
      "metadata": {
        "colab": {
          "base_uri": "https://localhost:8080/",
          "height": 423
        },
        "id": "ybJ4Ekw-_XCs",
        "outputId": "4a6e39b8-8417-4b4b-a912-3a56626915ba"
      },
      "outputs": [
        {
          "output_type": "execute_result",
          "data": {
            "text/plain": [
              "           id      Rings\n",
              "0       90615   9.696392\n",
              "1       90616   9.689732\n",
              "2       90617  10.119054\n",
              "3       90618  10.410742\n",
              "4       90619   7.754605\n",
              "...       ...        ...\n",
              "60406  151021   6.633828\n",
              "60407  151022   9.433919\n",
              "60408  151023  12.342366\n",
              "60409  151024  13.738859\n",
              "60410  151025   7.824858\n",
              "\n",
              "[60411 rows x 2 columns]"
            ],
            "text/html": [
              "\n",
              "  <div id=\"df-ee4480c3-4740-4ca4-ba44-0e325e0185ac\" class=\"colab-df-container\">\n",
              "    <div>\n",
              "<style scoped>\n",
              "    .dataframe tbody tr th:only-of-type {\n",
              "        vertical-align: middle;\n",
              "    }\n",
              "\n",
              "    .dataframe tbody tr th {\n",
              "        vertical-align: top;\n",
              "    }\n",
              "\n",
              "    .dataframe thead th {\n",
              "        text-align: right;\n",
              "    }\n",
              "</style>\n",
              "<table border=\"1\" class=\"dataframe\">\n",
              "  <thead>\n",
              "    <tr style=\"text-align: right;\">\n",
              "      <th></th>\n",
              "      <th>id</th>\n",
              "      <th>Rings</th>\n",
              "    </tr>\n",
              "  </thead>\n",
              "  <tbody>\n",
              "    <tr>\n",
              "      <th>0</th>\n",
              "      <td>90615</td>\n",
              "      <td>9.696392</td>\n",
              "    </tr>\n",
              "    <tr>\n",
              "      <th>1</th>\n",
              "      <td>90616</td>\n",
              "      <td>9.689732</td>\n",
              "    </tr>\n",
              "    <tr>\n",
              "      <th>2</th>\n",
              "      <td>90617</td>\n",
              "      <td>10.119054</td>\n",
              "    </tr>\n",
              "    <tr>\n",
              "      <th>3</th>\n",
              "      <td>90618</td>\n",
              "      <td>10.410742</td>\n",
              "    </tr>\n",
              "    <tr>\n",
              "      <th>4</th>\n",
              "      <td>90619</td>\n",
              "      <td>7.754605</td>\n",
              "    </tr>\n",
              "    <tr>\n",
              "      <th>...</th>\n",
              "      <td>...</td>\n",
              "      <td>...</td>\n",
              "    </tr>\n",
              "    <tr>\n",
              "      <th>60406</th>\n",
              "      <td>151021</td>\n",
              "      <td>6.633828</td>\n",
              "    </tr>\n",
              "    <tr>\n",
              "      <th>60407</th>\n",
              "      <td>151022</td>\n",
              "      <td>9.433919</td>\n",
              "    </tr>\n",
              "    <tr>\n",
              "      <th>60408</th>\n",
              "      <td>151023</td>\n",
              "      <td>12.342366</td>\n",
              "    </tr>\n",
              "    <tr>\n",
              "      <th>60409</th>\n",
              "      <td>151024</td>\n",
              "      <td>13.738859</td>\n",
              "    </tr>\n",
              "    <tr>\n",
              "      <th>60410</th>\n",
              "      <td>151025</td>\n",
              "      <td>7.824858</td>\n",
              "    </tr>\n",
              "  </tbody>\n",
              "</table>\n",
              "<p>60411 rows × 2 columns</p>\n",
              "</div>\n",
              "    <div class=\"colab-df-buttons\">\n",
              "\n",
              "  <div class=\"colab-df-container\">\n",
              "    <button class=\"colab-df-convert\" onclick=\"convertToInteractive('df-ee4480c3-4740-4ca4-ba44-0e325e0185ac')\"\n",
              "            title=\"Convert this dataframe to an interactive table.\"\n",
              "            style=\"display:none;\">\n",
              "\n",
              "  <svg xmlns=\"http://www.w3.org/2000/svg\" height=\"24px\" viewBox=\"0 -960 960 960\">\n",
              "    <path d=\"M120-120v-720h720v720H120Zm60-500h600v-160H180v160Zm220 220h160v-160H400v160Zm0 220h160v-160H400v160ZM180-400h160v-160H180v160Zm440 0h160v-160H620v160ZM180-180h160v-160H180v160Zm440 0h160v-160H620v160Z\"/>\n",
              "  </svg>\n",
              "    </button>\n",
              "\n",
              "  <style>\n",
              "    .colab-df-container {\n",
              "      display:flex;\n",
              "      gap: 12px;\n",
              "    }\n",
              "\n",
              "    .colab-df-convert {\n",
              "      background-color: #E8F0FE;\n",
              "      border: none;\n",
              "      border-radius: 50%;\n",
              "      cursor: pointer;\n",
              "      display: none;\n",
              "      fill: #1967D2;\n",
              "      height: 32px;\n",
              "      padding: 0 0 0 0;\n",
              "      width: 32px;\n",
              "    }\n",
              "\n",
              "    .colab-df-convert:hover {\n",
              "      background-color: #E2EBFA;\n",
              "      box-shadow: 0px 1px 2px rgba(60, 64, 67, 0.3), 0px 1px 3px 1px rgba(60, 64, 67, 0.15);\n",
              "      fill: #174EA6;\n",
              "    }\n",
              "\n",
              "    .colab-df-buttons div {\n",
              "      margin-bottom: 4px;\n",
              "    }\n",
              "\n",
              "    [theme=dark] .colab-df-convert {\n",
              "      background-color: #3B4455;\n",
              "      fill: #D2E3FC;\n",
              "    }\n",
              "\n",
              "    [theme=dark] .colab-df-convert:hover {\n",
              "      background-color: #434B5C;\n",
              "      box-shadow: 0px 1px 3px 1px rgba(0, 0, 0, 0.15);\n",
              "      filter: drop-shadow(0px 1px 2px rgba(0, 0, 0, 0.3));\n",
              "      fill: #FFFFFF;\n",
              "    }\n",
              "  </style>\n",
              "\n",
              "    <script>\n",
              "      const buttonEl =\n",
              "        document.querySelector('#df-ee4480c3-4740-4ca4-ba44-0e325e0185ac button.colab-df-convert');\n",
              "      buttonEl.style.display =\n",
              "        google.colab.kernel.accessAllowed ? 'block' : 'none';\n",
              "\n",
              "      async function convertToInteractive(key) {\n",
              "        const element = document.querySelector('#df-ee4480c3-4740-4ca4-ba44-0e325e0185ac');\n",
              "        const dataTable =\n",
              "          await google.colab.kernel.invokeFunction('convertToInteractive',\n",
              "                                                    [key], {});\n",
              "        if (!dataTable) return;\n",
              "\n",
              "        const docLinkHtml = 'Like what you see? Visit the ' +\n",
              "          '<a target=\"_blank\" href=https://colab.research.google.com/notebooks/data_table.ipynb>data table notebook</a>'\n",
              "          + ' to learn more about interactive tables.';\n",
              "        element.innerHTML = '';\n",
              "        dataTable['output_type'] = 'display_data';\n",
              "        await google.colab.output.renderOutput(dataTable, element);\n",
              "        const docLink = document.createElement('div');\n",
              "        docLink.innerHTML = docLinkHtml;\n",
              "        element.appendChild(docLink);\n",
              "      }\n",
              "    </script>\n",
              "  </div>\n",
              "\n",
              "\n",
              "<div id=\"df-13841408-21a3-4a39-ad29-27b2672243c4\">\n",
              "  <button class=\"colab-df-quickchart\" onclick=\"quickchart('df-13841408-21a3-4a39-ad29-27b2672243c4')\"\n",
              "            title=\"Suggest charts\"\n",
              "            style=\"display:none;\">\n",
              "\n",
              "<svg xmlns=\"http://www.w3.org/2000/svg\" height=\"24px\"viewBox=\"0 0 24 24\"\n",
              "     width=\"24px\">\n",
              "    <g>\n",
              "        <path d=\"M19 3H5c-1.1 0-2 .9-2 2v14c0 1.1.9 2 2 2h14c1.1 0 2-.9 2-2V5c0-1.1-.9-2-2-2zM9 17H7v-7h2v7zm4 0h-2V7h2v10zm4 0h-2v-4h2v4z\"/>\n",
              "    </g>\n",
              "</svg>\n",
              "  </button>\n",
              "\n",
              "<style>\n",
              "  .colab-df-quickchart {\n",
              "      --bg-color: #E8F0FE;\n",
              "      --fill-color: #1967D2;\n",
              "      --hover-bg-color: #E2EBFA;\n",
              "      --hover-fill-color: #174EA6;\n",
              "      --disabled-fill-color: #AAA;\n",
              "      --disabled-bg-color: #DDD;\n",
              "  }\n",
              "\n",
              "  [theme=dark] .colab-df-quickchart {\n",
              "      --bg-color: #3B4455;\n",
              "      --fill-color: #D2E3FC;\n",
              "      --hover-bg-color: #434B5C;\n",
              "      --hover-fill-color: #FFFFFF;\n",
              "      --disabled-bg-color: #3B4455;\n",
              "      --disabled-fill-color: #666;\n",
              "  }\n",
              "\n",
              "  .colab-df-quickchart {\n",
              "    background-color: var(--bg-color);\n",
              "    border: none;\n",
              "    border-radius: 50%;\n",
              "    cursor: pointer;\n",
              "    display: none;\n",
              "    fill: var(--fill-color);\n",
              "    height: 32px;\n",
              "    padding: 0;\n",
              "    width: 32px;\n",
              "  }\n",
              "\n",
              "  .colab-df-quickchart:hover {\n",
              "    background-color: var(--hover-bg-color);\n",
              "    box-shadow: 0 1px 2px rgba(60, 64, 67, 0.3), 0 1px 3px 1px rgba(60, 64, 67, 0.15);\n",
              "    fill: var(--button-hover-fill-color);\n",
              "  }\n",
              "\n",
              "  .colab-df-quickchart-complete:disabled,\n",
              "  .colab-df-quickchart-complete:disabled:hover {\n",
              "    background-color: var(--disabled-bg-color);\n",
              "    fill: var(--disabled-fill-color);\n",
              "    box-shadow: none;\n",
              "  }\n",
              "\n",
              "  .colab-df-spinner {\n",
              "    border: 2px solid var(--fill-color);\n",
              "    border-color: transparent;\n",
              "    border-bottom-color: var(--fill-color);\n",
              "    animation:\n",
              "      spin 1s steps(1) infinite;\n",
              "  }\n",
              "\n",
              "  @keyframes spin {\n",
              "    0% {\n",
              "      border-color: transparent;\n",
              "      border-bottom-color: var(--fill-color);\n",
              "      border-left-color: var(--fill-color);\n",
              "    }\n",
              "    20% {\n",
              "      border-color: transparent;\n",
              "      border-left-color: var(--fill-color);\n",
              "      border-top-color: var(--fill-color);\n",
              "    }\n",
              "    30% {\n",
              "      border-color: transparent;\n",
              "      border-left-color: var(--fill-color);\n",
              "      border-top-color: var(--fill-color);\n",
              "      border-right-color: var(--fill-color);\n",
              "    }\n",
              "    40% {\n",
              "      border-color: transparent;\n",
              "      border-right-color: var(--fill-color);\n",
              "      border-top-color: var(--fill-color);\n",
              "    }\n",
              "    60% {\n",
              "      border-color: transparent;\n",
              "      border-right-color: var(--fill-color);\n",
              "    }\n",
              "    80% {\n",
              "      border-color: transparent;\n",
              "      border-right-color: var(--fill-color);\n",
              "      border-bottom-color: var(--fill-color);\n",
              "    }\n",
              "    90% {\n",
              "      border-color: transparent;\n",
              "      border-bottom-color: var(--fill-color);\n",
              "    }\n",
              "  }\n",
              "</style>\n",
              "\n",
              "  <script>\n",
              "    async function quickchart(key) {\n",
              "      const quickchartButtonEl =\n",
              "        document.querySelector('#' + key + ' button');\n",
              "      quickchartButtonEl.disabled = true;  // To prevent multiple clicks.\n",
              "      quickchartButtonEl.classList.add('colab-df-spinner');\n",
              "      try {\n",
              "        const charts = await google.colab.kernel.invokeFunction(\n",
              "            'suggestCharts', [key], {});\n",
              "      } catch (error) {\n",
              "        console.error('Error during call to suggestCharts:', error);\n",
              "      }\n",
              "      quickchartButtonEl.classList.remove('colab-df-spinner');\n",
              "      quickchartButtonEl.classList.add('colab-df-quickchart-complete');\n",
              "    }\n",
              "    (() => {\n",
              "      let quickchartButtonEl =\n",
              "        document.querySelector('#df-13841408-21a3-4a39-ad29-27b2672243c4 button');\n",
              "      quickchartButtonEl.style.display =\n",
              "        google.colab.kernel.accessAllowed ? 'block' : 'none';\n",
              "    })();\n",
              "  </script>\n",
              "</div>\n",
              "\n",
              "  <div id=\"id_09b54ec5-efd1-444a-873a-fd3be8073c09\">\n",
              "    <style>\n",
              "      .colab-df-generate {\n",
              "        background-color: #E8F0FE;\n",
              "        border: none;\n",
              "        border-radius: 50%;\n",
              "        cursor: pointer;\n",
              "        display: none;\n",
              "        fill: #1967D2;\n",
              "        height: 32px;\n",
              "        padding: 0 0 0 0;\n",
              "        width: 32px;\n",
              "      }\n",
              "\n",
              "      .colab-df-generate:hover {\n",
              "        background-color: #E2EBFA;\n",
              "        box-shadow: 0px 1px 2px rgba(60, 64, 67, 0.3), 0px 1px 3px 1px rgba(60, 64, 67, 0.15);\n",
              "        fill: #174EA6;\n",
              "      }\n",
              "\n",
              "      [theme=dark] .colab-df-generate {\n",
              "        background-color: #3B4455;\n",
              "        fill: #D2E3FC;\n",
              "      }\n",
              "\n",
              "      [theme=dark] .colab-df-generate:hover {\n",
              "        background-color: #434B5C;\n",
              "        box-shadow: 0px 1px 3px 1px rgba(0, 0, 0, 0.15);\n",
              "        filter: drop-shadow(0px 1px 2px rgba(0, 0, 0, 0.3));\n",
              "        fill: #FFFFFF;\n",
              "      }\n",
              "    </style>\n",
              "    <button class=\"colab-df-generate\" onclick=\"generateWithVariable('df')\"\n",
              "            title=\"Generate code using this dataframe.\"\n",
              "            style=\"display:none;\">\n",
              "\n",
              "  <svg xmlns=\"http://www.w3.org/2000/svg\" height=\"24px\"viewBox=\"0 0 24 24\"\n",
              "       width=\"24px\">\n",
              "    <path d=\"M7,19H8.4L18.45,9,17,7.55,7,17.6ZM5,21V16.75L18.45,3.32a2,2,0,0,1,2.83,0l1.4,1.43a1.91,1.91,0,0,1,.58,1.4,1.91,1.91,0,0,1-.58,1.4L9.25,21ZM18.45,9,17,7.55Zm-12,3A5.31,5.31,0,0,0,4.9,8.1,5.31,5.31,0,0,0,1,6.5,5.31,5.31,0,0,0,4.9,4.9,5.31,5.31,0,0,0,6.5,1,5.31,5.31,0,0,0,8.1,4.9,5.31,5.31,0,0,0,12,6.5,5.46,5.46,0,0,0,6.5,12Z\"/>\n",
              "  </svg>\n",
              "    </button>\n",
              "    <script>\n",
              "      (() => {\n",
              "      const buttonEl =\n",
              "        document.querySelector('#id_09b54ec5-efd1-444a-873a-fd3be8073c09 button.colab-df-generate');\n",
              "      buttonEl.style.display =\n",
              "        google.colab.kernel.accessAllowed ? 'block' : 'none';\n",
              "\n",
              "      buttonEl.onclick = () => {\n",
              "        google.colab.notebook.generateWithVariable('df');\n",
              "      }\n",
              "      })();\n",
              "    </script>\n",
              "  </div>\n",
              "\n",
              "    </div>\n",
              "  </div>\n"
            ],
            "application/vnd.google.colaboratory.intrinsic+json": {
              "type": "dataframe",
              "variable_name": "df",
              "summary": "{\n  \"name\": \"df\",\n  \"rows\": 60411,\n  \"fields\": [\n    {\n      \"column\": \"id\",\n      \"properties\": {\n        \"dtype\": \"number\",\n        \"std\": 17439,\n        \"min\": 90615,\n        \"max\": 151025,\n        \"num_unique_values\": 60411,\n        \"samples\": [\n          91344,\n          125524,\n          107704\n        ],\n        \"semantic_type\": \"\",\n        \"description\": \"\"\n      }\n    },\n    {\n      \"column\": \"Rings\",\n      \"properties\": {\n        \"dtype\": \"number\",\n        \"std\": 2.5711539209750236,\n        \"min\": 3.1903964146225965,\n        \"max\": 20.61410413035528,\n        \"num_unique_values\": 60095,\n        \"samples\": [\n          7.192069937511626,\n          10.310000730525392,\n          9.396472544144116\n        ],\n        \"semantic_type\": \"\",\n        \"description\": \"\"\n      }\n    }\n  ]\n}"
            }
          },
          "metadata": {},
          "execution_count": 117
        }
      ],
      "source": [
        "df"
      ]
    },
    {
      "cell_type": "code",
      "execution_count": null,
      "metadata": {
        "id": "gdXtJDSf-Z7_"
      },
      "outputs": [],
      "source": [
        "df.to_csv(\"submission.csv\",index=False)"
      ]
    },
    {
      "cell_type": "code",
      "execution_count": null,
      "metadata": {
        "colab": {
          "base_uri": "https://localhost:8080/"
        },
        "id": "QJpYEd7P-oxI",
        "outputId": "921167ee-3253-42fd-9de7-e9cd13141648"
      },
      "outputs": [
        {
          "output_type": "stream",
          "name": "stdout",
          "text": [
            "Warning: Looks like you're using an outdated API Version, please consider updating (server 1.6.12 / client 1.5.16)\n",
            "100% 1.45M/1.45M [00:00<00:00, 1.82MB/s]\n",
            "Successfully submitted to Regression with an Abalone Dataset"
          ]
        }
      ],
      "source": [
        "!kaggle competitions submit -c playground-series-s4e4 -f submission.csv -m \"first submission\""
      ]
    },
    {
      "cell_type": "code",
      "execution_count": null,
      "metadata": {
        "id": "zx9wuXiQ-tJ7"
      },
      "outputs": [],
      "source": [
        "# final score 0.14832 rank 1251/2500"
      ]
    }
  ],
  "metadata": {
    "colab": {
      "provenance": []
    },
    "kernelspec": {
      "display_name": "Python 3",
      "name": "python3"
    },
    "language_info": {
      "name": "python"
    },
    "widgets": {
      "application/vnd.jupyter.widget-state+json": {
        "f4974439e1ec4799b33a03927660e5b2": {
          "model_module": "catboost-widget",
          "model_name": "CatboostWidgetModel",
          "model_module_version": "^1.0.0",
          "state": {
            "_dom_classes": [],
            "_model_module": "catboost-widget",
            "_model_module_version": "^1.0.0",
            "_model_name": "CatboostWidgetModel",
            "_view_count": null,
            "_view_module": "catboost-widget",
            "_view_module_version": "^1.0.0",
            "_view_name": "CatboostWidgetView",
            "data": {
              "catboost_info": {
                "path": "catboost_info",
                "name": "catboost_info",
                "content": {
                  "passed_iterations": 19,
                  "total_iterations": 20,
                  "data": {
                    "iterations": [
                      {
                        "parameters": [
                          {
                            "depth": 3,
                            "learning_rate": 0.05,
                            "l2_leaf_reg": 3,
                            "iterations": 700
                          }
                        ],
                        "learn": [
                          1.870699611
                        ],
                        "iteration": 0,
                        "passed_time": 4.589143944,
                        "remaining_time": 87.19373494,
                        "test": [
                          1.883371356
                        ]
                      },
                      {
                        "parameters": [
                          {
                            "depth": 3,
                            "learning_rate": 0.03,
                            "l2_leaf_reg": 9,
                            "iterations": 700
                          }
                        ],
                        "learn": [
                          1.896604391
                        ],
                        "iteration": 1,
                        "passed_time": 9.059084463,
                        "remaining_time": 81.53176017,
                        "test": [
                          1.899185066
                        ]
                      },
                      {
                        "parameters": [
                          {
                            "depth": 3,
                            "learning_rate": 0.01,
                            "l2_leaf_reg": 5,
                            "iterations": 800
                          }
                        ],
                        "learn": [
                          1.969224725
                        ],
                        "iteration": 2,
                        "passed_time": 15.54567158,
                        "remaining_time": 88.09213897,
                        "test": [
                          1.964653818
                        ]
                      },
                      {
                        "parameters": [
                          {
                            "depth": 3,
                            "learning_rate": 0.03,
                            "l2_leaf_reg": 9,
                            "iterations": 800
                          }
                        ],
                        "learn": [
                          1.889960216
                        ],
                        "iteration": 3,
                        "passed_time": 20.66935971,
                        "remaining_time": 82.67743885,
                        "test": [
                          1.894238964
                        ]
                      },
                      {
                        "parameters": [
                          {
                            "depth": 4,
                            "learning_rate": 0.02,
                            "l2_leaf_reg": 1,
                            "iterations": 100
                          }
                        ],
                        "learn": [
                          2.544916591
                        ],
                        "iteration": 4,
                        "passed_time": 21.43756115,
                        "remaining_time": 64.31268345,
                        "test": [
                          2.531616065
                        ]
                      },
                      {
                        "parameters": [
                          {
                            "depth": 4,
                            "learning_rate": 0.02,
                            "l2_leaf_reg": 6,
                            "iterations": 100
                          }
                        ],
                        "learn": [
                          2.546856282
                        ],
                        "iteration": 5,
                        "passed_time": 22.40420813,
                        "remaining_time": 52.27648564,
                        "test": [
                          2.532754182
                        ]
                      },
                      {
                        "parameters": [
                          {
                            "depth": 4,
                            "learning_rate": 0.02,
                            "l2_leaf_reg": 1,
                            "iterations": 700
                          }
                        ],
                        "learn": [
                          1.9000949
                        ],
                        "iteration": 6,
                        "passed_time": 28.6380718,
                        "remaining_time": 53.18499049,
                        "test": [
                          1.902210886
                        ]
                      },
                      {
                        "parameters": [
                          {
                            "depth": 4,
                            "learning_rate": 0.03,
                            "l2_leaf_reg": 9,
                            "iterations": 800
                          }
                        ],
                        "learn": [
                          1.870600168
                        ],
                        "iteration": 7,
                        "passed_time": 34.4384259,
                        "remaining_time": 51.65763884,
                        "test": [
                          1.880878892
                        ]
                      },
                      {
                        "parameters": [
                          {
                            "depth": 6,
                            "learning_rate": 0.05,
                            "l2_leaf_reg": 3,
                            "iterations": 500
                          }
                        ],
                        "learn": [
                          1.826504321
                        ],
                        "iteration": 8,
                        "passed_time": 41.16503509,
                        "remaining_time": 50.31282066,
                        "test": [
                          1.865667197
                        ]
                      },
                      {
                        "parameters": [
                          {
                            "depth": 10,
                            "learning_rate": 0.03,
                            "l2_leaf_reg": 3,
                            "iterations": 100
                          }
                        ],
                        "learn": [
                          2.03147928
                        ],
                        "iteration": 9,
                        "passed_time": 44.11873345,
                        "remaining_time": 44.11873345,
                        "test": [
                          2.026685234
                        ]
                      },
                      {
                        "parameters": [
                          {
                            "depth": 10,
                            "learning_rate": 0.01,
                            "l2_leaf_reg": 7,
                            "iterations": 100
                          }
                        ],
                        "learn": [
                          4.275408246
                        ],
                        "iteration": 10,
                        "passed_time": 47.01299437,
                        "remaining_time": 38.46517722,
                        "test": [
                          4.256768912
                        ]
                      },
                      {
                        "parameters": [
                          {
                            "depth": 10,
                            "learning_rate": 0.01,
                            "l2_leaf_reg": 1,
                            "iterations": 300
                          }
                        ],
                        "learn": [
                          2.030574653
                        ],
                        "iteration": 11,
                        "passed_time": 56.90958631,
                        "remaining_time": 37.93972421,
                        "test": [
                          2.026581972
                        ]
                      },
                      {
                        "parameters": [
                          {
                            "depth": 10,
                            "learning_rate": 0.02,
                            "l2_leaf_reg": 7,
                            "iterations": 300
                          }
                        ],
                        "learn": [
                          1.89726054
                        ],
                        "iteration": 12,
                        "passed_time": 66.84855104,
                        "remaining_time": 35.99537363,
                        "test": [
                          1.906625816
                        ]
                      },
                      {
                        "parameters": [
                          {
                            "depth": 10,
                            "learning_rate": 0.03,
                            "l2_leaf_reg": 1,
                            "iterations": 700
                          }
                        ],
                        "learn": [
                          1.715377931
                        ],
                        "iteration": 13,
                        "passed_time": 89.81180169,
                        "remaining_time": 38.49077215,
                        "test": [
                          1.85915102
                        ]
                      },
                      {
                        "parameters": [
                          {
                            "depth": 10,
                            "learning_rate": 0.01,
                            "l2_leaf_reg": 3,
                            "iterations": 800
                          }
                        ],
                        "learn": [
                          1.863918213
                        ],
                        "iteration": 14,
                        "passed_time": 115.4358223,
                        "remaining_time": 38.47860743,
                        "test": [
                          1.888429515
                        ]
                      },
                      {
                        "parameters": [
                          {
                            "depth": 10,
                            "learning_rate": 0.01,
                            "l2_leaf_reg": 5,
                            "iterations": 800
                          }
                        ],
                        "learn": [
                          1.868302391
                        ],
                        "iteration": 15,
                        "passed_time": 140.6617905,
                        "remaining_time": 35.16544762,
                        "test": [
                          1.889379766
                        ]
                      },
                      {
                        "parameters": [
                          {
                            "depth": 10,
                            "learning_rate": 0.05,
                            "l2_leaf_reg": 7,
                            "iterations": 800
                          }
                        ],
                        "learn": [
                          1.682359225
                        ],
                        "iteration": 16,
                        "passed_time": 165.89216,
                        "remaining_time": 29.27508706,
                        "test": [
                          1.853306847
                        ]
                      },
                      {
                        "parameters": [
                          {
                            "depth": 12,
                            "learning_rate": 0.05,
                            "l2_leaf_reg": 6,
                            "iterations": 100
                          }
                        ],
                        "learn": [
                          1.899901051
                        ],
                        "iteration": 17,
                        "passed_time": 174.2716216,
                        "remaining_time": 19.36351351,
                        "test": [
                          1.910640185
                        ]
                      },
                      {
                        "parameters": [
                          {
                            "depth": 12,
                            "learning_rate": 0.02,
                            "l2_leaf_reg": 6,
                            "iterations": 100
                          }
                        ],
                        "learn": [
                          2.441659002
                        ],
                        "iteration": 18,
                        "passed_time": 182.265265,
                        "remaining_time": 9.592908687,
                        "test": [
                          2.431480399
                        ]
                      },
                      {
                        "parameters": [
                          {
                            "depth": 12,
                            "learning_rate": 0.05,
                            "l2_leaf_reg": 7,
                            "iterations": 300
                          }
                        ],
                        "learn": [
                          1.784358157
                        ],
                        "iteration": 19,
                        "passed_time": 207.7576088,
                        "remaining_time": 0,
                        "test": [
                          1.869171959
                        ]
                      }
                    ],
                    "meta": {
                      "test_sets": [
                        "test"
                      ],
                      "test_metrics": [
                        {
                          "best_value": "Min",
                          "name": "RMSE"
                        }
                      ],
                      "learn_metrics": [
                        {
                          "best_value": "Min",
                          "name": "RMSE"
                        }
                      ],
                      "launch_mode": "Train",
                      "parameters": "parameters",
                      "iteration_count": 20,
                      "learn_sets": [
                        "learn"
                      ],
                      "name": "experiment"
                    }
                  }
                }
              }
            },
            "layout": "IPY_MODEL_56b5a555b91e40698a53bd4606bae045"
          }
        }
      }
    }
  },
  "nbformat": 4,
  "nbformat_minor": 0
}