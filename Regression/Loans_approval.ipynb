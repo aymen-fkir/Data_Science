{
  "nbformat": 4,
  "nbformat_minor": 0,
  "metadata": {
    "colab": {
      "provenance": [],
      "gpuType": "T4"
    },
    "kernelspec": {
      "name": "python3",
      "display_name": "Python 3"
    },
    "language_info": {
      "name": "python"
    },
    "accelerator": "GPU"
  },
  "cells": [
    {
      "cell_type": "code",
      "execution_count": null,
      "metadata": {
        "id": "I19pWV2rfGmA"
      },
      "outputs": [],
      "source": [
        "%mkdir /root/.kaggle\n",
        "%mv kaggle.json /root/.kaggle\n",
        "!chmod 600 /root/.kaggle/kaggle.json"
      ]
    },
    {
      "cell_type": "code",
      "source": [
        "!kaggle competitions download -c playground-series-s4e10"
      ],
      "metadata": {
        "colab": {
          "base_uri": "https://localhost:8080/"
        },
        "id": "eHaC63eefmJf",
        "outputId": "667437f9-5f61-42fa-f6cf-b5930770eddb"
      },
      "execution_count": null,
      "outputs": [
        {
          "output_type": "stream",
          "name": "stdout",
          "text": [
            "Downloading playground-series-s4e10.zip to /content\n",
            " 69% 1.00M/1.45M [00:00<00:00, 2.10MB/s]\n",
            "100% 1.45M/1.45M [00:00<00:00, 2.74MB/s]\n"
          ]
        }
      ]
    },
    {
      "cell_type": "code",
      "source": [
        "!unzip playground-series-s4e10.zip"
      ],
      "metadata": {
        "colab": {
          "base_uri": "https://localhost:8080/"
        },
        "id": "ljr4i7x7gJKS",
        "outputId": "e0c5b209-6cfe-45f0-f484-ea7c87921a7b"
      },
      "execution_count": null,
      "outputs": [
        {
          "output_type": "stream",
          "name": "stdout",
          "text": [
            "Archive:  playground-series-s4e10.zip\n",
            "  inflating: sample_submission.csv   \n",
            "  inflating: test.csv                \n",
            "  inflating: train.csv               \n"
          ]
        }
      ]
    },
    {
      "cell_type": "code",
      "source": [
        "!pip install catboost"
      ],
      "metadata": {
        "colab": {
          "base_uri": "https://localhost:8080/"
        },
        "id": "pbuKN9vpjVb6",
        "outputId": "47a5fe30-e011-4c3b-b8ea-499377da614d"
      },
      "execution_count": null,
      "outputs": [
        {
          "output_type": "stream",
          "name": "stdout",
          "text": [
            "Collecting catboost\n",
            "  Downloading catboost-1.2.7-cp310-cp310-manylinux2014_x86_64.whl.metadata (1.2 kB)\n",
            "Requirement already satisfied: graphviz in /usr/local/lib/python3.10/dist-packages (from catboost) (0.20.3)\n",
            "Requirement already satisfied: matplotlib in /usr/local/lib/python3.10/dist-packages (from catboost) (3.7.1)\n",
            "Requirement already satisfied: numpy<2.0,>=1.16.0 in /usr/local/lib/python3.10/dist-packages (from catboost) (1.26.4)\n",
            "Requirement already satisfied: pandas>=0.24 in /usr/local/lib/python3.10/dist-packages (from catboost) (2.2.2)\n",
            "Requirement already satisfied: scipy in /usr/local/lib/python3.10/dist-packages (from catboost) (1.13.1)\n",
            "Requirement already satisfied: plotly in /usr/local/lib/python3.10/dist-packages (from catboost) (5.24.1)\n",
            "Requirement already satisfied: six in /usr/local/lib/python3.10/dist-packages (from catboost) (1.16.0)\n",
            "Requirement already satisfied: python-dateutil>=2.8.2 in /usr/local/lib/python3.10/dist-packages (from pandas>=0.24->catboost) (2.8.2)\n",
            "Requirement already satisfied: pytz>=2020.1 in /usr/local/lib/python3.10/dist-packages (from pandas>=0.24->catboost) (2024.2)\n",
            "Requirement already satisfied: tzdata>=2022.7 in /usr/local/lib/python3.10/dist-packages (from pandas>=0.24->catboost) (2024.2)\n",
            "Requirement already satisfied: contourpy>=1.0.1 in /usr/local/lib/python3.10/dist-packages (from matplotlib->catboost) (1.3.0)\n",
            "Requirement already satisfied: cycler>=0.10 in /usr/local/lib/python3.10/dist-packages (from matplotlib->catboost) (0.12.1)\n",
            "Requirement already satisfied: fonttools>=4.22.0 in /usr/local/lib/python3.10/dist-packages (from matplotlib->catboost) (4.54.1)\n",
            "Requirement already satisfied: kiwisolver>=1.0.1 in /usr/local/lib/python3.10/dist-packages (from matplotlib->catboost) (1.4.7)\n",
            "Requirement already satisfied: packaging>=20.0 in /usr/local/lib/python3.10/dist-packages (from matplotlib->catboost) (24.1)\n",
            "Requirement already satisfied: pillow>=6.2.0 in /usr/local/lib/python3.10/dist-packages (from matplotlib->catboost) (10.4.0)\n",
            "Requirement already satisfied: pyparsing>=2.3.1 in /usr/local/lib/python3.10/dist-packages (from matplotlib->catboost) (3.2.0)\n",
            "Requirement already satisfied: tenacity>=6.2.0 in /usr/local/lib/python3.10/dist-packages (from plotly->catboost) (9.0.0)\n",
            "Downloading catboost-1.2.7-cp310-cp310-manylinux2014_x86_64.whl (98.7 MB)\n",
            "\u001b[2K   \u001b[90m━━━━━━━━━━━━━━━━━━━━━━━━━━━━━━━━━━━━━━━━\u001b[0m \u001b[32m98.7/98.7 MB\u001b[0m \u001b[31m6.8 MB/s\u001b[0m eta \u001b[36m0:00:00\u001b[0m\n",
            "\u001b[?25hInstalling collected packages: catboost\n",
            "Successfully installed catboost-1.2.7\n"
          ]
        }
      ]
    },
    {
      "cell_type": "code",
      "source": [
        "!pip install optuna"
      ],
      "metadata": {
        "colab": {
          "base_uri": "https://localhost:8080/"
        },
        "id": "tho8p4J9okeB",
        "outputId": "fe7ff4e5-feed-420a-f1ec-71078c292677"
      },
      "execution_count": null,
      "outputs": [
        {
          "output_type": "stream",
          "name": "stdout",
          "text": [
            "Collecting optuna\n",
            "  Downloading optuna-4.0.0-py3-none-any.whl.metadata (16 kB)\n",
            "Collecting alembic>=1.5.0 (from optuna)\n",
            "  Downloading alembic-1.13.3-py3-none-any.whl.metadata (7.4 kB)\n",
            "Collecting colorlog (from optuna)\n",
            "  Downloading colorlog-6.8.2-py3-none-any.whl.metadata (10 kB)\n",
            "Requirement already satisfied: numpy in /usr/local/lib/python3.10/dist-packages (from optuna) (1.26.4)\n",
            "Requirement already satisfied: packaging>=20.0 in /usr/local/lib/python3.10/dist-packages (from optuna) (24.1)\n",
            "Requirement already satisfied: sqlalchemy>=1.3.0 in /usr/local/lib/python3.10/dist-packages (from optuna) (2.0.36)\n",
            "Requirement already satisfied: tqdm in /usr/local/lib/python3.10/dist-packages (from optuna) (4.66.5)\n",
            "Requirement already satisfied: PyYAML in /usr/local/lib/python3.10/dist-packages (from optuna) (6.0.2)\n",
            "Collecting Mako (from alembic>=1.5.0->optuna)\n",
            "  Downloading Mako-1.3.6-py3-none-any.whl.metadata (2.9 kB)\n",
            "Requirement already satisfied: typing-extensions>=4 in /usr/local/lib/python3.10/dist-packages (from alembic>=1.5.0->optuna) (4.12.2)\n",
            "Requirement already satisfied: greenlet!=0.4.17 in /usr/local/lib/python3.10/dist-packages (from sqlalchemy>=1.3.0->optuna) (3.1.1)\n",
            "Requirement already satisfied: MarkupSafe>=0.9.2 in /usr/local/lib/python3.10/dist-packages (from Mako->alembic>=1.5.0->optuna) (3.0.2)\n",
            "Downloading optuna-4.0.0-py3-none-any.whl (362 kB)\n",
            "\u001b[2K   \u001b[90m━━━━━━━━━━━━━━━━━━━━━━━━━━━━━━━━━━━━━━━━\u001b[0m \u001b[32m362.8/362.8 kB\u001b[0m \u001b[31m13.1 MB/s\u001b[0m eta \u001b[36m0:00:00\u001b[0m\n",
            "\u001b[?25hDownloading alembic-1.13.3-py3-none-any.whl (233 kB)\n",
            "\u001b[2K   \u001b[90m━━━━━━━━━━━━━━━━━━━━━━━━━━━━━━━━━━━━━━━━\u001b[0m \u001b[32m233.2/233.2 kB\u001b[0m \u001b[31m15.9 MB/s\u001b[0m eta \u001b[36m0:00:00\u001b[0m\n",
            "\u001b[?25hDownloading colorlog-6.8.2-py3-none-any.whl (11 kB)\n",
            "Downloading Mako-1.3.6-py3-none-any.whl (78 kB)\n",
            "\u001b[2K   \u001b[90m━━━━━━━━━━━━━━━━━━━━━━━━━━━━━━━━━━━━━━━━\u001b[0m \u001b[32m78.6/78.6 kB\u001b[0m \u001b[31m6.4 MB/s\u001b[0m eta \u001b[36m0:00:00\u001b[0m\n",
            "\u001b[?25hInstalling collected packages: Mako, colorlog, alembic, optuna\n",
            "Successfully installed Mako-1.3.6 alembic-1.13.3 colorlog-6.8.2 optuna-4.0.0\n"
          ]
        }
      ]
    },
    {
      "cell_type": "code",
      "source": [
        "import pandas as pd\n",
        "import seaborn as sns\n",
        "import matplotlib.pyplot as plt\n",
        "from sklearn.ensemble import StackingClassifier\n",
        "from catboost import CatBoostClassifier\n",
        "from xgboost import XGBClassifier\n",
        "from lightgbm import LGBMClassifier\n",
        "from sklearn.linear_model import LogisticRegression\n",
        "from sklearn.model_selection import train_test_split\n",
        "from sklearn.metrics import roc_auc_score\n",
        "from sklearn.preprocessing import LabelEncoder\n",
        "from sklearn.ensemble import StackingClassifier\n",
        "import optuna\n",
        "from sklearn.model_selection import cross_val_score\n",
        "from sklearn.model_selection import StratifiedKFold\n",
        "from sklearn.pipeline import Pipeline\n",
        "from sklearn.compose import ColumnTransformer\n",
        "from sklearn.preprocessing import OneHotEncoder\n",
        "import numpy as np\n",
        "from optuna.samplers import TPESampler"
      ],
      "metadata": {
        "id": "4hCD1x4khFwf",
        "colab": {
          "base_uri": "https://localhost:8080/"
        },
        "outputId": "5dfcde41-9af1-4eb3-d2b9-e1816699353f"
      },
      "execution_count": null,
      "outputs": [
        {
          "output_type": "stream",
          "name": "stderr",
          "text": [
            "/usr/local/lib/python3.10/dist-packages/dask/dataframe/__init__.py:42: FutureWarning: \n",
            "Dask dataframe query planning is disabled because dask-expr is not installed.\n",
            "\n",
            "You can install it with `pip install dask[dataframe]` or `conda install dask`.\n",
            "This will raise in a future version.\n",
            "\n",
            "  warnings.warn(msg, FutureWarning)\n"
          ]
        }
      ]
    },
    {
      "cell_type": "code",
      "source": [
        "!kaggle datasets download chilledwanker/loan-approval-prediction"
      ],
      "metadata": {
        "colab": {
          "base_uri": "https://localhost:8080/"
        },
        "id": "op70uNMnERQE",
        "outputId": "563c77f0-15f5-4f64-ea9d-db18422e2842"
      },
      "execution_count": null,
      "outputs": [
        {
          "output_type": "stream",
          "name": "stdout",
          "text": [
            "Dataset URL: https://www.kaggle.com/datasets/chilledwanker/loan-approval-prediction\n",
            "License(s): apache-2.0\n",
            "Downloading loan-approval-prediction.zip to /content\n",
            "100% 368k/368k [00:00<00:00, 972kB/s]\n",
            "100% 368k/368k [00:00<00:00, 971kB/s]\n"
          ]
        }
      ]
    },
    {
      "cell_type": "code",
      "source": [
        "!unzip loan-approval-prediction.zip"
      ],
      "metadata": {
        "colab": {
          "base_uri": "https://localhost:8080/"
        },
        "id": "Lmhd2ExoEUxJ",
        "outputId": "01c5b88b-109c-4a4a-e210-c84a3fc8523e"
      },
      "execution_count": null,
      "outputs": [
        {
          "output_type": "stream",
          "name": "stdout",
          "text": [
            "Archive:  loan-approval-prediction.zip\n",
            "  inflating: credit_risk_dataset.csv  \n"
          ]
        }
      ]
    },
    {
      "cell_type": "code",
      "source": [
        "data = pd.read_csv('train.csv')\n",
        "test_data = pd.read_csv('test.csv')\n",
        "original_data = pd.read_csv(\"credit_risk_dataset.csv\")"
      ],
      "metadata": {
        "id": "K_VILMWmhSdA"
      },
      "execution_count": null,
      "outputs": []
    },
    {
      "cell_type": "code",
      "source": [
        "print(data.shape)\n",
        "print(test_data.shape)\n",
        "print(original_data.shape)"
      ],
      "metadata": {
        "colab": {
          "base_uri": "https://localhost:8080/"
        },
        "id": "awx6BL0kDvvB",
        "outputId": "7f535526-f07e-4c98-b87e-9647f6d8b50e"
      },
      "execution_count": null,
      "outputs": [
        {
          "output_type": "stream",
          "name": "stdout",
          "text": [
            "(58645, 13)\n",
            "(39098, 12)\n",
            "(32581, 12)\n"
          ]
        }
      ]
    },
    {
      "cell_type": "code",
      "source": [
        "original_data.isna().any()"
      ],
      "metadata": {
        "colab": {
          "base_uri": "https://localhost:8080/",
          "height": 460
        },
        "id": "M9eoboKIE-aT",
        "outputId": "48f5ec5a-359f-444c-a51c-270512ab0039"
      },
      "execution_count": null,
      "outputs": [
        {
          "output_type": "execute_result",
          "data": {
            "text/plain": [
              "person_age                    False\n",
              "person_income                 False\n",
              "person_home_ownership         False\n",
              "person_emp_length              True\n",
              "loan_intent                   False\n",
              "loan_grade                    False\n",
              "loan_amnt                     False\n",
              "loan_int_rate                  True\n",
              "loan_status                   False\n",
              "loan_percent_income           False\n",
              "cb_person_default_on_file     False\n",
              "cb_person_cred_hist_length    False\n",
              "dtype: bool"
            ],
            "text/html": [
              "<div>\n",
              "<style scoped>\n",
              "    .dataframe tbody tr th:only-of-type {\n",
              "        vertical-align: middle;\n",
              "    }\n",
              "\n",
              "    .dataframe tbody tr th {\n",
              "        vertical-align: top;\n",
              "    }\n",
              "\n",
              "    .dataframe thead th {\n",
              "        text-align: right;\n",
              "    }\n",
              "</style>\n",
              "<table border=\"1\" class=\"dataframe\">\n",
              "  <thead>\n",
              "    <tr style=\"text-align: right;\">\n",
              "      <th></th>\n",
              "      <th>0</th>\n",
              "    </tr>\n",
              "  </thead>\n",
              "  <tbody>\n",
              "    <tr>\n",
              "      <th>person_age</th>\n",
              "      <td>False</td>\n",
              "    </tr>\n",
              "    <tr>\n",
              "      <th>person_income</th>\n",
              "      <td>False</td>\n",
              "    </tr>\n",
              "    <tr>\n",
              "      <th>person_home_ownership</th>\n",
              "      <td>False</td>\n",
              "    </tr>\n",
              "    <tr>\n",
              "      <th>person_emp_length</th>\n",
              "      <td>True</td>\n",
              "    </tr>\n",
              "    <tr>\n",
              "      <th>loan_intent</th>\n",
              "      <td>False</td>\n",
              "    </tr>\n",
              "    <tr>\n",
              "      <th>loan_grade</th>\n",
              "      <td>False</td>\n",
              "    </tr>\n",
              "    <tr>\n",
              "      <th>loan_amnt</th>\n",
              "      <td>False</td>\n",
              "    </tr>\n",
              "    <tr>\n",
              "      <th>loan_int_rate</th>\n",
              "      <td>True</td>\n",
              "    </tr>\n",
              "    <tr>\n",
              "      <th>loan_status</th>\n",
              "      <td>False</td>\n",
              "    </tr>\n",
              "    <tr>\n",
              "      <th>loan_percent_income</th>\n",
              "      <td>False</td>\n",
              "    </tr>\n",
              "    <tr>\n",
              "      <th>cb_person_default_on_file</th>\n",
              "      <td>False</td>\n",
              "    </tr>\n",
              "    <tr>\n",
              "      <th>cb_person_cred_hist_length</th>\n",
              "      <td>False</td>\n",
              "    </tr>\n",
              "  </tbody>\n",
              "</table>\n",
              "</div><br><label><b>dtype:</b> bool</label>"
            ]
          },
          "metadata": {},
          "execution_count": 21
        }
      ]
    },
    {
      "cell_type": "code",
      "source": [
        "data = pd.concat([data.drop(\"id\",axis=1),original_data],axis=0)"
      ],
      "metadata": {
        "id": "R2n26kfjElYT"
      },
      "execution_count": null,
      "outputs": []
    },
    {
      "cell_type": "code",
      "source": [
        "data['loan_status'].value_counts()"
      ],
      "metadata": {
        "colab": {
          "base_uri": "https://localhost:8080/",
          "height": 178
        },
        "id": "LaLE1A61hTs2",
        "outputId": "13150f90-b078-4181-b5eb-3055b8687085"
      },
      "execution_count": null,
      "outputs": [
        {
          "output_type": "execute_result",
          "data": {
            "text/plain": [
              "loan_status\n",
              "0    75768\n",
              "1    15458\n",
              "Name: count, dtype: int64"
            ],
            "text/html": [
              "<div>\n",
              "<style scoped>\n",
              "    .dataframe tbody tr th:only-of-type {\n",
              "        vertical-align: middle;\n",
              "    }\n",
              "\n",
              "    .dataframe tbody tr th {\n",
              "        vertical-align: top;\n",
              "    }\n",
              "\n",
              "    .dataframe thead th {\n",
              "        text-align: right;\n",
              "    }\n",
              "</style>\n",
              "<table border=\"1\" class=\"dataframe\">\n",
              "  <thead>\n",
              "    <tr style=\"text-align: right;\">\n",
              "      <th></th>\n",
              "      <th>count</th>\n",
              "    </tr>\n",
              "    <tr>\n",
              "      <th>loan_status</th>\n",
              "      <th></th>\n",
              "    </tr>\n",
              "  </thead>\n",
              "  <tbody>\n",
              "    <tr>\n",
              "      <th>0</th>\n",
              "      <td>75768</td>\n",
              "    </tr>\n",
              "    <tr>\n",
              "      <th>1</th>\n",
              "      <td>15458</td>\n",
              "    </tr>\n",
              "  </tbody>\n",
              "</table>\n",
              "</div><br><label><b>dtype:</b> int64</label>"
            ]
          },
          "metadata": {},
          "execution_count": 19
        }
      ]
    },
    {
      "cell_type": "code",
      "source": [
        "data.info()"
      ],
      "metadata": {
        "colab": {
          "base_uri": "https://localhost:8080/"
        },
        "id": "V16h3TAriXNs",
        "outputId": "e53a4108-267b-4774-b21e-c31e0b8db2a7"
      },
      "execution_count": null,
      "outputs": [
        {
          "output_type": "stream",
          "name": "stdout",
          "text": [
            "<class 'pandas.core.frame.DataFrame'>\n",
            "RangeIndex: 58645 entries, 0 to 58644\n",
            "Data columns (total 13 columns):\n",
            " #   Column                      Non-Null Count  Dtype  \n",
            "---  ------                      --------------  -----  \n",
            " 0   id                          58645 non-null  int64  \n",
            " 1   person_age                  58645 non-null  int64  \n",
            " 2   person_income               58645 non-null  int64  \n",
            " 3   person_home_ownership       58645 non-null  object \n",
            " 4   person_emp_length           58645 non-null  float64\n",
            " 5   loan_intent                 58645 non-null  object \n",
            " 6   loan_grade                  58645 non-null  object \n",
            " 7   loan_amnt                   58645 non-null  int64  \n",
            " 8   loan_int_rate               58645 non-null  float64\n",
            " 9   loan_percent_income         58645 non-null  float64\n",
            " 10  cb_person_default_on_file   58645 non-null  object \n",
            " 11  cb_person_cred_hist_length  58645 non-null  int64  \n",
            " 12  loan_status                 58645 non-null  int64  \n",
            "dtypes: float64(3), int64(6), object(4)\n",
            "memory usage: 5.8+ MB\n"
          ]
        }
      ]
    },
    {
      "cell_type": "code",
      "source": [
        "ids = test_data['id']\n",
        "test_data.drop('id',axis=1,inplace=True)"
      ],
      "metadata": {
        "id": "63MMLB2pll_g"
      },
      "execution_count": null,
      "outputs": []
    },
    {
      "cell_type": "code",
      "source": [
        "from sklearn.utils import resample\n",
        "\n",
        "loan = data.loc[data[\"loan_status\"]==1]\n",
        "non_loan = data.loc[data[\"loan_status\"]==0]\n",
        "\n",
        "non_loan_downsampeld = resample(non_loan,n_samples=loan.shape[0]+1000,random_state=42)\n",
        "\n",
        "data = pd.concat([loan,non_loan_downsampeld])"
      ],
      "metadata": {
        "id": "Lrp-PLfuginx"
      },
      "execution_count": null,
      "outputs": []
    },
    {
      "cell_type": "code",
      "source": [
        "data = data.sample(frac=1).reset_index(drop=True)"
      ],
      "metadata": {
        "id": "6qB2NAOOglpy"
      },
      "execution_count": null,
      "outputs": []
    },
    {
      "cell_type": "code",
      "source": [
        "for col in data.select_dtypes(include='object').columns.tolist():\n",
        "  data[col] = data[col].astype(\"category\")"
      ],
      "metadata": {
        "id": "MrORQgxaIXtJ"
      },
      "execution_count": null,
      "outputs": []
    },
    {
      "cell_type": "code",
      "source": [
        "for col in test_data.select_dtypes(include='object').columns.tolist():\n",
        "  test_data[col] = test_data[col].astype(\"category\")"
      ],
      "metadata": {
        "id": "hDWupI3MYPJ5"
      },
      "execution_count": null,
      "outputs": []
    },
    {
      "cell_type": "markdown",
      "source": [
        "#Analaysis"
      ],
      "metadata": {
        "id": "gvGClejFKon6"
      }
    },
    {
      "cell_type": "code",
      "source": [
        "cat_X_train,cat_X_test,cat_y_train,cat_y_test = train_test_split(data.drop('loan_status',axis=1),data['loan_status'],test_size=0.1,random_state=42)"
      ],
      "metadata": {
        "id": "A81WLuyOJh-W"
      },
      "execution_count": null,
      "outputs": []
    },
    {
      "cell_type": "code",
      "source": [
        "def model_test():\n",
        "  cat_features = data.select_dtypes(include='category').columns.tolist()\n",
        "  temp_model = CatBoostClassifier(cat_features=cat_features,silent=True)\n",
        "  temp_model.fit(cat_X_train,cat_y_train)\n",
        "\n",
        "  prediction = temp_model.predict(cat_X_test)\n",
        "  roc = roc_auc_score(cat_y_test,prediction)\n",
        "  print(f\"roc : {roc}\")\n",
        "  return temp_model\n",
        "temp_model = model_test()"
      ],
      "metadata": {
        "colab": {
          "base_uri": "https://localhost:8080/"
        },
        "id": "FjkANbxULWwh",
        "outputId": "1f6cd86a-4fa0-4fe5-9fb6-d1537497f9c8"
      },
      "execution_count": null,
      "outputs": [
        {
          "output_type": "stream",
          "name": "stdout",
          "text": [
            "roc : 0.9006300975531744\n"
          ]
        }
      ]
    },
    {
      "cell_type": "code",
      "source": [
        "def predict_and_save(model,test_data):\n",
        "  sub = pd.DataFrame()\n",
        "  sub['id'] = ids\n",
        "  sub['loan_status'] = model.predict(test_data)\n",
        "  sub.to_csv('submission.csv',index=False)\n",
        "  return sub\n",
        "#sub = predict_and_save(temp_model)"
      ],
      "metadata": {
        "id": "wFlyyV_CMAyh"
      },
      "execution_count": null,
      "outputs": []
    },
    {
      "cell_type": "code",
      "source": [
        "def objective_cat(trial):\n",
        "\n",
        "  catboost_params = {\n",
        "      \"iterations\": trial.suggest_int(\"iterations\", 100, 5000, step=100),\n",
        "      \"learning_rate\": trial.suggest_float(\"learning_rate\", 1e-3, 0.1, log=True),\n",
        "      \"depth\": trial.suggest_int(\"depth\", 1, 15),\n",
        "      \"min_data_in_leaf\": trial.suggest_int(\"min_data_in_leaf\", 1, 100),\n",
        "      \"rsm\": trial.suggest_float(\"rsm\", 0.05, 1.0),\n",
        "      \"subsample\": trial.suggest_float(\"subsample\", 0.05, 1.0),\n",
        "      \"l2_leaf_reg\": trial.suggest_float(\"l2_leaf_reg\", 1e-8, 10.0, log=True),\n",
        "      \"loss_function\": \"Logloss\",  # For binary classification\n",
        "      \"verbose\": 0\n",
        "  }\n",
        "  cat_features = data.select_dtypes(include='category').columns.tolist()\n",
        "  model = CatBoostClassifier(cat_features=cat_features,silent=True)\n",
        "  scores = cross_val_score(model,data.drop('loan_status',axis=1),data['loan_status'],cv=5,scoring=\"roc_auc\")\n",
        "  return scores.mean()"
      ],
      "metadata": {
        "id": "MV1oT_dJC58m"
      },
      "execution_count": null,
      "outputs": []
    },
    {
      "cell_type": "code",
      "source": [
        "study = optuna.create_study(direction=\"maximize\")\n",
        "study.optimize(objective_cat, n_trials=10)"
      ],
      "metadata": {
        "colab": {
          "base_uri": "https://localhost:8080/"
        },
        "id": "WKD8WusDQo8Y",
        "outputId": "66bcb3d6-3d34-4241-8b37-85e341009f12"
      },
      "execution_count": null,
      "outputs": [
        {
          "output_type": "stream",
          "name": "stderr",
          "text": [
            "[I 2024-10-28 22:34:27,251] A new study created in memory with name: no-name-40ff5cdc-deb6-4310-a578-a77affd7c0a8\n",
            "[I 2024-10-28 22:36:20,233] Trial 0 finished with value: 0.9554658170290435 and parameters: {'iterations': 1200, 'learning_rate': 0.02893698238923492, 'depth': 8, 'min_data_in_leaf': 21, 'rsm': 0.9328891287180453, 'subsample': 0.4138256931518198, 'l2_leaf_reg': 1.0116664002968488e-07}. Best is trial 0 with value: 0.9554658170290435.\n",
            "[I 2024-10-28 22:38:11,654] Trial 1 finished with value: 0.9554658170290435 and parameters: {'iterations': 900, 'learning_rate': 0.019342030095037984, 'depth': 14, 'min_data_in_leaf': 60, 'rsm': 0.1619389518233245, 'subsample': 0.9866489774161024, 'l2_leaf_reg': 7.34751048065774e-05}. Best is trial 0 with value: 0.9554658170290435.\n",
            "[I 2024-10-28 22:40:02,082] Trial 2 finished with value: 0.9554658170290435 and parameters: {'iterations': 4300, 'learning_rate': 0.0034367409859419273, 'depth': 2, 'min_data_in_leaf': 99, 'rsm': 0.826055814129686, 'subsample': 0.31502686601437485, 'l2_leaf_reg': 9.351220015456981e-07}. Best is trial 0 with value: 0.9554658170290435.\n",
            "[I 2024-10-28 22:41:53,359] Trial 3 finished with value: 0.9554658170290435 and parameters: {'iterations': 2000, 'learning_rate': 0.011367604362488732, 'depth': 3, 'min_data_in_leaf': 35, 'rsm': 0.7312084221248708, 'subsample': 0.8536992022010303, 'l2_leaf_reg': 0.13892682429694644}. Best is trial 0 with value: 0.9554658170290435.\n",
            "[I 2024-10-28 22:43:44,523] Trial 4 finished with value: 0.9554658170290435 and parameters: {'iterations': 2100, 'learning_rate': 0.06030610473761201, 'depth': 11, 'min_data_in_leaf': 89, 'rsm': 0.823278692508754, 'subsample': 0.8209120547882233, 'l2_leaf_reg': 2.347814205092647e-08}. Best is trial 0 with value: 0.9554658170290435.\n",
            "[I 2024-10-28 22:45:35,534] Trial 5 finished with value: 0.9554658170290435 and parameters: {'iterations': 3900, 'learning_rate': 0.047154446487911734, 'depth': 13, 'min_data_in_leaf': 53, 'rsm': 0.2447306648711995, 'subsample': 0.6064362024149892, 'l2_leaf_reg': 1.835207211942018e-07}. Best is trial 0 with value: 0.9554658170290435.\n",
            "[I 2024-10-28 22:47:24,633] Trial 6 finished with value: 0.9554658170290435 and parameters: {'iterations': 4000, 'learning_rate': 0.0010722455270129126, 'depth': 10, 'min_data_in_leaf': 99, 'rsm': 0.15849433128489027, 'subsample': 0.21392360754859724, 'l2_leaf_reg': 1.5279168772453022}. Best is trial 0 with value: 0.9554658170290435.\n",
            "[I 2024-10-28 22:49:15,580] Trial 7 finished with value: 0.9554658170290435 and parameters: {'iterations': 4400, 'learning_rate': 0.07505699880881483, 'depth': 2, 'min_data_in_leaf': 1, 'rsm': 0.7908080908632356, 'subsample': 0.3134593982052822, 'l2_leaf_reg': 6.430172098878284e-05}. Best is trial 0 with value: 0.9554658170290435.\n",
            "[I 2024-10-28 22:51:04,903] Trial 8 finished with value: 0.9554658170290435 and parameters: {'iterations': 1200, 'learning_rate': 0.009699843137045519, 'depth': 2, 'min_data_in_leaf': 91, 'rsm': 0.28492394260486364, 'subsample': 0.12387011270034287, 'l2_leaf_reg': 0.0006641925230338591}. Best is trial 0 with value: 0.9554658170290435.\n",
            "[I 2024-10-28 22:52:53,931] Trial 9 finished with value: 0.9554658170290435 and parameters: {'iterations': 3700, 'learning_rate': 0.06451674664655921, 'depth': 14, 'min_data_in_leaf': 42, 'rsm': 0.2966980947648041, 'subsample': 0.4370533588429992, 'l2_leaf_reg': 0.3358250383391994}. Best is trial 0 with value: 0.9554658170290435.\n"
          ]
        }
      ]
    },
    {
      "cell_type": "code",
      "source": [
        "cat_features = data.select_dtypes(include='category').columns.tolist()\n",
        "model = CatBoostClassifier(cat_features=cat_features,**study.best_params,silent=True,loss_function= \"Logloss\")\n",
        "model.fit(data.drop('loan_status',axis=1),data['loan_status'])"
      ],
      "metadata": {
        "colab": {
          "base_uri": "https://localhost:8080/"
        },
        "id": "BWYfb11dVcfg",
        "outputId": "85076afb-5767-4668-9301-568ec07e9f66"
      },
      "execution_count": null,
      "outputs": [
        {
          "output_type": "execute_result",
          "data": {
            "text/plain": [
              "<catboost.core.CatBoostClassifier at 0x7b612effae30>"
            ]
          },
          "metadata": {},
          "execution_count": 71
        }
      ]
    },
    {
      "cell_type": "code",
      "source": [
        "sub = predict_and_save(model)"
      ],
      "metadata": {
        "id": "Ud7NpcPkV4q5"
      },
      "execution_count": null,
      "outputs": []
    },
    {
      "cell_type": "code",
      "source": [
        "def encode_labels(data):\n",
        "  cols = data.select_dtypes(include='category').columns.tolist()\n",
        "  for col in cols:\n",
        "    le = LabelEncoder()\n",
        "    le.fit(data[col])\n",
        "    data[col] = le.transform(data[col])\n",
        "    print(f\"{le.classes_} : {le.transform(le.classes_)}\")\n",
        "  return data\n",
        "\n",
        "data_xgb = encode_labels(data.copy())\n"
      ],
      "metadata": {
        "colab": {
          "base_uri": "https://localhost:8080/"
        },
        "id": "cIB4T1NEWpk0",
        "outputId": "90a62c9c-9155-42ed-8f91-a30462f6fd44"
      },
      "execution_count": null,
      "outputs": [
        {
          "output_type": "stream",
          "name": "stdout",
          "text": [
            "['MORTGAGE' 'OTHER' 'OWN' 'RENT'] : [0 1 2 3]\n",
            "['DEBTCONSOLIDATION' 'EDUCATION' 'HOMEIMPROVEMENT' 'MEDICAL' 'PERSONAL'\n",
            " 'VENTURE'] : [0 1 2 3 4 5]\n",
            "['A' 'B' 'C' 'D' 'E' 'F' 'G'] : [0 1 2 3 4 5 6]\n",
            "['N' 'Y'] : [0 1]\n"
          ]
        }
      ]
    },
    {
      "cell_type": "code",
      "source": [
        "test_data_xgb = encode_labels(test_data.copy())"
      ],
      "metadata": {
        "colab": {
          "base_uri": "https://localhost:8080/"
        },
        "id": "gsYLuXahXtFo",
        "outputId": "ca7c2287-1cbb-4969-8e7a-5fc56a5d957c"
      },
      "execution_count": null,
      "outputs": [
        {
          "output_type": "stream",
          "name": "stdout",
          "text": [
            "['MORTGAGE' 'OTHER' 'OWN' 'RENT'] : [0 1 2 3]\n",
            "['DEBTCONSOLIDATION' 'EDUCATION' 'HOMEIMPROVEMENT' 'MEDICAL' 'PERSONAL'\n",
            " 'VENTURE'] : [0 1 2 3 4 5]\n",
            "['A' 'B' 'C' 'D' 'E' 'F' 'G'] : [0 1 2 3 4 5 6]\n",
            "['N' 'Y'] : [0 1]\n"
          ]
        }
      ]
    },
    {
      "cell_type": "markdown",
      "source": [
        "##XGB MODEL"
      ],
      "metadata": {
        "id": "jHDboeFYO_am"
      }
    },
    {
      "cell_type": "code",
      "source": [
        "X = data.drop('loan_status',axis=1)\n",
        "y = data['loan_status']"
      ],
      "metadata": {
        "id": "nILKWyfCWZPA"
      },
      "execution_count": null,
      "outputs": []
    },
    {
      "cell_type": "code",
      "source": [
        "X"
      ],
      "metadata": {
        "colab": {
          "base_uri": "https://localhost:8080/",
          "height": 443
        },
        "id": "y-wZ0kUJgdf-",
        "outputId": "d750681e-5cdd-45ac-84aa-a7c1588e76d0"
      },
      "execution_count": null,
      "outputs": [
        {
          "output_type": "execute_result",
          "data": {
            "text/plain": [
              "       person_age  person_income person_home_ownership  person_emp_length  \\\n",
              "0              37          35000                  RENT                0.0   \n",
              "1              22          56000                   OWN                6.0   \n",
              "2              29          28800                   OWN                8.0   \n",
              "3              30          70000                  RENT               14.0   \n",
              "4              22          60000                  RENT                2.0   \n",
              "...           ...            ...                   ...                ...   \n",
              "58640          34         120000              MORTGAGE                5.0   \n",
              "58641          28          28800                  RENT                0.0   \n",
              "58642          23          44000                  RENT                7.0   \n",
              "58643          22          30000                  RENT                2.0   \n",
              "58644          31          75000              MORTGAGE                2.0   \n",
              "\n",
              "      loan_intent loan_grade  loan_amnt  loan_int_rate  loan_percent_income  \\\n",
              "0       EDUCATION          B       6000          11.49                 0.17   \n",
              "1         MEDICAL          C       4000          13.35                 0.07   \n",
              "2        PERSONAL          A       6000           8.90                 0.21   \n",
              "3         VENTURE          B      12000          11.11                 0.17   \n",
              "4         MEDICAL          A       6000           6.92                 0.10   \n",
              "...           ...        ...        ...            ...                  ...   \n",
              "58640   EDUCATION          D      25000          15.95                 0.21   \n",
              "58641     MEDICAL          C      10000          12.73                 0.35   \n",
              "58642   EDUCATION          D       6800          16.00                 0.15   \n",
              "58643   EDUCATION          A       5000           8.90                 0.17   \n",
              "58644     VENTURE          B      15000          11.11                 0.20   \n",
              "\n",
              "      cb_person_default_on_file  cb_person_cred_hist_length  \n",
              "0                             N                          14  \n",
              "1                             N                           2  \n",
              "2                             N                          10  \n",
              "3                             N                           5  \n",
              "4                             N                           3  \n",
              "...                         ...                         ...  \n",
              "58640                         Y                          10  \n",
              "58641                         N                           8  \n",
              "58642                         N                           2  \n",
              "58643                         N                           3  \n",
              "58644                         N                           5  \n",
              "\n",
              "[58645 rows x 11 columns]"
            ],
            "text/html": [
              "\n",
              "  <div id=\"df-aa861842-b5ba-404b-8f30-b6490a5d4b5e\" class=\"colab-df-container\">\n",
              "    <div>\n",
              "<style scoped>\n",
              "    .dataframe tbody tr th:only-of-type {\n",
              "        vertical-align: middle;\n",
              "    }\n",
              "\n",
              "    .dataframe tbody tr th {\n",
              "        vertical-align: top;\n",
              "    }\n",
              "\n",
              "    .dataframe thead th {\n",
              "        text-align: right;\n",
              "    }\n",
              "</style>\n",
              "<table border=\"1\" class=\"dataframe\">\n",
              "  <thead>\n",
              "    <tr style=\"text-align: right;\">\n",
              "      <th></th>\n",
              "      <th>person_age</th>\n",
              "      <th>person_income</th>\n",
              "      <th>person_home_ownership</th>\n",
              "      <th>person_emp_length</th>\n",
              "      <th>loan_intent</th>\n",
              "      <th>loan_grade</th>\n",
              "      <th>loan_amnt</th>\n",
              "      <th>loan_int_rate</th>\n",
              "      <th>loan_percent_income</th>\n",
              "      <th>cb_person_default_on_file</th>\n",
              "      <th>cb_person_cred_hist_length</th>\n",
              "    </tr>\n",
              "  </thead>\n",
              "  <tbody>\n",
              "    <tr>\n",
              "      <th>0</th>\n",
              "      <td>37</td>\n",
              "      <td>35000</td>\n",
              "      <td>RENT</td>\n",
              "      <td>0.0</td>\n",
              "      <td>EDUCATION</td>\n",
              "      <td>B</td>\n",
              "      <td>6000</td>\n",
              "      <td>11.49</td>\n",
              "      <td>0.17</td>\n",
              "      <td>N</td>\n",
              "      <td>14</td>\n",
              "    </tr>\n",
              "    <tr>\n",
              "      <th>1</th>\n",
              "      <td>22</td>\n",
              "      <td>56000</td>\n",
              "      <td>OWN</td>\n",
              "      <td>6.0</td>\n",
              "      <td>MEDICAL</td>\n",
              "      <td>C</td>\n",
              "      <td>4000</td>\n",
              "      <td>13.35</td>\n",
              "      <td>0.07</td>\n",
              "      <td>N</td>\n",
              "      <td>2</td>\n",
              "    </tr>\n",
              "    <tr>\n",
              "      <th>2</th>\n",
              "      <td>29</td>\n",
              "      <td>28800</td>\n",
              "      <td>OWN</td>\n",
              "      <td>8.0</td>\n",
              "      <td>PERSONAL</td>\n",
              "      <td>A</td>\n",
              "      <td>6000</td>\n",
              "      <td>8.90</td>\n",
              "      <td>0.21</td>\n",
              "      <td>N</td>\n",
              "      <td>10</td>\n",
              "    </tr>\n",
              "    <tr>\n",
              "      <th>3</th>\n",
              "      <td>30</td>\n",
              "      <td>70000</td>\n",
              "      <td>RENT</td>\n",
              "      <td>14.0</td>\n",
              "      <td>VENTURE</td>\n",
              "      <td>B</td>\n",
              "      <td>12000</td>\n",
              "      <td>11.11</td>\n",
              "      <td>0.17</td>\n",
              "      <td>N</td>\n",
              "      <td>5</td>\n",
              "    </tr>\n",
              "    <tr>\n",
              "      <th>4</th>\n",
              "      <td>22</td>\n",
              "      <td>60000</td>\n",
              "      <td>RENT</td>\n",
              "      <td>2.0</td>\n",
              "      <td>MEDICAL</td>\n",
              "      <td>A</td>\n",
              "      <td>6000</td>\n",
              "      <td>6.92</td>\n",
              "      <td>0.10</td>\n",
              "      <td>N</td>\n",
              "      <td>3</td>\n",
              "    </tr>\n",
              "    <tr>\n",
              "      <th>...</th>\n",
              "      <td>...</td>\n",
              "      <td>...</td>\n",
              "      <td>...</td>\n",
              "      <td>...</td>\n",
              "      <td>...</td>\n",
              "      <td>...</td>\n",
              "      <td>...</td>\n",
              "      <td>...</td>\n",
              "      <td>...</td>\n",
              "      <td>...</td>\n",
              "      <td>...</td>\n",
              "    </tr>\n",
              "    <tr>\n",
              "      <th>58640</th>\n",
              "      <td>34</td>\n",
              "      <td>120000</td>\n",
              "      <td>MORTGAGE</td>\n",
              "      <td>5.0</td>\n",
              "      <td>EDUCATION</td>\n",
              "      <td>D</td>\n",
              "      <td>25000</td>\n",
              "      <td>15.95</td>\n",
              "      <td>0.21</td>\n",
              "      <td>Y</td>\n",
              "      <td>10</td>\n",
              "    </tr>\n",
              "    <tr>\n",
              "      <th>58641</th>\n",
              "      <td>28</td>\n",
              "      <td>28800</td>\n",
              "      <td>RENT</td>\n",
              "      <td>0.0</td>\n",
              "      <td>MEDICAL</td>\n",
              "      <td>C</td>\n",
              "      <td>10000</td>\n",
              "      <td>12.73</td>\n",
              "      <td>0.35</td>\n",
              "      <td>N</td>\n",
              "      <td>8</td>\n",
              "    </tr>\n",
              "    <tr>\n",
              "      <th>58642</th>\n",
              "      <td>23</td>\n",
              "      <td>44000</td>\n",
              "      <td>RENT</td>\n",
              "      <td>7.0</td>\n",
              "      <td>EDUCATION</td>\n",
              "      <td>D</td>\n",
              "      <td>6800</td>\n",
              "      <td>16.00</td>\n",
              "      <td>0.15</td>\n",
              "      <td>N</td>\n",
              "      <td>2</td>\n",
              "    </tr>\n",
              "    <tr>\n",
              "      <th>58643</th>\n",
              "      <td>22</td>\n",
              "      <td>30000</td>\n",
              "      <td>RENT</td>\n",
              "      <td>2.0</td>\n",
              "      <td>EDUCATION</td>\n",
              "      <td>A</td>\n",
              "      <td>5000</td>\n",
              "      <td>8.90</td>\n",
              "      <td>0.17</td>\n",
              "      <td>N</td>\n",
              "      <td>3</td>\n",
              "    </tr>\n",
              "    <tr>\n",
              "      <th>58644</th>\n",
              "      <td>31</td>\n",
              "      <td>75000</td>\n",
              "      <td>MORTGAGE</td>\n",
              "      <td>2.0</td>\n",
              "      <td>VENTURE</td>\n",
              "      <td>B</td>\n",
              "      <td>15000</td>\n",
              "      <td>11.11</td>\n",
              "      <td>0.20</td>\n",
              "      <td>N</td>\n",
              "      <td>5</td>\n",
              "    </tr>\n",
              "  </tbody>\n",
              "</table>\n",
              "<p>58645 rows × 11 columns</p>\n",
              "</div>\n",
              "    <div class=\"colab-df-buttons\">\n",
              "\n",
              "  <div class=\"colab-df-container\">\n",
              "    <button class=\"colab-df-convert\" onclick=\"convertToInteractive('df-aa861842-b5ba-404b-8f30-b6490a5d4b5e')\"\n",
              "            title=\"Convert this dataframe to an interactive table.\"\n",
              "            style=\"display:none;\">\n",
              "\n",
              "  <svg xmlns=\"http://www.w3.org/2000/svg\" height=\"24px\" viewBox=\"0 -960 960 960\">\n",
              "    <path d=\"M120-120v-720h720v720H120Zm60-500h600v-160H180v160Zm220 220h160v-160H400v160Zm0 220h160v-160H400v160ZM180-400h160v-160H180v160Zm440 0h160v-160H620v160ZM180-180h160v-160H180v160Zm440 0h160v-160H620v160Z\"/>\n",
              "  </svg>\n",
              "    </button>\n",
              "\n",
              "  <style>\n",
              "    .colab-df-container {\n",
              "      display:flex;\n",
              "      gap: 12px;\n",
              "    }\n",
              "\n",
              "    .colab-df-convert {\n",
              "      background-color: #E8F0FE;\n",
              "      border: none;\n",
              "      border-radius: 50%;\n",
              "      cursor: pointer;\n",
              "      display: none;\n",
              "      fill: #1967D2;\n",
              "      height: 32px;\n",
              "      padding: 0 0 0 0;\n",
              "      width: 32px;\n",
              "    }\n",
              "\n",
              "    .colab-df-convert:hover {\n",
              "      background-color: #E2EBFA;\n",
              "      box-shadow: 0px 1px 2px rgba(60, 64, 67, 0.3), 0px 1px 3px 1px rgba(60, 64, 67, 0.15);\n",
              "      fill: #174EA6;\n",
              "    }\n",
              "\n",
              "    .colab-df-buttons div {\n",
              "      margin-bottom: 4px;\n",
              "    }\n",
              "\n",
              "    [theme=dark] .colab-df-convert {\n",
              "      background-color: #3B4455;\n",
              "      fill: #D2E3FC;\n",
              "    }\n",
              "\n",
              "    [theme=dark] .colab-df-convert:hover {\n",
              "      background-color: #434B5C;\n",
              "      box-shadow: 0px 1px 3px 1px rgba(0, 0, 0, 0.15);\n",
              "      filter: drop-shadow(0px 1px 2px rgba(0, 0, 0, 0.3));\n",
              "      fill: #FFFFFF;\n",
              "    }\n",
              "  </style>\n",
              "\n",
              "    <script>\n",
              "      const buttonEl =\n",
              "        document.querySelector('#df-aa861842-b5ba-404b-8f30-b6490a5d4b5e button.colab-df-convert');\n",
              "      buttonEl.style.display =\n",
              "        google.colab.kernel.accessAllowed ? 'block' : 'none';\n",
              "\n",
              "      async function convertToInteractive(key) {\n",
              "        const element = document.querySelector('#df-aa861842-b5ba-404b-8f30-b6490a5d4b5e');\n",
              "        const dataTable =\n",
              "          await google.colab.kernel.invokeFunction('convertToInteractive',\n",
              "                                                    [key], {});\n",
              "        if (!dataTable) return;\n",
              "\n",
              "        const docLinkHtml = 'Like what you see? Visit the ' +\n",
              "          '<a target=\"_blank\" href=https://colab.research.google.com/notebooks/data_table.ipynb>data table notebook</a>'\n",
              "          + ' to learn more about interactive tables.';\n",
              "        element.innerHTML = '';\n",
              "        dataTable['output_type'] = 'display_data';\n",
              "        await google.colab.output.renderOutput(dataTable, element);\n",
              "        const docLink = document.createElement('div');\n",
              "        docLink.innerHTML = docLinkHtml;\n",
              "        element.appendChild(docLink);\n",
              "      }\n",
              "    </script>\n",
              "  </div>\n",
              "\n",
              "\n",
              "<div id=\"df-6ba9647c-3b13-4d4a-a4eb-74308f420e29\">\n",
              "  <button class=\"colab-df-quickchart\" onclick=\"quickchart('df-6ba9647c-3b13-4d4a-a4eb-74308f420e29')\"\n",
              "            title=\"Suggest charts\"\n",
              "            style=\"display:none;\">\n",
              "\n",
              "<svg xmlns=\"http://www.w3.org/2000/svg\" height=\"24px\"viewBox=\"0 0 24 24\"\n",
              "     width=\"24px\">\n",
              "    <g>\n",
              "        <path d=\"M19 3H5c-1.1 0-2 .9-2 2v14c0 1.1.9 2 2 2h14c1.1 0 2-.9 2-2V5c0-1.1-.9-2-2-2zM9 17H7v-7h2v7zm4 0h-2V7h2v10zm4 0h-2v-4h2v4z\"/>\n",
              "    </g>\n",
              "</svg>\n",
              "  </button>\n",
              "\n",
              "<style>\n",
              "  .colab-df-quickchart {\n",
              "      --bg-color: #E8F0FE;\n",
              "      --fill-color: #1967D2;\n",
              "      --hover-bg-color: #E2EBFA;\n",
              "      --hover-fill-color: #174EA6;\n",
              "      --disabled-fill-color: #AAA;\n",
              "      --disabled-bg-color: #DDD;\n",
              "  }\n",
              "\n",
              "  [theme=dark] .colab-df-quickchart {\n",
              "      --bg-color: #3B4455;\n",
              "      --fill-color: #D2E3FC;\n",
              "      --hover-bg-color: #434B5C;\n",
              "      --hover-fill-color: #FFFFFF;\n",
              "      --disabled-bg-color: #3B4455;\n",
              "      --disabled-fill-color: #666;\n",
              "  }\n",
              "\n",
              "  .colab-df-quickchart {\n",
              "    background-color: var(--bg-color);\n",
              "    border: none;\n",
              "    border-radius: 50%;\n",
              "    cursor: pointer;\n",
              "    display: none;\n",
              "    fill: var(--fill-color);\n",
              "    height: 32px;\n",
              "    padding: 0;\n",
              "    width: 32px;\n",
              "  }\n",
              "\n",
              "  .colab-df-quickchart:hover {\n",
              "    background-color: var(--hover-bg-color);\n",
              "    box-shadow: 0 1px 2px rgba(60, 64, 67, 0.3), 0 1px 3px 1px rgba(60, 64, 67, 0.15);\n",
              "    fill: var(--button-hover-fill-color);\n",
              "  }\n",
              "\n",
              "  .colab-df-quickchart-complete:disabled,\n",
              "  .colab-df-quickchart-complete:disabled:hover {\n",
              "    background-color: var(--disabled-bg-color);\n",
              "    fill: var(--disabled-fill-color);\n",
              "    box-shadow: none;\n",
              "  }\n",
              "\n",
              "  .colab-df-spinner {\n",
              "    border: 2px solid var(--fill-color);\n",
              "    border-color: transparent;\n",
              "    border-bottom-color: var(--fill-color);\n",
              "    animation:\n",
              "      spin 1s steps(1) infinite;\n",
              "  }\n",
              "\n",
              "  @keyframes spin {\n",
              "    0% {\n",
              "      border-color: transparent;\n",
              "      border-bottom-color: var(--fill-color);\n",
              "      border-left-color: var(--fill-color);\n",
              "    }\n",
              "    20% {\n",
              "      border-color: transparent;\n",
              "      border-left-color: var(--fill-color);\n",
              "      border-top-color: var(--fill-color);\n",
              "    }\n",
              "    30% {\n",
              "      border-color: transparent;\n",
              "      border-left-color: var(--fill-color);\n",
              "      border-top-color: var(--fill-color);\n",
              "      border-right-color: var(--fill-color);\n",
              "    }\n",
              "    40% {\n",
              "      border-color: transparent;\n",
              "      border-right-color: var(--fill-color);\n",
              "      border-top-color: var(--fill-color);\n",
              "    }\n",
              "    60% {\n",
              "      border-color: transparent;\n",
              "      border-right-color: var(--fill-color);\n",
              "    }\n",
              "    80% {\n",
              "      border-color: transparent;\n",
              "      border-right-color: var(--fill-color);\n",
              "      border-bottom-color: var(--fill-color);\n",
              "    }\n",
              "    90% {\n",
              "      border-color: transparent;\n",
              "      border-bottom-color: var(--fill-color);\n",
              "    }\n",
              "  }\n",
              "</style>\n",
              "\n",
              "  <script>\n",
              "    async function quickchart(key) {\n",
              "      const quickchartButtonEl =\n",
              "        document.querySelector('#' + key + ' button');\n",
              "      quickchartButtonEl.disabled = true;  // To prevent multiple clicks.\n",
              "      quickchartButtonEl.classList.add('colab-df-spinner');\n",
              "      try {\n",
              "        const charts = await google.colab.kernel.invokeFunction(\n",
              "            'suggestCharts', [key], {});\n",
              "      } catch (error) {\n",
              "        console.error('Error during call to suggestCharts:', error);\n",
              "      }\n",
              "      quickchartButtonEl.classList.remove('colab-df-spinner');\n",
              "      quickchartButtonEl.classList.add('colab-df-quickchart-complete');\n",
              "    }\n",
              "    (() => {\n",
              "      let quickchartButtonEl =\n",
              "        document.querySelector('#df-6ba9647c-3b13-4d4a-a4eb-74308f420e29 button');\n",
              "      quickchartButtonEl.style.display =\n",
              "        google.colab.kernel.accessAllowed ? 'block' : 'none';\n",
              "    })();\n",
              "  </script>\n",
              "</div>\n",
              "\n",
              "  <div id=\"id_e6d0a0c1-9def-4dd6-82b4-eccaa2b31c4a\">\n",
              "    <style>\n",
              "      .colab-df-generate {\n",
              "        background-color: #E8F0FE;\n",
              "        border: none;\n",
              "        border-radius: 50%;\n",
              "        cursor: pointer;\n",
              "        display: none;\n",
              "        fill: #1967D2;\n",
              "        height: 32px;\n",
              "        padding: 0 0 0 0;\n",
              "        width: 32px;\n",
              "      }\n",
              "\n",
              "      .colab-df-generate:hover {\n",
              "        background-color: #E2EBFA;\n",
              "        box-shadow: 0px 1px 2px rgba(60, 64, 67, 0.3), 0px 1px 3px 1px rgba(60, 64, 67, 0.15);\n",
              "        fill: #174EA6;\n",
              "      }\n",
              "\n",
              "      [theme=dark] .colab-df-generate {\n",
              "        background-color: #3B4455;\n",
              "        fill: #D2E3FC;\n",
              "      }\n",
              "\n",
              "      [theme=dark] .colab-df-generate:hover {\n",
              "        background-color: #434B5C;\n",
              "        box-shadow: 0px 1px 3px 1px rgba(0, 0, 0, 0.15);\n",
              "        filter: drop-shadow(0px 1px 2px rgba(0, 0, 0, 0.3));\n",
              "        fill: #FFFFFF;\n",
              "      }\n",
              "    </style>\n",
              "    <button class=\"colab-df-generate\" onclick=\"generateWithVariable('X')\"\n",
              "            title=\"Generate code using this dataframe.\"\n",
              "            style=\"display:none;\">\n",
              "\n",
              "  <svg xmlns=\"http://www.w3.org/2000/svg\" height=\"24px\"viewBox=\"0 0 24 24\"\n",
              "       width=\"24px\">\n",
              "    <path d=\"M7,19H8.4L18.45,9,17,7.55,7,17.6ZM5,21V16.75L18.45,3.32a2,2,0,0,1,2.83,0l1.4,1.43a1.91,1.91,0,0,1,.58,1.4,1.91,1.91,0,0,1-.58,1.4L9.25,21ZM18.45,9,17,7.55Zm-12,3A5.31,5.31,0,0,0,4.9,8.1,5.31,5.31,0,0,0,1,6.5,5.31,5.31,0,0,0,4.9,4.9,5.31,5.31,0,0,0,6.5,1,5.31,5.31,0,0,0,8.1,4.9,5.31,5.31,0,0,0,12,6.5,5.46,5.46,0,0,0,6.5,12Z\"/>\n",
              "  </svg>\n",
              "    </button>\n",
              "    <script>\n",
              "      (() => {\n",
              "      const buttonEl =\n",
              "        document.querySelector('#id_e6d0a0c1-9def-4dd6-82b4-eccaa2b31c4a button.colab-df-generate');\n",
              "      buttonEl.style.display =\n",
              "        google.colab.kernel.accessAllowed ? 'block' : 'none';\n",
              "\n",
              "      buttonEl.onclick = () => {\n",
              "        google.colab.notebook.generateWithVariable('X');\n",
              "      }\n",
              "      })();\n",
              "    </script>\n",
              "  </div>\n",
              "\n",
              "    </div>\n",
              "  </div>\n"
            ],
            "application/vnd.google.colaboratory.intrinsic+json": {
              "type": "dataframe",
              "variable_name": "X",
              "summary": "{\n  \"name\": \"X\",\n  \"rows\": 58645,\n  \"fields\": [\n    {\n      \"column\": \"person_age\",\n      \"properties\": {\n        \"dtype\": \"number\",\n        \"std\": 6,\n        \"min\": 20,\n        \"max\": 123,\n        \"num_unique_values\": 53,\n        \"samples\": [\n          48,\n          62,\n          69\n        ],\n        \"semantic_type\": \"\",\n        \"description\": \"\"\n      }\n    },\n    {\n      \"column\": \"person_income\",\n      \"properties\": {\n        \"dtype\": \"number\",\n        \"std\": 37931,\n        \"min\": 4200,\n        \"max\": 1900000,\n        \"num_unique_values\": 2641,\n        \"samples\": [\n          57110,\n          31200,\n          45378\n        ],\n        \"semantic_type\": \"\",\n        \"description\": \"\"\n      }\n    },\n    {\n      \"column\": \"person_home_ownership\",\n      \"properties\": {\n        \"dtype\": \"category\",\n        \"num_unique_values\": 4,\n        \"samples\": [\n          \"OWN\",\n          \"OTHER\",\n          \"RENT\"\n        ],\n        \"semantic_type\": \"\",\n        \"description\": \"\"\n      }\n    },\n    {\n      \"column\": \"person_emp_length\",\n      \"properties\": {\n        \"dtype\": \"number\",\n        \"std\": 3.9597843444189302,\n        \"min\": 0.0,\n        \"max\": 123.0,\n        \"num_unique_values\": 36,\n        \"samples\": [\n          39.0,\n          4.0,\n          25.0\n        ],\n        \"semantic_type\": \"\",\n        \"description\": \"\"\n      }\n    },\n    {\n      \"column\": \"loan_intent\",\n      \"properties\": {\n        \"dtype\": \"category\",\n        \"num_unique_values\": 6,\n        \"samples\": [\n          \"EDUCATION\",\n          \"MEDICAL\",\n          \"HOMEIMPROVEMENT\"\n        ],\n        \"semantic_type\": \"\",\n        \"description\": \"\"\n      }\n    },\n    {\n      \"column\": \"loan_grade\",\n      \"properties\": {\n        \"dtype\": \"category\",\n        \"num_unique_values\": 7,\n        \"samples\": [\n          \"B\",\n          \"C\",\n          \"F\"\n        ],\n        \"semantic_type\": \"\",\n        \"description\": \"\"\n      }\n    },\n    {\n      \"column\": \"loan_amnt\",\n      \"properties\": {\n        \"dtype\": \"number\",\n        \"std\": 5563,\n        \"min\": 500,\n        \"max\": 35000,\n        \"num_unique_values\": 545,\n        \"samples\": [\n          1275,\n          6600,\n          11600\n        ],\n        \"semantic_type\": \"\",\n        \"description\": \"\"\n      }\n    },\n    {\n      \"column\": \"loan_int_rate\",\n      \"properties\": {\n        \"dtype\": \"number\",\n        \"std\": 3.0346972031377084,\n        \"min\": 5.42,\n        \"max\": 23.22,\n        \"num_unique_values\": 362,\n        \"samples\": [\n          11.97,\n          7.49,\n          14.11\n        ],\n        \"semantic_type\": \"\",\n        \"description\": \"\"\n      }\n    },\n    {\n      \"column\": \"loan_percent_income\",\n      \"properties\": {\n        \"dtype\": \"number\",\n        \"std\": 0.09169179303584088,\n        \"min\": 0.0,\n        \"max\": 0.83,\n        \"num_unique_values\": 61,\n        \"samples\": [\n          0.17,\n          0.27,\n          0.51\n        ],\n        \"semantic_type\": \"\",\n        \"description\": \"\"\n      }\n    },\n    {\n      \"column\": \"cb_person_default_on_file\",\n      \"properties\": {\n        \"dtype\": \"category\",\n        \"num_unique_values\": 2,\n        \"samples\": [\n          \"Y\",\n          \"N\"\n        ],\n        \"semantic_type\": \"\",\n        \"description\": \"\"\n      }\n    },\n    {\n      \"column\": \"cb_person_cred_hist_length\",\n      \"properties\": {\n        \"dtype\": \"number\",\n        \"std\": 4,\n        \"min\": 2,\n        \"max\": 30,\n        \"num_unique_values\": 29,\n        \"samples\": [\n          25,\n          23\n        ],\n        \"semantic_type\": \"\",\n        \"description\": \"\"\n      }\n    }\n  ]\n}"
            }
          },
          "metadata": {},
          "execution_count": 52
        }
      ]
    },
    {
      "cell_type": "code",
      "source": [
        "def objective(trial):\n",
        "    # Define the hyperparameter search space\n",
        "    params = {\n",
        "        'objective': 'binary:logistic',\n",
        "        'eval_metric': 'auc',\n",
        "        'learning_rate': trial.suggest_float('learning_rate', 0.01, 0.3, log=True),\n",
        "        'n_estimators': 1000,\n",
        "        'max_depth': trial.suggest_int('max_depth', 6, 12),\n",
        "        'subsample': trial.suggest_float('subsample', 0.6, 1.0),\n",
        "        'colsample_bytree': trial.suggest_float('colsample_bytree', 0.6, 1.0),\n",
        "        'lambda': trial.suggest_float('lambda', 1e-3, 10.0, log=True),\n",
        "        'alpha': trial.suggest_float('alpha', 1e-3, 10.0, log=True),\n",
        "        'random_state': 42,\n",
        "        'n_jobs': -1,\n",
        "        'tree_method': 'gpu_hist',\n",
        "        'verbosity': 0,  # Suppress warnings and messages from XGBoost\n",
        "        'enable_categorical':True,\n",
        "    }\n",
        "\n",
        "    # Fitting LGBM model with parameters from the trials\n",
        "    model = XGBClassifier(**params)\n",
        "\n",
        "    # Stratified sampling\n",
        "    cv = StratifiedKFold(5, shuffle=True, random_state=42)\n",
        "    cv_splits = cv.split(X, y)\n",
        "\n",
        "    # Creating empty scores list to hold AUC scores from each trialed model\n",
        "    scores = []\n",
        "    for train_idx, val_idx in cv_splits:\n",
        "        X_train_fold, X_val_fold = X.iloc[train_idx], X.iloc[val_idx]\n",
        "        y_train_fold, y_val_fold = y.iloc[train_idx], y.iloc[val_idx]\n",
        "        model.fit(X_train_fold, y_train_fold)\n",
        "        y_pred_proba = model.predict_proba(X_val_fold)[:, 1]\n",
        "        score = roc_auc_score(y_val_fold, y_pred_proba)\n",
        "        scores.append(score)\n",
        "\n",
        "    # Printing and returning mean AUC scores\n",
        "    mean_score = np.mean(scores)\n",
        "    print(f\"Mean ROC AUC Score = {mean_score:.5f}\")\n",
        "    return mean_score"
      ],
      "metadata": {
        "id": "7gwqV8W2PCPI"
      },
      "execution_count": null,
      "outputs": []
    },
    {
      "cell_type": "code",
      "source": [
        "study = optuna.create_study(sampler=TPESampler(n_startup_trials=30, multivariate=True, seed=42), direction=\"maximize\")\n",
        "study.optimize(objective, n_trials=100)\n",
        "print('Best value:', study.best_value)\n",
        "print('Best trial:', study.best_trial.params)\n"
      ],
      "metadata": {
        "colab": {
          "base_uri": "https://localhost:8080/"
        },
        "id": "AoSl30nDWNvE",
        "outputId": "9289c6d5-6dd9-4938-cd22-bd8dc8a63294"
      },
      "execution_count": null,
      "outputs": [
        {
          "output_type": "stream",
          "name": "stderr",
          "text": [
            "/usr/local/lib/python3.10/dist-packages/optuna/_experimental.py:30: ExperimentalWarning: Argument ``multivariate`` is an experimental feature. The interface can change in the future.\n",
            "  warnings.warn(\n",
            "[I 2024-10-29 15:03:39,743] A new study created in memory with name: no-name-28c82b15-d076-4c5b-a61a-676175c38b73\n",
            "[I 2024-10-29 15:04:26,046] Trial 0 finished with value: 0.9535898363700406 and parameters: {'learning_rate': 0.03574712922600244, 'max_depth': 12, 'subsample': 0.892797576724562, 'colsample_bytree': 0.8394633936788146, 'lambda': 0.004207988669606638, 'alpha': 0.004207053950287938}. Best is trial 0 with value: 0.9535898363700406.\n"
          ]
        },
        {
          "output_type": "stream",
          "name": "stdout",
          "text": [
            "Mean ROC AUC Score = 0.95359\n"
          ]
        },
        {
          "output_type": "stream",
          "name": "stderr",
          "text": [
            "[I 2024-10-29 15:04:59,201] Trial 1 finished with value: 0.952831406705306 and parameters: {'learning_rate': 0.012184186502221764, 'max_depth': 12, 'subsample': 0.8404460046972835, 'colsample_bytree': 0.8832290311184181, 'lambda': 0.0012087541473056963, 'alpha': 7.579479953348009}. Best is trial 0 with value: 0.9535898363700406.\n"
          ]
        },
        {
          "output_type": "stream",
          "name": "stdout",
          "text": [
            "Mean ROC AUC Score = 0.95283\n"
          ]
        },
        {
          "output_type": "stream",
          "name": "stderr",
          "text": [
            "[I 2024-10-29 15:05:19,313] Trial 2 finished with value: 0.9490397707259277 and parameters: {'learning_rate': 0.16967533607196555, 'max_depth': 7, 'subsample': 0.6727299868828402, 'colsample_bytree': 0.6733618039413735, 'lambda': 0.016480446427978974, 'alpha': 0.12561043700013558}. Best is trial 0 with value: 0.9535898363700406.\n"
          ]
        },
        {
          "output_type": "stream",
          "name": "stdout",
          "text": [
            "Mean ROC AUC Score = 0.94904\n"
          ]
        },
        {
          "output_type": "stream",
          "name": "stderr",
          "text": [
            "[I 2024-10-29 15:05:43,327] Trial 3 finished with value: 0.9546576579461398 and parameters: {'learning_rate': 0.04345454109729477, 'max_depth': 8, 'subsample': 0.8447411578889518, 'colsample_bytree': 0.6557975442608167, 'lambda': 0.01474275315991467, 'alpha': 0.029204338471814112}. Best is trial 3 with value: 0.9546576579461398.\n"
          ]
        },
        {
          "output_type": "stream",
          "name": "stdout",
          "text": [
            "Mean ROC AUC Score = 0.95466\n"
          ]
        },
        {
          "output_type": "stream",
          "name": "stderr",
          "text": [
            "[I 2024-10-29 15:06:16,880] Trial 4 finished with value: 0.9525715841045181 and parameters: {'learning_rate': 0.04717052037625178, 'max_depth': 11, 'subsample': 0.6798695128633439, 'colsample_bytree': 0.8056937753654446, 'lambda': 0.23423849847112907, 'alpha': 0.0015339162591163618}. Best is trial 3 with value: 0.9546576579461398.\n"
          ]
        },
        {
          "output_type": "stream",
          "name": "stdout",
          "text": [
            "Mean ROC AUC Score = 0.95257\n"
          ]
        },
        {
          "output_type": "stream",
          "name": "stderr",
          "text": [
            "[I 2024-10-29 15:06:38,643] Trial 5 finished with value: 0.9495283230330782 and parameters: {'learning_rate': 0.07896186801026692, 'max_depth': 7, 'subsample': 0.6260206371941118, 'colsample_bytree': 0.9795542149013333, 'lambda': 7.2866537374910445, 'alpha': 1.7123375973163988}. Best is trial 3 with value: 0.9546576579461398.\n"
          ]
        },
        {
          "output_type": "stream",
          "name": "stdout",
          "text": [
            "Mean ROC AUC Score = 0.94953\n"
          ]
        },
        {
          "output_type": "stream",
          "name": "stderr",
          "text": [
            "[I 2024-10-29 15:06:55,516] Trial 6 finished with value: 0.9564080822312594 and parameters: {'learning_rate': 0.028180680291847244, 'max_depth': 6, 'subsample': 0.8736932106048627, 'colsample_bytree': 0.7760609974958406, 'lambda': 0.003077180271250686, 'alpha': 0.09565499215943825}. Best is trial 6 with value: 0.9564080822312594.\n"
          ]
        },
        {
          "output_type": "stream",
          "name": "stdout",
          "text": [
            "Mean ROC AUC Score = 0.95641\n"
          ]
        },
        {
          "output_type": "stream",
          "name": "stderr",
          "text": [
            "[I 2024-10-29 15:07:42,544] Trial 7 finished with value: 0.9540486727080598 and parameters: {'learning_rate': 0.011240768803005551, 'max_depth': 12, 'subsample': 0.7035119926400067, 'colsample_bytree': 0.8650089137415928, 'lambda': 0.017654048052495083, 'alpha': 0.12030178871154672}. Best is trial 6 with value: 0.9564080822312594.\n"
          ]
        },
        {
          "output_type": "stream",
          "name": "stdout",
          "text": [
            "Mean ROC AUC Score = 0.95405\n"
          ]
        },
        {
          "output_type": "stream",
          "name": "stderr",
          "text": [
            "[I 2024-10-29 15:08:03,343] Trial 8 finished with value: 0.9531926734765763 and parameters: {'learning_rate': 0.06420330336297862, 'max_depth': 7, 'subsample': 0.9878338511058234, 'colsample_bytree': 0.9100531293444458, 'lambda': 5.727904470799623, 'alpha': 3.7958531426706403}. Best is trial 6 with value: 0.9564080822312594.\n"
          ]
        },
        {
          "output_type": "stream",
          "name": "stdout",
          "text": [
            "Mean ROC AUC Score = 0.95319\n"
          ]
        },
        {
          "output_type": "stream",
          "name": "stderr",
          "text": [
            "[I 2024-10-29 15:08:36,545] Trial 9 finished with value: 0.9508498510999391 and parameters: {'learning_rate': 0.0764136186923332, 'max_depth': 12, 'subsample': 0.6353970008207678, 'colsample_bytree': 0.6783931449676581, 'lambda': 0.0015167330688076208, 'alpha': 0.02001342062287998}. Best is trial 6 with value: 0.9564080822312594.\n"
          ]
        },
        {
          "output_type": "stream",
          "name": "stdout",
          "text": [
            "Mean ROC AUC Score = 0.95085\n"
          ]
        },
        {
          "output_type": "stream",
          "name": "stderr",
          "text": [
            "[I 2024-10-29 15:08:56,459] Trial 10 finished with value: 0.9558412373114733 and parameters: {'learning_rate': 0.03750796359625606, 'max_depth': 7, 'subsample': 0.9314950036607718, 'colsample_bytree': 0.7427013306774357, 'lambda': 0.013296521457299506, 'alpha': 0.14817820606039092}. Best is trial 6 with value: 0.9564080822312594.\n"
          ]
        },
        {
          "output_type": "stream",
          "name": "stdout",
          "text": [
            "Mean ROC AUC Score = 0.95584\n"
          ]
        },
        {
          "output_type": "stream",
          "name": "stderr",
          "text": [
            "[I 2024-10-29 15:09:34,826] Trial 11 finished with value: 0.9530144417048257 and parameters: {'learning_rate': 0.016149614799999188, 'max_depth': 11, 'subsample': 0.6298202574719083, 'colsample_bytree': 0.9947547746402069, 'lambda': 1.2273800987852967, 'alpha': 0.0062353771356731605}. Best is trial 6 with value: 0.9564080822312594.\n"
          ]
        },
        {
          "output_type": "stream",
          "name": "stdout",
          "text": [
            "Mean ROC AUC Score = 0.95301\n"
          ]
        },
        {
          "output_type": "stream",
          "name": "stderr",
          "text": [
            "[I 2024-10-29 15:10:15,997] Trial 12 finished with value: 0.9550878990681738 and parameters: {'learning_rate': 0.010189592979395137, 'max_depth': 11, 'subsample': 0.8827429375390468, 'colsample_bytree': 0.8916028672163949, 'lambda': 1.2164139351417065, 'alpha': 0.0019777828512462727}. Best is trial 6 with value: 0.9564080822312594.\n"
          ]
        },
        {
          "output_type": "stream",
          "name": "stdout",
          "text": [
            "Mean ROC AUC Score = 0.95509\n"
          ]
        },
        {
          "output_type": "stream",
          "name": "stderr",
          "text": [
            "[I 2024-10-29 15:10:32,702] Trial 13 finished with value: 0.9560017291619969 and parameters: {'learning_rate': 0.0338452204120114, 'max_depth': 6, 'subsample': 0.9452413703502374, 'colsample_bytree': 0.8493192507310232, 'lambda': 0.021066486017042207, 'alpha': 0.0017956984225677636}. Best is trial 6 with value: 0.9564080822312594.\n"
          ]
        },
        {
          "output_type": "stream",
          "name": "stdout",
          "text": [
            "Mean ROC AUC Score = 0.95600\n"
          ]
        },
        {
          "output_type": "stream",
          "name": "stderr",
          "text": [
            "[I 2024-10-29 15:10:57,140] Trial 14 finished with value: 0.9551000032021519 and parameters: {'learning_rate': 0.028797752657070342, 'max_depth': 8, 'subsample': 0.8918424713352255, 'colsample_bytree': 0.8550229885420852, 'lambda': 3.53875886477924, 'alpha': 0.0774211647399625}. Best is trial 6 with value: 0.9564080822312594.\n"
          ]
        },
        {
          "output_type": "stream",
          "name": "stdout",
          "text": [
            "Mean ROC AUC Score = 0.95510\n"
          ]
        },
        {
          "output_type": "stream",
          "name": "stderr",
          "text": [
            "[I 2024-10-29 15:11:30,814] Trial 15 finished with value: 0.9558455281949471 and parameters: {'learning_rate': 0.015019490572374374, 'max_depth': 10, 'subsample': 0.9043140194467589, 'colsample_bytree': 0.8245108790277985, 'lambda': 1.2130221181165162, 'alpha': 0.09444574254983566}. Best is trial 6 with value: 0.9564080822312594.\n"
          ]
        },
        {
          "output_type": "stream",
          "name": "stdout",
          "text": [
            "Mean ROC AUC Score = 0.95585\n"
          ]
        },
        {
          "output_type": "stream",
          "name": "stderr",
          "text": [
            "[I 2024-10-29 15:11:55,353] Trial 16 finished with value: 0.9516196163822087 and parameters: {'learning_rate': 0.05917520523090666, 'max_depth': 8, 'subsample': 0.610167650697638, 'colsample_bytree': 0.6431565707973218, 'lambda': 0.0013357240411974098, 'alpha': 0.35127047262708466}. Best is trial 6 with value: 0.9564080822312594.\n"
          ]
        },
        {
          "output_type": "stream",
          "name": "stdout",
          "text": [
            "Mean ROC AUC Score = 0.95162\n"
          ]
        },
        {
          "output_type": "stream",
          "name": "stderr",
          "text": [
            "[I 2024-10-29 15:12:24,955] Trial 17 finished with value: 0.9553213359377501 and parameters: {'learning_rate': 0.029130095015495922, 'max_depth': 9, 'subsample': 0.9630265895704372, 'colsample_bytree': 0.69971689165955, 'lambda': 0.04380580767905655, 'alpha': 1.0524574681335637}. Best is trial 6 with value: 0.9564080822312594.\n"
          ]
        },
        {
          "output_type": "stream",
          "name": "stdout",
          "text": [
            "Mean ROC AUC Score = 0.95532\n"
          ]
        },
        {
          "output_type": "stream",
          "name": "stderr",
          "text": [
            "[I 2024-10-29 15:12:41,443] Trial 18 finished with value: 0.954336482115982 and parameters: {'learning_rate': 0.021775224101934068, 'max_depth': 6, 'subsample': 0.7159005811655073, 'colsample_bytree': 0.6644885149016018, 'lambda': 5.233480488540088, 'alpha': 1.7079750342958235}. Best is trial 6 with value: 0.9564080822312594.\n"
          ]
        },
        {
          "output_type": "stream",
          "name": "stdout",
          "text": [
            "Mean ROC AUC Score = 0.95434\n"
          ]
        },
        {
          "output_type": "stream",
          "name": "stderr",
          "text": [
            "[I 2024-10-29 15:13:18,173] Trial 19 finished with value: 0.953081718915111 and parameters: {'learning_rate': 0.08622121759478739, 'max_depth': 12, 'subsample': 0.9214688307596458, 'colsample_bytree': 0.6746280235544143, 'lambda': 3.7173717478250508, 'alpha': 0.1436709513866423}. Best is trial 6 with value: 0.9564080822312594.\n"
          ]
        },
        {
          "output_type": "stream",
          "name": "stdout",
          "text": [
            "Mean ROC AUC Score = 0.95308\n"
          ]
        },
        {
          "output_type": "stream",
          "name": "stderr",
          "text": [
            "[I 2024-10-29 15:13:46,728] Trial 20 finished with value: 0.9500242402894745 and parameters: {'learning_rate': 0.1558428978238547, 'max_depth': 12, 'subsample': 0.7272013899887455, 'colsample_bytree': 0.6440207698110707, 'lambda': 0.008160948743089917, 'alpha': 0.05110120656497164}. Best is trial 6 with value: 0.9564080822312594.\n"
          ]
        },
        {
          "output_type": "stream",
          "name": "stdout",
          "text": [
            "Mean ROC AUC Score = 0.95002\n"
          ]
        },
        {
          "output_type": "stream",
          "name": "stderr",
          "text": [
            "[I 2024-10-29 15:14:14,468] Trial 21 finished with value: 0.9472424989593007 and parameters: {'learning_rate': 0.16155001304356414, 'max_depth': 12, 'subsample': 0.6027808522124762, 'colsample_bytree': 0.8042989210310263, 'lambda': 0.0467351899956275, 'alpha': 0.007734482156646798}. Best is trial 6 with value: 0.9564080822312594.\n"
          ]
        },
        {
          "output_type": "stream",
          "name": "stdout",
          "text": [
            "Mean ROC AUC Score = 0.94724\n"
          ]
        },
        {
          "output_type": "stream",
          "name": "stderr",
          "text": [
            "[I 2024-10-29 15:14:39,333] Trial 22 finished with value: 0.9568356335457426 and parameters: {'learning_rate': 0.015033346993841165, 'max_depth': 8, 'subsample': 0.9771638815650077, 'colsample_bytree': 0.7292811728083021, 'lambda': 0.1188946976953047, 'alpha': 0.648747706605868}. Best is trial 22 with value: 0.9568356335457426.\n"
          ]
        },
        {
          "output_type": "stream",
          "name": "stdout",
          "text": [
            "Mean ROC AUC Score = 0.95684\n"
          ]
        },
        {
          "output_type": "stream",
          "name": "stderr",
          "text": [
            "[I 2024-10-29 15:15:18,217] Trial 23 finished with value: 0.9547405296359154 and parameters: {'learning_rate': 0.03444490684211451, 'max_depth': 12, 'subsample': 0.9849789179768444, 'colsample_bytree': 0.7007129183301457, 'lambda': 0.09749762207436122, 'alpha': 0.015977662354833867}. Best is trial 22 with value: 0.9568356335457426.\n"
          ]
        },
        {
          "output_type": "stream",
          "name": "stdout",
          "text": [
            "Mean ROC AUC Score = 0.95474\n"
          ]
        },
        {
          "output_type": "stream",
          "name": "stderr",
          "text": [
            "[I 2024-10-29 15:15:34,978] Trial 24 finished with value: 0.9564084024464441 and parameters: {'learning_rate': 0.02634777514406047, 'max_depth': 6, 'subsample': 0.8438257335919588, 'colsample_bytree': 0.8010716092915446, 'lambda': 0.001606626792172771, 'alpha': 0.01301924671436158}. Best is trial 22 with value: 0.9568356335457426.\n"
          ]
        },
        {
          "output_type": "stream",
          "name": "stdout",
          "text": [
            "Mean ROC AUC Score = 0.95641\n"
          ]
        },
        {
          "output_type": "stream",
          "name": "stderr",
          "text": [
            "[I 2024-10-29 15:15:55,765] Trial 25 finished with value: 0.9474906337058503 and parameters: {'learning_rate': 0.21959317857485672, 'max_depth': 7, 'subsample': 0.6579579488364892, 'colsample_bytree': 0.7957811041110252, 'lambda': 8.761971101023693, 'alpha': 0.009294394155644996}. Best is trial 22 with value: 0.9568356335457426.\n"
          ]
        },
        {
          "output_type": "stream",
          "name": "stdout",
          "text": [
            "Mean ROC AUC Score = 0.94749\n"
          ]
        },
        {
          "output_type": "stream",
          "name": "stderr",
          "text": [
            "[I 2024-10-29 15:16:26,860] Trial 26 finished with value: 0.9499643920714721 and parameters: {'learning_rate': 0.09836162684900028, 'max_depth': 11, 'subsample': 0.6950550175969599, 'colsample_bytree': 0.8912865394447438, 'lambda': 0.029589152820953094, 'alpha': 0.3382387201936217}. Best is trial 22 with value: 0.9568356335457426.\n"
          ]
        },
        {
          "output_type": "stream",
          "name": "stdout",
          "text": [
            "Mean ROC AUC Score = 0.94996\n"
          ]
        },
        {
          "output_type": "stream",
          "name": "stderr",
          "text": [
            "[I 2024-10-29 15:16:52,501] Trial 27 finished with value: 0.9507331967081878 and parameters: {'learning_rate': 0.0862581622692092, 'max_depth': 9, 'subsample': 0.6361159080217633, 'colsample_bytree': 0.9341209982356952, 'lambda': 0.019192001101561888, 'alpha': 0.0055728075000299635}. Best is trial 22 with value: 0.9568356335457426.\n"
          ]
        },
        {
          "output_type": "stream",
          "name": "stdout",
          "text": [
            "Mean ROC AUC Score = 0.95073\n"
          ]
        },
        {
          "output_type": "stream",
          "name": "stderr",
          "text": [
            "[I 2024-10-29 15:17:30,014] Trial 28 finished with value: 0.9562296903519165 and parameters: {'learning_rate': 0.011487613841748902, 'max_depth': 10, 'subsample': 0.871025744736913, 'colsample_bytree': 0.6066351315711425, 'lambda': 0.11178209200698727, 'alpha': 0.008053471030316102}. Best is trial 22 with value: 0.9568356335457426.\n"
          ]
        },
        {
          "output_type": "stream",
          "name": "stdout",
          "text": [
            "Mean ROC AUC Score = 0.95623\n"
          ]
        },
        {
          "output_type": "stream",
          "name": "stderr",
          "text": [
            "[I 2024-10-29 15:17:50,256] Trial 29 finished with value: 0.9524887124147426 and parameters: {'learning_rate': 0.08974255743856958, 'max_depth': 7, 'subsample': 0.8763750952409863, 'colsample_bytree': 0.7546941385202149, 'lambda': 5.583672722754823, 'alpha': 0.003548818403010949}. Best is trial 22 with value: 0.9568356335457426.\n"
          ]
        },
        {
          "output_type": "stream",
          "name": "stdout",
          "text": [
            "Mean ROC AUC Score = 0.95249\n"
          ]
        },
        {
          "output_type": "stream",
          "name": "stderr",
          "text": [
            "[I 2024-10-29 15:18:07,148] Trial 30 finished with value: 0.9561261007396971 and parameters: {'learning_rate': 0.013345083818889486, 'max_depth': 6, 'subsample': 0.9198790166261901, 'colsample_bytree': 0.7296153928386202, 'lambda': 0.0031925016932596896, 'alpha': 0.009320716813098786}. Best is trial 22 with value: 0.9568356335457426.\n"
          ]
        },
        {
          "output_type": "stream",
          "name": "stdout",
          "text": [
            "Mean ROC AUC Score = 0.95613\n"
          ]
        },
        {
          "output_type": "stream",
          "name": "stderr",
          "text": [
            "[I 2024-10-29 15:18:24,104] Trial 31 finished with value: 0.9560414358448878 and parameters: {'learning_rate': 0.02764246919959591, 'max_depth': 6, 'subsample': 0.7552046552772799, 'colsample_bytree': 0.8023490823572701, 'lambda': 0.001643821872987317, 'alpha': 0.2339594214583681}. Best is trial 22 with value: 0.9568356335457426.\n"
          ]
        },
        {
          "output_type": "stream",
          "name": "stdout",
          "text": [
            "Mean ROC AUC Score = 0.95604\n"
          ]
        },
        {
          "output_type": "stream",
          "name": "stderr",
          "text": [
            "[I 2024-10-29 15:18:53,868] Trial 32 finished with value: 0.9563757404976144 and parameters: {'learning_rate': 0.013964795114552571, 'max_depth': 9, 'subsample': 0.860704750052584, 'colsample_bytree': 0.6326046999806056, 'lambda': 0.227687487828677, 'alpha': 0.0019436756360615638}. Best is trial 22 with value: 0.9568356335457426.\n"
          ]
        },
        {
          "output_type": "stream",
          "name": "stdout",
          "text": [
            "Mean ROC AUC Score = 0.95638\n"
          ]
        },
        {
          "output_type": "stream",
          "name": "stderr",
          "text": [
            "[I 2024-10-29 15:19:17,848] Trial 33 finished with value: 0.9561424637356304 and parameters: {'learning_rate': 0.01661000700616628, 'max_depth': 8, 'subsample': 0.9030696708846769, 'colsample_bytree': 0.6037671737647918, 'lambda': 4.765720980025936, 'alpha': 0.004639242884316949}. Best is trial 22 with value: 0.9568356335457426.\n"
          ]
        },
        {
          "output_type": "stream",
          "name": "stdout",
          "text": [
            "Mean ROC AUC Score = 0.95614\n"
          ]
        },
        {
          "output_type": "stream",
          "name": "stderr",
          "text": [
            "[I 2024-10-29 15:19:38,399] Trial 34 finished with value: 0.9560641070799576 and parameters: {'learning_rate': 0.023096688855866864, 'max_depth': 7, 'subsample': 0.8860964029455549, 'colsample_bytree': 0.8832347789522964, 'lambda': 0.0022058000839038495, 'alpha': 0.039323093181064764}. Best is trial 22 with value: 0.9568356335457426.\n"
          ]
        },
        {
          "output_type": "stream",
          "name": "stdout",
          "text": [
            "Mean ROC AUC Score = 0.95606\n"
          ]
        },
        {
          "output_type": "stream",
          "name": "stderr",
          "text": [
            "[I 2024-10-29 15:20:14,640] Trial 35 finished with value: 0.9544156713311345 and parameters: {'learning_rate': 0.03326747936529665, 'max_depth': 11, 'subsample': 0.7671493717970548, 'colsample_bytree': 0.6109626237543321, 'lambda': 0.8418763088828168, 'alpha': 0.0015410377874484657}. Best is trial 22 with value: 0.9568356335457426.\n"
          ]
        },
        {
          "output_type": "stream",
          "name": "stdout",
          "text": [
            "Mean ROC AUC Score = 0.95442\n"
          ]
        },
        {
          "output_type": "stream",
          "name": "stderr",
          "text": [
            "[I 2024-10-29 15:20:34,133] Trial 36 finished with value: 0.9538222485510264 and parameters: {'learning_rate': 0.01420166714310997, 'max_depth': 7, 'subsample': 0.8934937718138695, 'colsample_bytree': 0.7228907744065073, 'lambda': 0.02691528147380123, 'alpha': 6.7931483248404865}. Best is trial 22 with value: 0.9568356335457426.\n"
          ]
        },
        {
          "output_type": "stream",
          "name": "stdout",
          "text": [
            "Mean ROC AUC Score = 0.95382\n"
          ]
        },
        {
          "output_type": "stream",
          "name": "stderr",
          "text": [
            "[I 2024-10-29 15:20:54,709] Trial 37 finished with value: 0.9557632328925039 and parameters: {'learning_rate': 0.011800844381409886, 'max_depth': 7, 'subsample': 0.7964356872392212, 'colsample_bytree': 0.7343432705678317, 'lambda': 0.48070240411066506, 'alpha': 0.007113043018574121}. Best is trial 22 with value: 0.9568356335457426.\n"
          ]
        },
        {
          "output_type": "stream",
          "name": "stdout",
          "text": [
            "Mean ROC AUC Score = 0.95576\n"
          ]
        },
        {
          "output_type": "stream",
          "name": "stderr",
          "text": [
            "[I 2024-10-29 15:21:11,158] Trial 38 finished with value: 0.9530597521534471 and parameters: {'learning_rate': 0.06442047709340308, 'max_depth': 6, 'subsample': 0.8145569034350003, 'colsample_bytree': 0.8607676644544744, 'lambda': 0.003750600413664652, 'alpha': 0.005582967416248563}. Best is trial 22 with value: 0.9568356335457426.\n"
          ]
        },
        {
          "output_type": "stream",
          "name": "stdout",
          "text": [
            "Mean ROC AUC Score = 0.95306\n"
          ]
        },
        {
          "output_type": "stream",
          "name": "stderr",
          "text": [
            "[I 2024-10-29 15:21:40,791] Trial 39 finished with value: 0.9561216817701494 and parameters: {'learning_rate': 0.010850622344724715, 'max_depth': 9, 'subsample': 0.979568495056387, 'colsample_bytree': 0.8067812081186235, 'lambda': 0.012561665242956663, 'alpha': 0.9955359955928228}. Best is trial 22 with value: 0.9568356335457426.\n"
          ]
        },
        {
          "output_type": "stream",
          "name": "stdout",
          "text": [
            "Mean ROC AUC Score = 0.95612\n"
          ]
        },
        {
          "output_type": "stream",
          "name": "stderr",
          "text": [
            "[I 2024-10-29 15:22:05,632] Trial 40 finished with value: 0.956258029395754 and parameters: {'learning_rate': 0.011007870550587894, 'max_depth': 8, 'subsample': 0.8775757105238404, 'colsample_bytree': 0.7380355040853135, 'lambda': 0.4214048592951075, 'alpha': 0.6157239282167365}. Best is trial 22 with value: 0.9568356335457426.\n"
          ]
        },
        {
          "output_type": "stream",
          "name": "stdout",
          "text": [
            "Mean ROC AUC Score = 0.95626\n"
          ]
        },
        {
          "output_type": "stream",
          "name": "stderr",
          "text": [
            "[I 2024-10-29 15:22:35,520] Trial 41 finished with value: 0.9560455986422877 and parameters: {'learning_rate': 0.011642235024516532, 'max_depth': 9, 'subsample': 0.879829112980248, 'colsample_bytree': 0.7215710999562426, 'lambda': 1.3277331569490274, 'alpha': 0.704284875493725}. Best is trial 22 with value: 0.9568356335457426.\n"
          ]
        },
        {
          "output_type": "stream",
          "name": "stdout",
          "text": [
            "Mean ROC AUC Score = 0.95605\n"
          ]
        },
        {
          "output_type": "stream",
          "name": "stderr",
          "text": [
            "[I 2024-10-29 15:22:52,022] Trial 42 finished with value: 0.9554063210477441 and parameters: {'learning_rate': 0.04407592151677552, 'max_depth': 6, 'subsample': 0.8735704672065021, 'colsample_bytree': 0.7451447318244466, 'lambda': 0.004376953169458636, 'alpha': 0.01694644323886835}. Best is trial 22 with value: 0.9568356335457426.\n"
          ]
        },
        {
          "output_type": "stream",
          "name": "stdout",
          "text": [
            "Mean ROC AUC Score = 0.95541\n"
          ]
        },
        {
          "output_type": "stream",
          "name": "stderr",
          "text": [
            "[I 2024-10-29 15:23:16,633] Trial 43 finished with value: 0.9547445963687599 and parameters: {'learning_rate': 0.010385612500840472, 'max_depth': 8, 'subsample': 0.7701695513438757, 'colsample_bytree': 0.7556198627358477, 'lambda': 0.3134874097239727, 'alpha': 2.008242347549499}. Best is trial 22 with value: 0.9568356335457426.\n"
          ]
        },
        {
          "output_type": "stream",
          "name": "stdout",
          "text": [
            "Mean ROC AUC Score = 0.95474\n"
          ]
        },
        {
          "output_type": "stream",
          "name": "stderr",
          "text": [
            "[I 2024-10-29 15:23:41,693] Trial 44 finished with value: 0.9567986807134394 and parameters: {'learning_rate': 0.012503709712039082, 'max_depth': 8, 'subsample': 0.9866139716349998, 'colsample_bytree': 0.7246691719110113, 'lambda': 0.063455913804568, 'alpha': 0.4661636508858599}. Best is trial 22 with value: 0.9568356335457426.\n"
          ]
        },
        {
          "output_type": "stream",
          "name": "stdout",
          "text": [
            "Mean ROC AUC Score = 0.95680\n"
          ]
        },
        {
          "output_type": "stream",
          "name": "stderr",
          "text": [
            "[I 2024-10-29 15:24:02,140] Trial 45 finished with value: 0.9562037209004449 and parameters: {'learning_rate': 0.010925175917576257, 'max_depth': 7, 'subsample': 0.9890834623843877, 'colsample_bytree': 0.7037518816038469, 'lambda': 0.18202516677146383, 'alpha': 0.04635455354929019}. Best is trial 22 with value: 0.9568356335457426.\n"
          ]
        },
        {
          "output_type": "stream",
          "name": "stdout",
          "text": [
            "Mean ROC AUC Score = 0.95620\n"
          ]
        },
        {
          "output_type": "stream",
          "name": "stderr",
          "text": [
            "[I 2024-10-29 15:24:22,746] Trial 46 finished with value: 0.956022479105959 and parameters: {'learning_rate': 0.018726572957618724, 'max_depth': 7, 'subsample': 0.8053081100108639, 'colsample_bytree': 0.8086415552868317, 'lambda': 0.0010201287374035958, 'alpha': 0.008882577568557235}. Best is trial 22 with value: 0.9568356335457426.\n"
          ]
        },
        {
          "output_type": "stream",
          "name": "stdout",
          "text": [
            "Mean ROC AUC Score = 0.95602\n"
          ]
        },
        {
          "output_type": "stream",
          "name": "stderr",
          "text": [
            "[I 2024-10-29 15:24:39,341] Trial 47 finished with value: 0.9567448205193891 and parameters: {'learning_rate': 0.027434396915742277, 'max_depth': 6, 'subsample': 0.9243122551320221, 'colsample_bytree': 0.6697151507673732, 'lambda': 0.003557792947508495, 'alpha': 0.4993220359395444}. Best is trial 22 with value: 0.9568356335457426.\n"
          ]
        },
        {
          "output_type": "stream",
          "name": "stdout",
          "text": [
            "Mean ROC AUC Score = 0.95674\n"
          ]
        },
        {
          "output_type": "stream",
          "name": "stderr",
          "text": [
            "[I 2024-10-29 15:25:00,533] Trial 48 finished with value: 0.95367283614589 and parameters: {'learning_rate': 0.06288309920225488, 'max_depth': 7, 'subsample': 0.9569573579193098, 'colsample_bytree': 0.7446265289167765, 'lambda': 0.0010601511652166163, 'alpha': 0.9417632177483727}. Best is trial 22 with value: 0.9568356335457426.\n"
          ]
        },
        {
          "output_type": "stream",
          "name": "stdout",
          "text": [
            "Mean ROC AUC Score = 0.95367\n"
          ]
        },
        {
          "output_type": "stream",
          "name": "stderr",
          "text": [
            "[I 2024-10-29 15:25:17,241] Trial 49 finished with value: 0.9548103045246406 and parameters: {'learning_rate': 0.026883648939173582, 'max_depth': 6, 'subsample': 0.8946897737354242, 'colsample_bytree': 0.6840088144005122, 'lambda': 0.0013546711572104088, 'alpha': 5.235344729253598}. Best is trial 22 with value: 0.9568356335457426.\n"
          ]
        },
        {
          "output_type": "stream",
          "name": "stdout",
          "text": [
            "Mean ROC AUC Score = 0.95481\n"
          ]
        },
        {
          "output_type": "stream",
          "name": "stderr",
          "text": [
            "[I 2024-10-29 15:25:34,251] Trial 50 finished with value: 0.9555752345576227 and parameters: {'learning_rate': 0.04359559672160741, 'max_depth': 6, 'subsample': 0.8626699826597777, 'colsample_bytree': 0.6089110552738217, 'lambda': 0.011613909785200535, 'alpha': 0.6341515268443041}. Best is trial 22 with value: 0.9568356335457426.\n"
          ]
        },
        {
          "output_type": "stream",
          "name": "stdout",
          "text": [
            "Mean ROC AUC Score = 0.95558\n"
          ]
        },
        {
          "output_type": "stream",
          "name": "stderr",
          "text": [
            "[I 2024-10-29 15:25:51,233] Trial 51 finished with value: 0.9562159531204971 and parameters: {'learning_rate': 0.01418209875061396, 'max_depth': 6, 'subsample': 0.9921625985504015, 'colsample_bytree': 0.8410817168385583, 'lambda': 0.0705300814922599, 'alpha': 0.7951376349853894}. Best is trial 22 with value: 0.9568356335457426.\n"
          ]
        },
        {
          "output_type": "stream",
          "name": "stdout",
          "text": [
            "Mean ROC AUC Score = 0.95622\n"
          ]
        },
        {
          "output_type": "stream",
          "name": "stderr",
          "text": [
            "[I 2024-10-29 15:26:20,902] Trial 52 finished with value: 0.9566405584552818 and parameters: {'learning_rate': 0.01369566663178148, 'max_depth': 9, 'subsample': 0.9581842856293497, 'colsample_bytree': 0.6744931225904611, 'lambda': 0.08026232266106041, 'alpha': 0.4940954914037927}. Best is trial 22 with value: 0.9568356335457426.\n"
          ]
        },
        {
          "output_type": "stream",
          "name": "stdout",
          "text": [
            "Mean ROC AUC Score = 0.95664\n"
          ]
        },
        {
          "output_type": "stream",
          "name": "stderr",
          "text": [
            "[I 2024-10-29 15:26:55,941] Trial 53 finished with value: 0.9564385667168338 and parameters: {'learning_rate': 0.017881483732483543, 'max_depth': 10, 'subsample': 0.97602154178441, 'colsample_bytree': 0.6266277053668194, 'lambda': 0.014917543845633858, 'alpha': 0.44299360808669375}. Best is trial 22 with value: 0.9568356335457426.\n"
          ]
        },
        {
          "output_type": "stream",
          "name": "stdout",
          "text": [
            "Mean ROC AUC Score = 0.95644\n"
          ]
        },
        {
          "output_type": "stream",
          "name": "stderr",
          "text": [
            "[I 2024-10-29 15:27:36,489] Trial 54 finished with value: 0.9563426302475264 and parameters: {'learning_rate': 0.012260716021787764, 'max_depth': 11, 'subsample': 0.9377473845917605, 'colsample_bytree': 0.6624987641505157, 'lambda': 0.0323379181940691, 'alpha': 1.264320504700556}. Best is trial 22 with value: 0.9568356335457426.\n"
          ]
        },
        {
          "output_type": "stream",
          "name": "stdout",
          "text": [
            "Mean ROC AUC Score = 0.95634\n"
          ]
        },
        {
          "output_type": "stream",
          "name": "stderr",
          "text": [
            "[I 2024-10-29 15:28:03,826] Trial 55 finished with value: 0.9558182458612187 and parameters: {'learning_rate': 0.011118957350876932, 'max_depth': 9, 'subsample': 0.9953174880722985, 'colsample_bytree': 0.7236280249816602, 'lambda': 0.31001644391792815, 'alpha': 3.867610796768455}. Best is trial 22 with value: 0.9568356335457426.\n"
          ]
        },
        {
          "output_type": "stream",
          "name": "stdout",
          "text": [
            "Mean ROC AUC Score = 0.95582\n"
          ]
        },
        {
          "output_type": "stream",
          "name": "stderr",
          "text": [
            "[I 2024-10-29 15:28:33,657] Trial 56 finished with value: 0.9567878254186812 and parameters: {'learning_rate': 0.01675149170746827, 'max_depth': 9, 'subsample': 0.9537173793712492, 'colsample_bytree': 0.644032715691178, 'lambda': 0.04046673863078827, 'alpha': 0.45589949236954996}. Best is trial 22 with value: 0.9568356335457426.\n"
          ]
        },
        {
          "output_type": "stream",
          "name": "stdout",
          "text": [
            "Mean ROC AUC Score = 0.95679\n"
          ]
        },
        {
          "output_type": "stream",
          "name": "stderr",
          "text": [
            "[I 2024-10-29 15:29:03,099] Trial 57 finished with value: 0.9552835185244485 and parameters: {'learning_rate': 0.02420088772791291, 'max_depth': 9, 'subsample': 0.8194143816892354, 'colsample_bytree': 0.6755919038260275, 'lambda': 0.030772562743380576, 'alpha': 0.1386774597787164}. Best is trial 22 with value: 0.9568356335457426.\n"
          ]
        },
        {
          "output_type": "stream",
          "name": "stdout",
          "text": [
            "Mean ROC AUC Score = 0.95528\n"
          ]
        },
        {
          "output_type": "stream",
          "name": "stderr",
          "text": [
            "[I 2024-10-29 15:29:23,989] Trial 58 finished with value: 0.9566128278202951 and parameters: {'learning_rate': 0.013775988677671457, 'max_depth': 7, 'subsample': 0.9321725551325265, 'colsample_bytree': 0.6765784429948282, 'lambda': 0.006350233805395315, 'alpha': 0.3650916133114802}. Best is trial 22 with value: 0.9568356335457426.\n"
          ]
        },
        {
          "output_type": "stream",
          "name": "stdout",
          "text": [
            "Mean ROC AUC Score = 0.95661\n"
          ]
        },
        {
          "output_type": "stream",
          "name": "stderr",
          "text": [
            "[I 2024-10-29 15:29:44,578] Trial 59 finished with value: 0.9569912901469788 and parameters: {'learning_rate': 0.01603546822482267, 'max_depth': 7, 'subsample': 0.9504327565470697, 'colsample_bytree': 0.6461298829380798, 'lambda': 0.0013763154424772809, 'alpha': 0.16489114375313957}. Best is trial 59 with value: 0.9569912901469788.\n"
          ]
        },
        {
          "output_type": "stream",
          "name": "stdout",
          "text": [
            "Mean ROC AUC Score = 0.95699\n"
          ]
        },
        {
          "output_type": "stream",
          "name": "stderr",
          "text": [
            "[I 2024-10-29 15:30:05,042] Trial 60 finished with value: 0.9562023439751514 and parameters: {'learning_rate': 0.035613234679765356, 'max_depth': 7, 'subsample': 0.9699896400252265, 'colsample_bytree': 0.6062142956028062, 'lambda': 0.0030937903754813204, 'alpha': 0.1755624792412}. Best is trial 59 with value: 0.9569912901469788.\n"
          ]
        },
        {
          "output_type": "stream",
          "name": "stdout",
          "text": [
            "Mean ROC AUC Score = 0.95620\n"
          ]
        },
        {
          "output_type": "stream",
          "name": "stderr",
          "text": [
            "[I 2024-10-29 15:30:25,342] Trial 61 finished with value: 0.9566242915239039 and parameters: {'learning_rate': 0.017015639642902803, 'max_depth': 7, 'subsample': 0.9176234243462903, 'colsample_bytree': 0.6615194872001814, 'lambda': 0.03126897488086031, 'alpha': 0.2846227281128936}. Best is trial 59 with value: 0.9569912901469788.\n"
          ]
        },
        {
          "output_type": "stream",
          "name": "stdout",
          "text": [
            "Mean ROC AUC Score = 0.95662\n"
          ]
        },
        {
          "output_type": "stream",
          "name": "stderr",
          "text": [
            "[I 2024-10-29 15:30:49,887] Trial 62 finished with value: 0.9564017739921227 and parameters: {'learning_rate': 0.024340796800015534, 'max_depth': 8, 'subsample': 0.9578298276741612, 'colsample_bytree': 0.6289965181629684, 'lambda': 0.1461685845449421, 'alpha': 1.1089106715539658}. Best is trial 59 with value: 0.9569912901469788.\n"
          ]
        },
        {
          "output_type": "stream",
          "name": "stdout",
          "text": [
            "Mean ROC AUC Score = 0.95640\n"
          ]
        },
        {
          "output_type": "stream",
          "name": "stderr",
          "text": [
            "[I 2024-10-29 15:31:19,267] Trial 63 finished with value: 0.956201703544782 and parameters: {'learning_rate': 0.020288562226368625, 'max_depth': 9, 'subsample': 0.9947800535715757, 'colsample_bytree': 0.7227906301052699, 'lambda': 0.0011166737606389694, 'alpha': 0.18045526303869944}. Best is trial 59 with value: 0.9569912901469788.\n"
          ]
        },
        {
          "output_type": "stream",
          "name": "stdout",
          "text": [
            "Mean ROC AUC Score = 0.95620\n"
          ]
        },
        {
          "output_type": "stream",
          "name": "stderr",
          "text": [
            "[I 2024-10-29 15:31:44,045] Trial 64 finished with value: 0.9564965576867657 and parameters: {'learning_rate': 0.017938740019997713, 'max_depth': 8, 'subsample': 0.9299215560549637, 'colsample_bytree': 0.6159326235751172, 'lambda': 0.044687011385723334, 'alpha': 0.0776028270480066}. Best is trial 59 with value: 0.9569912901469788.\n"
          ]
        },
        {
          "output_type": "stream",
          "name": "stdout",
          "text": [
            "Mean ROC AUC Score = 0.95650\n"
          ]
        },
        {
          "output_type": "stream",
          "name": "stderr",
          "text": [
            "[I 2024-10-29 15:32:00,807] Trial 65 finished with value: 0.9538108168689359 and parameters: {'learning_rate': 0.04799698839653821, 'max_depth': 6, 'subsample': 0.8359757426012251, 'colsample_bytree': 0.985172982285075, 'lambda': 5.347660231579948, 'alpha': 0.002908680785073462}. Best is trial 59 with value: 0.9569912901469788.\n"
          ]
        },
        {
          "output_type": "stream",
          "name": "stdout",
          "text": [
            "Mean ROC AUC Score = 0.95381\n"
          ]
        },
        {
          "output_type": "stream",
          "name": "stderr",
          "text": [
            "[I 2024-10-29 15:32:21,235] Trial 66 finished with value: 0.9570888597137277 and parameters: {'learning_rate': 0.019284937494448127, 'max_depth': 7, 'subsample': 0.957865470762209, 'colsample_bytree': 0.6273726567956106, 'lambda': 0.0012701801460761866, 'alpha': 0.20647377019476187}. Best is trial 66 with value: 0.9570888597137277.\n"
          ]
        },
        {
          "output_type": "stream",
          "name": "stdout",
          "text": [
            "Mean ROC AUC Score = 0.95709\n"
          ]
        },
        {
          "output_type": "stream",
          "name": "stderr",
          "text": [
            "[I 2024-10-29 15:32:41,681] Trial 67 finished with value: 0.9569112363508279 and parameters: {'learning_rate': 0.019317398677201583, 'max_depth': 7, 'subsample': 0.9446350351682465, 'colsample_bytree': 0.6293000164133385, 'lambda': 0.003382737092178097, 'alpha': 0.027846124286103786}. Best is trial 66 with value: 0.9570888597137277.\n"
          ]
        },
        {
          "output_type": "stream",
          "name": "stdout",
          "text": [
            "Mean ROC AUC Score = 0.95691\n"
          ]
        },
        {
          "output_type": "stream",
          "name": "stderr",
          "text": [
            "[I 2024-10-29 15:32:58,311] Trial 68 finished with value: 0.9569087706939063 and parameters: {'learning_rate': 0.0212452217649551, 'max_depth': 6, 'subsample': 0.9294303721023983, 'colsample_bytree': 0.6075692631497402, 'lambda': 0.0013265792395378583, 'alpha': 0.48617305999594396}. Best is trial 66 with value: 0.9570888597137277.\n"
          ]
        },
        {
          "output_type": "stream",
          "name": "stdout",
          "text": [
            "Mean ROC AUC Score = 0.95691\n"
          ]
        },
        {
          "output_type": "stream",
          "name": "stderr",
          "text": [
            "[I 2024-10-29 15:33:19,065] Trial 69 finished with value: 0.9562009990713761 and parameters: {'learning_rate': 0.017376316638936025, 'max_depth': 7, 'subsample': 0.8515770394984068, 'colsample_bytree': 0.6120375120313923, 'lambda': 0.0013864035318458963, 'alpha': 0.024063321611547905}. Best is trial 66 with value: 0.9570888597137277.\n"
          ]
        },
        {
          "output_type": "stream",
          "name": "stdout",
          "text": [
            "Mean ROC AUC Score = 0.95620\n"
          ]
        },
        {
          "output_type": "stream",
          "name": "stderr",
          "text": [
            "[I 2024-10-29 15:33:39,834] Trial 70 finished with value: 0.956163309744148 and parameters: {'learning_rate': 0.012006987363271524, 'max_depth': 7, 'subsample': 0.901549907434297, 'colsample_bytree': 0.6352682516046749, 'lambda': 0.00255115041656674, 'alpha': 0.08744728810767335}. Best is trial 66 with value: 0.9570888597137277.\n"
          ]
        },
        {
          "output_type": "stream",
          "name": "stdout",
          "text": [
            "Mean ROC AUC Score = 0.95616\n"
          ]
        },
        {
          "output_type": "stream",
          "name": "stderr",
          "text": [
            "[I 2024-10-29 15:33:56,422] Trial 71 finished with value: 0.9570757949341958 and parameters: {'learning_rate': 0.018647234841375423, 'max_depth': 6, 'subsample': 0.984319959539282, 'colsample_bytree': 0.6512118081246164, 'lambda': 0.0015226327946444712, 'alpha': 0.3565099295223652}. Best is trial 66 with value: 0.9570888597137277.\n"
          ]
        },
        {
          "output_type": "stream",
          "name": "stdout",
          "text": [
            "Mean ROC AUC Score = 0.95708\n"
          ]
        },
        {
          "output_type": "stream",
          "name": "stderr",
          "text": [
            "[I 2024-10-29 15:34:25,925] Trial 72 finished with value: 0.9566650228953856 and parameters: {'learning_rate': 0.018780993522658104, 'max_depth': 9, 'subsample': 0.9675868627517418, 'colsample_bytree': 0.6219455468687694, 'lambda': 0.007538609913857569, 'alpha': 0.0040147136906938}. Best is trial 66 with value: 0.9570888597137277.\n"
          ]
        },
        {
          "output_type": "stream",
          "name": "stdout",
          "text": [
            "Mean ROC AUC Score = 0.95667\n"
          ]
        },
        {
          "output_type": "stream",
          "name": "stderr",
          "text": [
            "[I 2024-10-29 15:34:42,844] Trial 73 finished with value: 0.9568003458323993 and parameters: {'learning_rate': 0.019974016617276467, 'max_depth': 6, 'subsample': 0.968087883452057, 'colsample_bytree': 0.659848297211178, 'lambda': 0.00232800605459279, 'alpha': 1.601853103831519}. Best is trial 66 with value: 0.9570888597137277.\n"
          ]
        },
        {
          "output_type": "stream",
          "name": "stdout",
          "text": [
            "Mean ROC AUC Score = 0.95680\n"
          ]
        },
        {
          "output_type": "stream",
          "name": "stderr",
          "text": [
            "[I 2024-10-29 15:34:59,541] Trial 74 finished with value: 0.9556407185628742 and parameters: {'learning_rate': 0.011225521842418857, 'max_depth': 6, 'subsample': 0.9981930104160304, 'colsample_bytree': 0.6352878552644363, 'lambda': 0.0010893310421999003, 'alpha': 0.1194492573286503}. Best is trial 66 with value: 0.9570888597137277.\n"
          ]
        },
        {
          "output_type": "stream",
          "name": "stdout",
          "text": [
            "Mean ROC AUC Score = 0.95564\n"
          ]
        },
        {
          "output_type": "stream",
          "name": "stderr",
          "text": [
            "[I 2024-10-29 15:35:16,084] Trial 75 finished with value: 0.9569765922700055 and parameters: {'learning_rate': 0.024473747751626616, 'max_depth': 6, 'subsample': 0.9767564707206526, 'colsample_bytree': 0.6271617464967354, 'lambda': 0.0011090825557475174, 'alpha': 0.8574380973031628}. Best is trial 66 with value: 0.9570888597137277.\n"
          ]
        },
        {
          "output_type": "stream",
          "name": "stdout",
          "text": [
            "Mean ROC AUC Score = 0.95698\n"
          ]
        },
        {
          "output_type": "stream",
          "name": "stderr",
          "text": [
            "[I 2024-10-29 15:35:32,816] Trial 76 finished with value: 0.954773960101188 and parameters: {'learning_rate': 0.013562614730250546, 'max_depth': 6, 'subsample': 0.932436465387109, 'colsample_bytree': 0.6035874515941168, 'lambda': 0.0012359991432068233, 'alpha': 3.7355580218019466}. Best is trial 66 with value: 0.9570888597137277.\n"
          ]
        },
        {
          "output_type": "stream",
          "name": "stdout",
          "text": [
            "Mean ROC AUC Score = 0.95477\n"
          ]
        },
        {
          "output_type": "stream",
          "name": "stderr",
          "text": [
            "[I 2024-10-29 15:35:53,198] Trial 77 finished with value: 0.957018572480707 and parameters: {'learning_rate': 0.022899122874659263, 'max_depth': 7, 'subsample': 0.9916987479038966, 'colsample_bytree': 0.6376538841783834, 'lambda': 0.004802399626968511, 'alpha': 1.108207554506363}. Best is trial 66 with value: 0.9570888597137277.\n"
          ]
        },
        {
          "output_type": "stream",
          "name": "stdout",
          "text": [
            "Mean ROC AUC Score = 0.95702\n"
          ]
        },
        {
          "output_type": "stream",
          "name": "stderr",
          "text": [
            "[I 2024-10-29 15:36:14,008] Trial 78 finished with value: 0.9572391687213807 and parameters: {'learning_rate': 0.020072221025811497, 'max_depth': 7, 'subsample': 0.98736802503195, 'colsample_bytree': 0.6410084471560525, 'lambda': 0.0021021455992778246, 'alpha': 1.294966468926271}. Best is trial 78 with value: 0.9572391687213807.\n"
          ]
        },
        {
          "output_type": "stream",
          "name": "stdout",
          "text": [
            "Mean ROC AUC Score = 0.95724\n"
          ]
        },
        {
          "output_type": "stream",
          "name": "stderr",
          "text": [
            "[I 2024-10-29 15:36:37,811] Trial 79 finished with value: 0.9533041724038555 and parameters: {'learning_rate': 0.055351584717202654, 'max_depth': 8, 'subsample': 0.9221035971655462, 'colsample_bytree': 0.6099091557172004, 'lambda': 0.0011658391126696155, 'alpha': 3.174484525647138}. Best is trial 78 with value: 0.9572391687213807.\n"
          ]
        },
        {
          "output_type": "stream",
          "name": "stdout",
          "text": [
            "Mean ROC AUC Score = 0.95330\n"
          ]
        },
        {
          "output_type": "stream",
          "name": "stderr",
          "text": [
            "[I 2024-10-29 15:37:02,398] Trial 80 finished with value: 0.9569715008485702 and parameters: {'learning_rate': 0.019878007733385123, 'max_depth': 8, 'subsample': 0.9860192395926534, 'colsample_bytree': 0.6251256296610294, 'lambda': 0.0019386044671605373, 'alpha': 0.036358306884726695}. Best is trial 78 with value: 0.9572391687213807.\n"
          ]
        },
        {
          "output_type": "stream",
          "name": "stdout",
          "text": [
            "Mean ROC AUC Score = 0.95697\n"
          ]
        },
        {
          "output_type": "stream",
          "name": "stderr",
          "text": [
            "[I 2024-10-29 15:37:18,788] Trial 81 finished with value: 0.956469755675814 and parameters: {'learning_rate': 0.032688215836596465, 'max_depth': 6, 'subsample': 0.9538646339452631, 'colsample_bytree': 0.6205427139970474, 'lambda': 0.004261168411682361, 'alpha': 0.016115048772135748}. Best is trial 78 with value: 0.9572391687213807.\n"
          ]
        },
        {
          "output_type": "stream",
          "name": "stdout",
          "text": [
            "Mean ROC AUC Score = 0.95647\n"
          ]
        },
        {
          "output_type": "stream",
          "name": "stderr",
          "text": [
            "[I 2024-10-29 15:37:44,003] Trial 82 finished with value: 0.9563185500656439 and parameters: {'learning_rate': 0.010463315048876326, 'max_depth': 8, 'subsample': 0.9971401439000732, 'colsample_bytree': 0.6154004160992772, 'lambda': 0.0011929550276891614, 'alpha': 0.25227702308426403}. Best is trial 78 with value: 0.9572391687213807.\n"
          ]
        },
        {
          "output_type": "stream",
          "name": "stdout",
          "text": [
            "Mean ROC AUC Score = 0.95632\n"
          ]
        },
        {
          "output_type": "stream",
          "name": "stderr",
          "text": [
            "[I 2024-10-29 15:38:08,623] Trial 83 finished with value: 0.9569917704697556 and parameters: {'learning_rate': 0.02130185738150672, 'max_depth': 8, 'subsample': 0.9865981621764806, 'colsample_bytree': 0.6284069953305852, 'lambda': 0.0010317444982609143, 'alpha': 0.005230121200288719}. Best is trial 78 with value: 0.9572391687213807.\n"
          ]
        },
        {
          "output_type": "stream",
          "name": "stdout",
          "text": [
            "Mean ROC AUC Score = 0.95699\n"
          ]
        },
        {
          "output_type": "stream",
          "name": "stderr",
          "text": [
            "[I 2024-10-29 15:38:38,542] Trial 84 finished with value: 0.9565514745909252 and parameters: {'learning_rate': 0.016095522275654545, 'max_depth': 9, 'subsample': 0.9545235557103104, 'colsample_bytree': 0.6445714194183189, 'lambda': 0.004084228589368916, 'alpha': 0.018923930517041748}. Best is trial 78 with value: 0.9572391687213807.\n"
          ]
        },
        {
          "output_type": "stream",
          "name": "stdout",
          "text": [
            "Mean ROC AUC Score = 0.95655\n"
          ]
        },
        {
          "output_type": "stream",
          "name": "stderr",
          "text": [
            "[I 2024-10-29 15:39:02,344] Trial 85 finished with value: 0.9555900284991514 and parameters: {'learning_rate': 0.037796724209705895, 'max_depth': 8, 'subsample': 0.9532651025798715, 'colsample_bytree': 0.6904992766149094, 'lambda': 0.003065254318449375, 'alpha': 0.021058966883595535}. Best is trial 78 with value: 0.9572391687213807.\n"
          ]
        },
        {
          "output_type": "stream",
          "name": "stdout",
          "text": [
            "Mean ROC AUC Score = 0.95559\n"
          ]
        },
        {
          "output_type": "stream",
          "name": "stderr",
          "text": [
            "[I 2024-10-29 15:39:22,577] Trial 86 finished with value: 0.956877389605815 and parameters: {'learning_rate': 0.024568433460492378, 'max_depth': 7, 'subsample': 0.9833507892808192, 'colsample_bytree': 0.6223563784266767, 'lambda': 0.0029865154338741275, 'alpha': 0.018496357201680993}. Best is trial 78 with value: 0.9572391687213807.\n"
          ]
        },
        {
          "output_type": "stream",
          "name": "stdout",
          "text": [
            "Mean ROC AUC Score = 0.95688\n"
          ]
        },
        {
          "output_type": "stream",
          "name": "stderr",
          "text": [
            "[I 2024-10-29 15:39:46,919] Trial 87 finished with value: 0.9564367094687631 and parameters: {'learning_rate': 0.02308269723526512, 'max_depth': 8, 'subsample': 0.9597332368723287, 'colsample_bytree': 0.7168574461669862, 'lambda': 0.0017914598763485146, 'alpha': 0.00264154809971152}. Best is trial 78 with value: 0.9572391687213807.\n"
          ]
        },
        {
          "output_type": "stream",
          "name": "stdout",
          "text": [
            "Mean ROC AUC Score = 0.95644\n"
          ]
        },
        {
          "output_type": "stream",
          "name": "stderr",
          "text": [
            "[I 2024-10-29 15:40:07,277] Trial 88 finished with value: 0.9570091901757982 and parameters: {'learning_rate': 0.021451105000630986, 'max_depth': 7, 'subsample': 0.9694981532512409, 'colsample_bytree': 0.6216229727444296, 'lambda': 0.00956596132324817, 'alpha': 1.660852030950563}. Best is trial 78 with value: 0.9572391687213807.\n"
          ]
        },
        {
          "output_type": "stream",
          "name": "stdout",
          "text": [
            "Mean ROC AUC Score = 0.95701\n"
          ]
        },
        {
          "output_type": "stream",
          "name": "stderr",
          "text": [
            "[I 2024-10-29 15:40:24,008] Trial 89 finished with value: 0.9561065035703994 and parameters: {'learning_rate': 0.048471118328129864, 'max_depth': 6, 'subsample': 0.9943271266246484, 'colsample_bytree': 0.6536726004473383, 'lambda': 0.00453316223984524, 'alpha': 1.0189975443728043}. Best is trial 78 with value: 0.9572391687213807.\n"
          ]
        },
        {
          "output_type": "stream",
          "name": "stdout",
          "text": [
            "Mean ROC AUC Score = 0.95611\n"
          ]
        },
        {
          "output_type": "stream",
          "name": "stderr",
          "text": [
            "[I 2024-10-29 15:40:44,753] Trial 90 finished with value: 0.9564881040058921 and parameters: {'learning_rate': 0.03282479155525236, 'max_depth': 7, 'subsample': 0.9813275151376569, 'colsample_bytree': 0.6289963652938069, 'lambda': 0.0048234769044083765, 'alpha': 1.017143903924692}. Best is trial 78 with value: 0.9572391687213807.\n"
          ]
        },
        {
          "output_type": "stream",
          "name": "stdout",
          "text": [
            "Mean ROC AUC Score = 0.95649\n"
          ]
        },
        {
          "output_type": "stream",
          "name": "stderr",
          "text": [
            "[I 2024-10-29 15:41:05,417] Trial 91 finished with value: 0.957035191648788 and parameters: {'learning_rate': 0.01871412151282781, 'max_depth': 7, 'subsample': 0.9335635558822611, 'colsample_bytree': 0.7408681943198163, 'lambda': 0.001540636589265854, 'alpha': 0.260079099018049}. Best is trial 78 with value: 0.9572391687213807.\n"
          ]
        },
        {
          "output_type": "stream",
          "name": "stdout",
          "text": [
            "Mean ROC AUC Score = 0.95704\n"
          ]
        },
        {
          "output_type": "stream",
          "name": "stderr",
          "text": [
            "[I 2024-10-29 15:41:29,615] Trial 92 finished with value: 0.9564912741362196 and parameters: {'learning_rate': 0.018768333206547916, 'max_depth': 8, 'subsample': 0.9706729998953316, 'colsample_bytree': 0.7317489848611282, 'lambda': 0.0010856010470653196, 'alpha': 2.749452430340008}. Best is trial 78 with value: 0.9572391687213807.\n"
          ]
        },
        {
          "output_type": "stream",
          "name": "stdout",
          "text": [
            "Mean ROC AUC Score = 0.95649\n"
          ]
        },
        {
          "output_type": "stream",
          "name": "stderr",
          "text": [
            "[I 2024-10-29 15:41:50,533] Trial 93 finished with value: 0.9561700022415064 and parameters: {'learning_rate': 0.02763482693179699, 'max_depth': 7, 'subsample': 0.9717969082177115, 'colsample_bytree': 0.8520867964108992, 'lambda': 0.003808106948090026, 'alpha': 0.6886994133993306}. Best is trial 78 with value: 0.9572391687213807.\n"
          ]
        },
        {
          "output_type": "stream",
          "name": "stdout",
          "text": [
            "Mean ROC AUC Score = 0.95617\n"
          ]
        },
        {
          "output_type": "stream",
          "name": "stderr",
          "text": [
            "[I 2024-10-29 15:42:20,407] Trial 94 finished with value: 0.9559991354190016 and parameters: {'learning_rate': 0.02083571238372623, 'max_depth': 9, 'subsample': 0.8747421908613192, 'colsample_bytree': 0.6076024376221856, 'lambda': 0.0010551404853277862, 'alpha': 0.6753810583552653}. Best is trial 78 with value: 0.9572391687213807.\n"
          ]
        },
        {
          "output_type": "stream",
          "name": "stdout",
          "text": [
            "Mean ROC AUC Score = 0.95600\n"
          ]
        },
        {
          "output_type": "stream",
          "name": "stderr",
          "text": [
            "[I 2024-10-29 15:42:40,810] Trial 95 finished with value: 0.9559079061129078 and parameters: {'learning_rate': 0.032808715103505616, 'max_depth': 7, 'subsample': 0.9402291257134334, 'colsample_bytree': 0.6955263716032829, 'lambda': 0.0011290263183803774, 'alpha': 0.2451590512273152}. Best is trial 78 with value: 0.9572391687213807.\n"
          ]
        },
        {
          "output_type": "stream",
          "name": "stdout",
          "text": [
            "Mean ROC AUC Score = 0.95591\n"
          ]
        },
        {
          "output_type": "stream",
          "name": "stderr",
          "text": [
            "[I 2024-10-29 15:43:01,713] Trial 96 finished with value: 0.9546848121937941 and parameters: {'learning_rate': 0.013880272103625635, 'max_depth': 7, 'subsample': 0.6778574220745816, 'colsample_bytree': 0.8726451027612818, 'lambda': 2.034170921746379, 'alpha': 0.18496191628762138}. Best is trial 78 with value: 0.9572391687213807.\n"
          ]
        },
        {
          "output_type": "stream",
          "name": "stdout",
          "text": [
            "Mean ROC AUC Score = 0.95468\n"
          ]
        },
        {
          "output_type": "stream",
          "name": "stderr",
          "text": [
            "[I 2024-10-29 15:43:18,242] Trial 97 finished with value: 0.9556464824361971 and parameters: {'learning_rate': 0.014107229576643843, 'max_depth': 6, 'subsample': 0.9830773691808694, 'colsample_bytree': 0.6820184361532201, 'lambda': 0.01079954249793695, 'alpha': 3.646099044293076}. Best is trial 78 with value: 0.9572391687213807.\n"
          ]
        },
        {
          "output_type": "stream",
          "name": "stdout",
          "text": [
            "Mean ROC AUC Score = 0.95565\n"
          ]
        },
        {
          "output_type": "stream",
          "name": "stderr",
          "text": [
            "[I 2024-10-29 15:43:34,744] Trial 98 finished with value: 0.9569062089724294 and parameters: {'learning_rate': 0.017911266082033486, 'max_depth': 6, 'subsample': 0.9789047511069877, 'colsample_bytree': 0.7167539860298056, 'lambda': 0.0011033422336761485, 'alpha': 0.4117027121415347}. Best is trial 78 with value: 0.9572391687213807.\n"
          ]
        },
        {
          "output_type": "stream",
          "name": "stdout",
          "text": [
            "Mean ROC AUC Score = 0.95691\n"
          ]
        },
        {
          "output_type": "stream",
          "name": "stderr",
          "text": [
            "[I 2024-10-29 15:43:55,272] Trial 99 finished with value: 0.9570622178103687 and parameters: {'learning_rate': 0.01828211105198083, 'max_depth': 7, 'subsample': 0.9985718129347925, 'colsample_bytree': 0.6442523822565819, 'lambda': 0.0013106550888030265, 'alpha': 0.0013140120861356538}. Best is trial 78 with value: 0.9572391687213807.\n"
          ]
        },
        {
          "output_type": "stream",
          "name": "stdout",
          "text": [
            "Mean ROC AUC Score = 0.95706\n",
            "Best value: 0.9572391687213807\n",
            "Best trial: {'learning_rate': 0.020072221025811497, 'max_depth': 7, 'subsample': 0.98736802503195, 'colsample_bytree': 0.6410084471560525, 'lambda': 0.0021021455992778246, 'alpha': 1.294966468926271}\n"
          ]
        }
      ]
    },
    {
      "cell_type": "code",
      "source": [
        "params = {'learning_rate': 0.020072221025811497, 'max_depth': 7, 'subsample': 0.98736802503195, 'colsample_bytree': 0.6410084471560525, 'lambda': 0.0021021455992778246, 'alpha': 1.294966468926271}\n"
      ],
      "metadata": {
        "id": "ourINSS0IjWV"
      },
      "execution_count": null,
      "outputs": []
    },
    {
      "cell_type": "code",
      "source": [
        "model = XGBClassifier(**params,random_state= 42,n_jobs= -1,tree_method= \"gpu_hist\",verbosity= 0,enable_categorical=True,objective= 'binary:logistic',eval_metric='auc',n_estimators=3000)\n",
        "model.fit(X,y)"
      ],
      "metadata": {
        "colab": {
          "base_uri": "https://localhost:8080/",
          "height": 257
        },
        "id": "u1EVNphvgERC",
        "outputId": "ee6e8ebd-bd51-41d1-a839-7d9ada6743f1"
      },
      "execution_count": null,
      "outputs": [
        {
          "output_type": "execute_result",
          "data": {
            "text/plain": [
              "XGBClassifier(alpha=1.294966468926271, base_score=None, booster=None,\n",
              "              callbacks=None, colsample_bylevel=None, colsample_bynode=None,\n",
              "              colsample_bytree=0.6410084471560525, device=None,\n",
              "              early_stopping_rounds=None, enable_categorical=True,\n",
              "              eval_metric='auc', feature_types=None, gamma=None,\n",
              "              grow_policy=None, importance_type=None,\n",
              "              interaction_constraints=None, lambda=0.0021021455992778246,\n",
              "              learning_rate=0.020072221025811497, max_bin=None,\n",
              "              max_cat_threshold=None, max_cat_to_onehot=None,\n",
              "              max_delta_step=None, max_depth=7, max_leaves=None,\n",
              "              min_child_weight=None, missing=nan, monotone_constraints=None,\n",
              "              multi_strategy=None, n_estimators=3000, n_jobs=-1, ...)"
            ],
            "text/html": [
              "<style>#sk-container-id-1 {\n",
              "  /* Definition of color scheme common for light and dark mode */\n",
              "  --sklearn-color-text: black;\n",
              "  --sklearn-color-line: gray;\n",
              "  /* Definition of color scheme for unfitted estimators */\n",
              "  --sklearn-color-unfitted-level-0: #fff5e6;\n",
              "  --sklearn-color-unfitted-level-1: #f6e4d2;\n",
              "  --sklearn-color-unfitted-level-2: #ffe0b3;\n",
              "  --sklearn-color-unfitted-level-3: chocolate;\n",
              "  /* Definition of color scheme for fitted estimators */\n",
              "  --sklearn-color-fitted-level-0: #f0f8ff;\n",
              "  --sklearn-color-fitted-level-1: #d4ebff;\n",
              "  --sklearn-color-fitted-level-2: #b3dbfd;\n",
              "  --sklearn-color-fitted-level-3: cornflowerblue;\n",
              "\n",
              "  /* Specific color for light theme */\n",
              "  --sklearn-color-text-on-default-background: var(--sg-text-color, var(--theme-code-foreground, var(--jp-content-font-color1, black)));\n",
              "  --sklearn-color-background: var(--sg-background-color, var(--theme-background, var(--jp-layout-color0, white)));\n",
              "  --sklearn-color-border-box: var(--sg-text-color, var(--theme-code-foreground, var(--jp-content-font-color1, black)));\n",
              "  --sklearn-color-icon: #696969;\n",
              "\n",
              "  @media (prefers-color-scheme: dark) {\n",
              "    /* Redefinition of color scheme for dark theme */\n",
              "    --sklearn-color-text-on-default-background: var(--sg-text-color, var(--theme-code-foreground, var(--jp-content-font-color1, white)));\n",
              "    --sklearn-color-background: var(--sg-background-color, var(--theme-background, var(--jp-layout-color0, #111)));\n",
              "    --sklearn-color-border-box: var(--sg-text-color, var(--theme-code-foreground, var(--jp-content-font-color1, white)));\n",
              "    --sklearn-color-icon: #878787;\n",
              "  }\n",
              "}\n",
              "\n",
              "#sk-container-id-1 {\n",
              "  color: var(--sklearn-color-text);\n",
              "}\n",
              "\n",
              "#sk-container-id-1 pre {\n",
              "  padding: 0;\n",
              "}\n",
              "\n",
              "#sk-container-id-1 input.sk-hidden--visually {\n",
              "  border: 0;\n",
              "  clip: rect(1px 1px 1px 1px);\n",
              "  clip: rect(1px, 1px, 1px, 1px);\n",
              "  height: 1px;\n",
              "  margin: -1px;\n",
              "  overflow: hidden;\n",
              "  padding: 0;\n",
              "  position: absolute;\n",
              "  width: 1px;\n",
              "}\n",
              "\n",
              "#sk-container-id-1 div.sk-dashed-wrapped {\n",
              "  border: 1px dashed var(--sklearn-color-line);\n",
              "  margin: 0 0.4em 0.5em 0.4em;\n",
              "  box-sizing: border-box;\n",
              "  padding-bottom: 0.4em;\n",
              "  background-color: var(--sklearn-color-background);\n",
              "}\n",
              "\n",
              "#sk-container-id-1 div.sk-container {\n",
              "  /* jupyter's `normalize.less` sets `[hidden] { display: none; }`\n",
              "     but bootstrap.min.css set `[hidden] { display: none !important; }`\n",
              "     so we also need the `!important` here to be able to override the\n",
              "     default hidden behavior on the sphinx rendered scikit-learn.org.\n",
              "     See: https://github.com/scikit-learn/scikit-learn/issues/21755 */\n",
              "  display: inline-block !important;\n",
              "  position: relative;\n",
              "}\n",
              "\n",
              "#sk-container-id-1 div.sk-text-repr-fallback {\n",
              "  display: none;\n",
              "}\n",
              "\n",
              "div.sk-parallel-item,\n",
              "div.sk-serial,\n",
              "div.sk-item {\n",
              "  /* draw centered vertical line to link estimators */\n",
              "  background-image: linear-gradient(var(--sklearn-color-text-on-default-background), var(--sklearn-color-text-on-default-background));\n",
              "  background-size: 2px 100%;\n",
              "  background-repeat: no-repeat;\n",
              "  background-position: center center;\n",
              "}\n",
              "\n",
              "/* Parallel-specific style estimator block */\n",
              "\n",
              "#sk-container-id-1 div.sk-parallel-item::after {\n",
              "  content: \"\";\n",
              "  width: 100%;\n",
              "  border-bottom: 2px solid var(--sklearn-color-text-on-default-background);\n",
              "  flex-grow: 1;\n",
              "}\n",
              "\n",
              "#sk-container-id-1 div.sk-parallel {\n",
              "  display: flex;\n",
              "  align-items: stretch;\n",
              "  justify-content: center;\n",
              "  background-color: var(--sklearn-color-background);\n",
              "  position: relative;\n",
              "}\n",
              "\n",
              "#sk-container-id-1 div.sk-parallel-item {\n",
              "  display: flex;\n",
              "  flex-direction: column;\n",
              "}\n",
              "\n",
              "#sk-container-id-1 div.sk-parallel-item:first-child::after {\n",
              "  align-self: flex-end;\n",
              "  width: 50%;\n",
              "}\n",
              "\n",
              "#sk-container-id-1 div.sk-parallel-item:last-child::after {\n",
              "  align-self: flex-start;\n",
              "  width: 50%;\n",
              "}\n",
              "\n",
              "#sk-container-id-1 div.sk-parallel-item:only-child::after {\n",
              "  width: 0;\n",
              "}\n",
              "\n",
              "/* Serial-specific style estimator block */\n",
              "\n",
              "#sk-container-id-1 div.sk-serial {\n",
              "  display: flex;\n",
              "  flex-direction: column;\n",
              "  align-items: center;\n",
              "  background-color: var(--sklearn-color-background);\n",
              "  padding-right: 1em;\n",
              "  padding-left: 1em;\n",
              "}\n",
              "\n",
              "\n",
              "/* Toggleable style: style used for estimator/Pipeline/ColumnTransformer box that is\n",
              "clickable and can be expanded/collapsed.\n",
              "- Pipeline and ColumnTransformer use this feature and define the default style\n",
              "- Estimators will overwrite some part of the style using the `sk-estimator` class\n",
              "*/\n",
              "\n",
              "/* Pipeline and ColumnTransformer style (default) */\n",
              "\n",
              "#sk-container-id-1 div.sk-toggleable {\n",
              "  /* Default theme specific background. It is overwritten whether we have a\n",
              "  specific estimator or a Pipeline/ColumnTransformer */\n",
              "  background-color: var(--sklearn-color-background);\n",
              "}\n",
              "\n",
              "/* Toggleable label */\n",
              "#sk-container-id-1 label.sk-toggleable__label {\n",
              "  cursor: pointer;\n",
              "  display: block;\n",
              "  width: 100%;\n",
              "  margin-bottom: 0;\n",
              "  padding: 0.5em;\n",
              "  box-sizing: border-box;\n",
              "  text-align: center;\n",
              "}\n",
              "\n",
              "#sk-container-id-1 label.sk-toggleable__label-arrow:before {\n",
              "  /* Arrow on the left of the label */\n",
              "  content: \"▸\";\n",
              "  float: left;\n",
              "  margin-right: 0.25em;\n",
              "  color: var(--sklearn-color-icon);\n",
              "}\n",
              "\n",
              "#sk-container-id-1 label.sk-toggleable__label-arrow:hover:before {\n",
              "  color: var(--sklearn-color-text);\n",
              "}\n",
              "\n",
              "/* Toggleable content - dropdown */\n",
              "\n",
              "#sk-container-id-1 div.sk-toggleable__content {\n",
              "  max-height: 0;\n",
              "  max-width: 0;\n",
              "  overflow: hidden;\n",
              "  text-align: left;\n",
              "  /* unfitted */\n",
              "  background-color: var(--sklearn-color-unfitted-level-0);\n",
              "}\n",
              "\n",
              "#sk-container-id-1 div.sk-toggleable__content.fitted {\n",
              "  /* fitted */\n",
              "  background-color: var(--sklearn-color-fitted-level-0);\n",
              "}\n",
              "\n",
              "#sk-container-id-1 div.sk-toggleable__content pre {\n",
              "  margin: 0.2em;\n",
              "  border-radius: 0.25em;\n",
              "  color: var(--sklearn-color-text);\n",
              "  /* unfitted */\n",
              "  background-color: var(--sklearn-color-unfitted-level-0);\n",
              "}\n",
              "\n",
              "#sk-container-id-1 div.sk-toggleable__content.fitted pre {\n",
              "  /* unfitted */\n",
              "  background-color: var(--sklearn-color-fitted-level-0);\n",
              "}\n",
              "\n",
              "#sk-container-id-1 input.sk-toggleable__control:checked~div.sk-toggleable__content {\n",
              "  /* Expand drop-down */\n",
              "  max-height: 200px;\n",
              "  max-width: 100%;\n",
              "  overflow: auto;\n",
              "}\n",
              "\n",
              "#sk-container-id-1 input.sk-toggleable__control:checked~label.sk-toggleable__label-arrow:before {\n",
              "  content: \"▾\";\n",
              "}\n",
              "\n",
              "/* Pipeline/ColumnTransformer-specific style */\n",
              "\n",
              "#sk-container-id-1 div.sk-label input.sk-toggleable__control:checked~label.sk-toggleable__label {\n",
              "  color: var(--sklearn-color-text);\n",
              "  background-color: var(--sklearn-color-unfitted-level-2);\n",
              "}\n",
              "\n",
              "#sk-container-id-1 div.sk-label.fitted input.sk-toggleable__control:checked~label.sk-toggleable__label {\n",
              "  background-color: var(--sklearn-color-fitted-level-2);\n",
              "}\n",
              "\n",
              "/* Estimator-specific style */\n",
              "\n",
              "/* Colorize estimator box */\n",
              "#sk-container-id-1 div.sk-estimator input.sk-toggleable__control:checked~label.sk-toggleable__label {\n",
              "  /* unfitted */\n",
              "  background-color: var(--sklearn-color-unfitted-level-2);\n",
              "}\n",
              "\n",
              "#sk-container-id-1 div.sk-estimator.fitted input.sk-toggleable__control:checked~label.sk-toggleable__label {\n",
              "  /* fitted */\n",
              "  background-color: var(--sklearn-color-fitted-level-2);\n",
              "}\n",
              "\n",
              "#sk-container-id-1 div.sk-label label.sk-toggleable__label,\n",
              "#sk-container-id-1 div.sk-label label {\n",
              "  /* The background is the default theme color */\n",
              "  color: var(--sklearn-color-text-on-default-background);\n",
              "}\n",
              "\n",
              "/* On hover, darken the color of the background */\n",
              "#sk-container-id-1 div.sk-label:hover label.sk-toggleable__label {\n",
              "  color: var(--sklearn-color-text);\n",
              "  background-color: var(--sklearn-color-unfitted-level-2);\n",
              "}\n",
              "\n",
              "/* Label box, darken color on hover, fitted */\n",
              "#sk-container-id-1 div.sk-label.fitted:hover label.sk-toggleable__label.fitted {\n",
              "  color: var(--sklearn-color-text);\n",
              "  background-color: var(--sklearn-color-fitted-level-2);\n",
              "}\n",
              "\n",
              "/* Estimator label */\n",
              "\n",
              "#sk-container-id-1 div.sk-label label {\n",
              "  font-family: monospace;\n",
              "  font-weight: bold;\n",
              "  display: inline-block;\n",
              "  line-height: 1.2em;\n",
              "}\n",
              "\n",
              "#sk-container-id-1 div.sk-label-container {\n",
              "  text-align: center;\n",
              "}\n",
              "\n",
              "/* Estimator-specific */\n",
              "#sk-container-id-1 div.sk-estimator {\n",
              "  font-family: monospace;\n",
              "  border: 1px dotted var(--sklearn-color-border-box);\n",
              "  border-radius: 0.25em;\n",
              "  box-sizing: border-box;\n",
              "  margin-bottom: 0.5em;\n",
              "  /* unfitted */\n",
              "  background-color: var(--sklearn-color-unfitted-level-0);\n",
              "}\n",
              "\n",
              "#sk-container-id-1 div.sk-estimator.fitted {\n",
              "  /* fitted */\n",
              "  background-color: var(--sklearn-color-fitted-level-0);\n",
              "}\n",
              "\n",
              "/* on hover */\n",
              "#sk-container-id-1 div.sk-estimator:hover {\n",
              "  /* unfitted */\n",
              "  background-color: var(--sklearn-color-unfitted-level-2);\n",
              "}\n",
              "\n",
              "#sk-container-id-1 div.sk-estimator.fitted:hover {\n",
              "  /* fitted */\n",
              "  background-color: var(--sklearn-color-fitted-level-2);\n",
              "}\n",
              "\n",
              "/* Specification for estimator info (e.g. \"i\" and \"?\") */\n",
              "\n",
              "/* Common style for \"i\" and \"?\" */\n",
              "\n",
              ".sk-estimator-doc-link,\n",
              "a:link.sk-estimator-doc-link,\n",
              "a:visited.sk-estimator-doc-link {\n",
              "  float: right;\n",
              "  font-size: smaller;\n",
              "  line-height: 1em;\n",
              "  font-family: monospace;\n",
              "  background-color: var(--sklearn-color-background);\n",
              "  border-radius: 1em;\n",
              "  height: 1em;\n",
              "  width: 1em;\n",
              "  text-decoration: none !important;\n",
              "  margin-left: 1ex;\n",
              "  /* unfitted */\n",
              "  border: var(--sklearn-color-unfitted-level-1) 1pt solid;\n",
              "  color: var(--sklearn-color-unfitted-level-1);\n",
              "}\n",
              "\n",
              ".sk-estimator-doc-link.fitted,\n",
              "a:link.sk-estimator-doc-link.fitted,\n",
              "a:visited.sk-estimator-doc-link.fitted {\n",
              "  /* fitted */\n",
              "  border: var(--sklearn-color-fitted-level-1) 1pt solid;\n",
              "  color: var(--sklearn-color-fitted-level-1);\n",
              "}\n",
              "\n",
              "/* On hover */\n",
              "div.sk-estimator:hover .sk-estimator-doc-link:hover,\n",
              ".sk-estimator-doc-link:hover,\n",
              "div.sk-label-container:hover .sk-estimator-doc-link:hover,\n",
              ".sk-estimator-doc-link:hover {\n",
              "  /* unfitted */\n",
              "  background-color: var(--sklearn-color-unfitted-level-3);\n",
              "  color: var(--sklearn-color-background);\n",
              "  text-decoration: none;\n",
              "}\n",
              "\n",
              "div.sk-estimator.fitted:hover .sk-estimator-doc-link.fitted:hover,\n",
              ".sk-estimator-doc-link.fitted:hover,\n",
              "div.sk-label-container:hover .sk-estimator-doc-link.fitted:hover,\n",
              ".sk-estimator-doc-link.fitted:hover {\n",
              "  /* fitted */\n",
              "  background-color: var(--sklearn-color-fitted-level-3);\n",
              "  color: var(--sklearn-color-background);\n",
              "  text-decoration: none;\n",
              "}\n",
              "\n",
              "/* Span, style for the box shown on hovering the info icon */\n",
              ".sk-estimator-doc-link span {\n",
              "  display: none;\n",
              "  z-index: 9999;\n",
              "  position: relative;\n",
              "  font-weight: normal;\n",
              "  right: .2ex;\n",
              "  padding: .5ex;\n",
              "  margin: .5ex;\n",
              "  width: min-content;\n",
              "  min-width: 20ex;\n",
              "  max-width: 50ex;\n",
              "  color: var(--sklearn-color-text);\n",
              "  box-shadow: 2pt 2pt 4pt #999;\n",
              "  /* unfitted */\n",
              "  background: var(--sklearn-color-unfitted-level-0);\n",
              "  border: .5pt solid var(--sklearn-color-unfitted-level-3);\n",
              "}\n",
              "\n",
              ".sk-estimator-doc-link.fitted span {\n",
              "  /* fitted */\n",
              "  background: var(--sklearn-color-fitted-level-0);\n",
              "  border: var(--sklearn-color-fitted-level-3);\n",
              "}\n",
              "\n",
              ".sk-estimator-doc-link:hover span {\n",
              "  display: block;\n",
              "}\n",
              "\n",
              "/* \"?\"-specific style due to the `<a>` HTML tag */\n",
              "\n",
              "#sk-container-id-1 a.estimator_doc_link {\n",
              "  float: right;\n",
              "  font-size: 1rem;\n",
              "  line-height: 1em;\n",
              "  font-family: monospace;\n",
              "  background-color: var(--sklearn-color-background);\n",
              "  border-radius: 1rem;\n",
              "  height: 1rem;\n",
              "  width: 1rem;\n",
              "  text-decoration: none;\n",
              "  /* unfitted */\n",
              "  color: var(--sklearn-color-unfitted-level-1);\n",
              "  border: var(--sklearn-color-unfitted-level-1) 1pt solid;\n",
              "}\n",
              "\n",
              "#sk-container-id-1 a.estimator_doc_link.fitted {\n",
              "  /* fitted */\n",
              "  border: var(--sklearn-color-fitted-level-1) 1pt solid;\n",
              "  color: var(--sklearn-color-fitted-level-1);\n",
              "}\n",
              "\n",
              "/* On hover */\n",
              "#sk-container-id-1 a.estimator_doc_link:hover {\n",
              "  /* unfitted */\n",
              "  background-color: var(--sklearn-color-unfitted-level-3);\n",
              "  color: var(--sklearn-color-background);\n",
              "  text-decoration: none;\n",
              "}\n",
              "\n",
              "#sk-container-id-1 a.estimator_doc_link.fitted:hover {\n",
              "  /* fitted */\n",
              "  background-color: var(--sklearn-color-fitted-level-3);\n",
              "}\n",
              "</style><div id=\"sk-container-id-1\" class=\"sk-top-container\"><div class=\"sk-text-repr-fallback\"><pre>XGBClassifier(alpha=1.294966468926271, base_score=None, booster=None,\n",
              "              callbacks=None, colsample_bylevel=None, colsample_bynode=None,\n",
              "              colsample_bytree=0.6410084471560525, device=None,\n",
              "              early_stopping_rounds=None, enable_categorical=True,\n",
              "              eval_metric=&#x27;auc&#x27;, feature_types=None, gamma=None,\n",
              "              grow_policy=None, importance_type=None,\n",
              "              interaction_constraints=None, lambda=0.0021021455992778246,\n",
              "              learning_rate=0.020072221025811497, max_bin=None,\n",
              "              max_cat_threshold=None, max_cat_to_onehot=None,\n",
              "              max_delta_step=None, max_depth=7, max_leaves=None,\n",
              "              min_child_weight=None, missing=nan, monotone_constraints=None,\n",
              "              multi_strategy=None, n_estimators=3000, n_jobs=-1, ...)</pre><b>In a Jupyter environment, please rerun this cell to show the HTML representation or trust the notebook. <br />On GitHub, the HTML representation is unable to render, please try loading this page with nbviewer.org.</b></div><div class=\"sk-container\" hidden><div class=\"sk-item\"><div class=\"sk-estimator fitted sk-toggleable\"><input class=\"sk-toggleable__control sk-hidden--visually\" id=\"sk-estimator-id-1\" type=\"checkbox\" checked><label for=\"sk-estimator-id-1\" class=\"sk-toggleable__label fitted sk-toggleable__label-arrow fitted\">&nbsp;XGBClassifier<span class=\"sk-estimator-doc-link fitted\">i<span>Fitted</span></span></label><div class=\"sk-toggleable__content fitted\"><pre>XGBClassifier(alpha=1.294966468926271, base_score=None, booster=None,\n",
              "              callbacks=None, colsample_bylevel=None, colsample_bynode=None,\n",
              "              colsample_bytree=0.6410084471560525, device=None,\n",
              "              early_stopping_rounds=None, enable_categorical=True,\n",
              "              eval_metric=&#x27;auc&#x27;, feature_types=None, gamma=None,\n",
              "              grow_policy=None, importance_type=None,\n",
              "              interaction_constraints=None, lambda=0.0021021455992778246,\n",
              "              learning_rate=0.020072221025811497, max_bin=None,\n",
              "              max_cat_threshold=None, max_cat_to_onehot=None,\n",
              "              max_delta_step=None, max_depth=7, max_leaves=None,\n",
              "              min_child_weight=None, missing=nan, monotone_constraints=None,\n",
              "              multi_strategy=None, n_estimators=3000, n_jobs=-1, ...)</pre></div> </div></div></div></div>"
            ]
          },
          "metadata": {},
          "execution_count": 32
        }
      ]
    },
    {
      "cell_type": "code",
      "source": [
        "sub = pd.DataFrame()\n",
        "sub['id'] = ids\n",
        "sub['loan_status'] = model.predict(test_data)\n",
        "sub.to_csv('submission.csv',index=False)"
      ],
      "metadata": {
        "id": "sROYqCUxgo5f"
      },
      "execution_count": null,
      "outputs": []
    },
    {
      "cell_type": "code",
      "source": [
        "!kaggle competitions submit -c playground-series-s4e10 -f submission.csv -m \"submission\""
      ],
      "metadata": {
        "colab": {
          "base_uri": "https://localhost:8080/"
        },
        "id": "85liNlQBnoKx",
        "outputId": "61fee3bf-b012-480e-ca69-498b8bdc8cb8"
      },
      "execution_count": null,
      "outputs": [
        {
          "output_type": "stream",
          "name": "stdout",
          "text": [
            "100% 305k/305k [00:00<00:00, 422kB/s]\n",
            "Successfully submitted to Loan Approval Prediction"
          ]
        }
      ]
    },
    {
      "cell_type": "code",
      "source": [],
      "metadata": {
        "id": "NXG3wyxUoT5A"
      },
      "execution_count": null,
      "outputs": []
    }
  ]
}