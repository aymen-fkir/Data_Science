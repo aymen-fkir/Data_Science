{
  "cells": [
    {
      "cell_type": "code",
      "execution_count": null,
      "metadata": {
        "id": "uRz1f5M_cP_G"
      },
      "outputs": [],
      "source": [
        "!mkdir /root/.kaggle\n",
        "!mv kaggle.json /root/.kaggle/\n",
        "!chmod 600 /root/.kaggle/kaggle.json"
      ]
    },
    {
      "cell_type": "code",
      "execution_count": null,
      "metadata": {
        "colab": {
          "base_uri": "https://localhost:8080/"
        },
        "id": "bTSpXYvTczHj",
        "outputId": "6463134d-af42-44d2-f2fc-b953b3482ae1"
      },
      "outputs": [
        {
          "output_type": "stream",
          "name": "stdout",
          "text": [
            "Downloading coder-49140-season-finale.zip to /content\n",
            "\r  0% 0.00/6.81M [00:00<?, ?B/s]\n",
            "\r100% 6.81M/6.81M [00:00<00:00, 78.3MB/s]\n"
          ]
        }
      ],
      "source": [
        "!kaggle competitions download -c coder-49140-season-finale"
      ]
    },
    {
      "cell_type": "code",
      "execution_count": null,
      "metadata": {
        "colab": {
          "base_uri": "https://localhost:8080/"
        },
        "id": "Ssfta5KLc4lP",
        "outputId": "f8272789-59fa-4a74-b763-6c093b386207"
      },
      "outputs": [
        {
          "output_type": "stream",
          "name": "stdout",
          "text": [
            "Archive:  coder-49140-season-finale.zip\n",
            "  inflating: sample_submission.csv   \n",
            "  inflating: test.csv                \n",
            "  inflating: train.csv               \n"
          ]
        }
      ],
      "source": [
        "!unzip coder-49140-season-finale.zip"
      ]
    },
    {
      "cell_type": "code",
      "execution_count": null,
      "metadata": {
        "colab": {
          "base_uri": "https://localhost:8080/"
        },
        "id": "WN75ZCmCc-sf",
        "outputId": "648cf890-7ec6-4af3-949b-8a7399f2cb42"
      },
      "outputs": [
        {
          "output_type": "stream",
          "name": "stdout",
          "text": [
            "Collecting catboost\n",
            "  Downloading catboost-1.2.5-cp310-cp310-manylinux2014_x86_64.whl (98.2 MB)\n",
            "\u001b[2K     \u001b[90m━━━━━━━━━━━━━━━━━━━━━━━━━━━━━━━━━━━━━━━━\u001b[0m \u001b[32m98.2/98.2 MB\u001b[0m \u001b[31m8.6 MB/s\u001b[0m eta \u001b[36m0:00:00\u001b[0m\n",
            "\u001b[?25hRequirement already satisfied: graphviz in /usr/local/lib/python3.10/dist-packages (from catboost) (0.20.3)\n",
            "Requirement already satisfied: matplotlib in /usr/local/lib/python3.10/dist-packages (from catboost) (3.7.1)\n",
            "Requirement already satisfied: numpy>=1.16.0 in /usr/local/lib/python3.10/dist-packages (from catboost) (1.25.2)\n",
            "Requirement already satisfied: pandas>=0.24 in /usr/local/lib/python3.10/dist-packages (from catboost) (2.0.3)\n",
            "Requirement already satisfied: scipy in /usr/local/lib/python3.10/dist-packages (from catboost) (1.11.4)\n",
            "Requirement already satisfied: plotly in /usr/local/lib/python3.10/dist-packages (from catboost) (5.15.0)\n",
            "Requirement already satisfied: six in /usr/local/lib/python3.10/dist-packages (from catboost) (1.16.0)\n",
            "Requirement already satisfied: python-dateutil>=2.8.2 in /usr/local/lib/python3.10/dist-packages (from pandas>=0.24->catboost) (2.8.2)\n",
            "Requirement already satisfied: pytz>=2020.1 in /usr/local/lib/python3.10/dist-packages (from pandas>=0.24->catboost) (2023.4)\n",
            "Requirement already satisfied: tzdata>=2022.1 in /usr/local/lib/python3.10/dist-packages (from pandas>=0.24->catboost) (2024.1)\n",
            "Requirement already satisfied: contourpy>=1.0.1 in /usr/local/lib/python3.10/dist-packages (from matplotlib->catboost) (1.2.1)\n",
            "Requirement already satisfied: cycler>=0.10 in /usr/local/lib/python3.10/dist-packages (from matplotlib->catboost) (0.12.1)\n",
            "Requirement already satisfied: fonttools>=4.22.0 in /usr/local/lib/python3.10/dist-packages (from matplotlib->catboost) (4.51.0)\n",
            "Requirement already satisfied: kiwisolver>=1.0.1 in /usr/local/lib/python3.10/dist-packages (from matplotlib->catboost) (1.4.5)\n",
            "Requirement already satisfied: packaging>=20.0 in /usr/local/lib/python3.10/dist-packages (from matplotlib->catboost) (24.0)\n",
            "Requirement already satisfied: pillow>=6.2.0 in /usr/local/lib/python3.10/dist-packages (from matplotlib->catboost) (9.4.0)\n",
            "Requirement already satisfied: pyparsing>=2.3.1 in /usr/local/lib/python3.10/dist-packages (from matplotlib->catboost) (3.1.2)\n",
            "Requirement already satisfied: tenacity>=6.2.0 in /usr/local/lib/python3.10/dist-packages (from plotly->catboost) (8.3.0)\n",
            "Installing collected packages: catboost\n",
            "Successfully installed catboost-1.2.5\n"
          ]
        }
      ],
      "source": [
        "!pip install catboost"
      ]
    },
    {
      "cell_type": "code",
      "execution_count": null,
      "metadata": {
        "colab": {
          "base_uri": "https://localhost:8080/"
        },
        "id": "x0SZGDX4dnUi",
        "outputId": "2a3e4e1c-8836-4ff8-8bb0-d67f77143103"
      },
      "outputs": [
        {
          "output_type": "stream",
          "name": "stdout",
          "text": [
            "Dataset URL: https://www.kaggle.com/datasets/shubhammeshram579/bank-customer-churn-prediction\n",
            "License(s): CC0-1.0\n",
            "Downloading bank-customer-churn-prediction.zip to /content\n",
            "  0% 0.00/262k [00:00<?, ?B/s]\n",
            "100% 262k/262k [00:00<00:00, 99.6MB/s]\n"
          ]
        }
      ],
      "source": [
        "!kaggle datasets download -d shubhammeshram579/bank-customer-churn-prediction"
      ]
    },
    {
      "cell_type": "code",
      "execution_count": null,
      "metadata": {
        "colab": {
          "base_uri": "https://localhost:8080/"
        },
        "id": "2akWa07OdqW4",
        "outputId": "b1b57779-676a-417a-c005-18de8458d364"
      },
      "outputs": [
        {
          "output_type": "stream",
          "name": "stdout",
          "text": [
            "Archive:  bank-customer-churn-prediction.zip\n",
            "  inflating: Churn_Modelling.csv     \n"
          ]
        }
      ],
      "source": [
        "!unzip bank-customer-churn-prediction.zip"
      ]
    },
    {
      "cell_type": "code",
      "execution_count": null,
      "metadata": {
        "colab": {
          "base_uri": "https://localhost:8080/"
        },
        "id": "UmbDwJVwo-3M",
        "outputId": "233e12d8-2d0d-4a30-a1b0-1ebce495e112"
      },
      "outputs": [
        {
          "output_type": "stream",
          "name": "stdout",
          "text": [
            "Collecting scikit-optimize\n",
            "  Downloading scikit_optimize-0.10.1-py2.py3-none-any.whl (107 kB)\n",
            "\u001b[2K     \u001b[90m━━━━━━━━━━━━━━━━━━━━━━━━━━━━━━━━━━━━━━━━\u001b[0m \u001b[32m107.7/107.7 kB\u001b[0m \u001b[31m1.2 MB/s\u001b[0m eta \u001b[36m0:00:00\u001b[0m\n",
            "\u001b[?25hRequirement already satisfied: joblib>=0.11 in /usr/local/lib/python3.10/dist-packages (from scikit-optimize) (1.4.2)\n",
            "Collecting pyaml>=16.9 (from scikit-optimize)\n",
            "  Downloading pyaml-24.4.0-py3-none-any.whl (24 kB)\n",
            "Requirement already satisfied: numpy>=1.20.3 in /usr/local/lib/python3.10/dist-packages (from scikit-optimize) (1.25.2)\n",
            "Requirement already satisfied: scipy>=1.1.0 in /usr/local/lib/python3.10/dist-packages (from scikit-optimize) (1.11.4)\n",
            "Requirement already satisfied: scikit-learn>=1.0.0 in /usr/local/lib/python3.10/dist-packages (from scikit-optimize) (1.2.2)\n",
            "Requirement already satisfied: packaging>=21.3 in /usr/local/lib/python3.10/dist-packages (from scikit-optimize) (24.0)\n",
            "Requirement already satisfied: PyYAML in /usr/local/lib/python3.10/dist-packages (from pyaml>=16.9->scikit-optimize) (6.0.1)\n",
            "Requirement already satisfied: threadpoolctl>=2.0.0 in /usr/local/lib/python3.10/dist-packages (from scikit-learn>=1.0.0->scikit-optimize) (3.5.0)\n",
            "Installing collected packages: pyaml, scikit-optimize\n",
            "Successfully installed pyaml-24.4.0 scikit-optimize-0.10.1\n"
          ]
        }
      ],
      "source": [
        "!pip install scikit-optimize"
      ]
    },
    {
      "cell_type": "code",
      "execution_count": null,
      "metadata": {
        "id": "6ST1qW8ic7YQ"
      },
      "outputs": [],
      "source": [
        "import pandas as pd\n",
        "import numpy as np\n",
        "import matplotlib.pyplot as plt\n",
        "import seaborn as sns\n",
        "from catboost import CatBoostClassifier,Pool,utils\n",
        "from sklearn.ensemble import RandomForestClassifier\n",
        "from sklearn.model_selection import train_test_split\n",
        "from sklearn.metrics import roc_curve,auc\n",
        "from functools import partial\n",
        "from skopt import space\n",
        "from skopt import gp_minimize\n",
        "from sklearn import model_selection\n",
        "from sklearn.utils import resample\n",
        "from scipy import stats"
      ]
    },
    {
      "cell_type": "markdown",
      "metadata": {
        "id": "2j5Z3WuDogNE"
      },
      "source": [
        "# **PreProcess**"
      ]
    },
    {
      "cell_type": "code",
      "execution_count": null,
      "metadata": {
        "id": "D4dwaB_DdU32"
      },
      "outputs": [],
      "source": [
        "train = pd.read_csv('train.csv')\n",
        "test = pd.read_csv('test.csv')"
      ]
    },
    {
      "cell_type": "code",
      "source": [
        "train.shape"
      ],
      "metadata": {
        "colab": {
          "base_uri": "https://localhost:8080/"
        },
        "id": "03CxIuZKOj9n",
        "outputId": "acefc4e9-9f31-48ac-cfdb-ee7afd1996bb"
      },
      "execution_count": null,
      "outputs": [
        {
          "output_type": "execute_result",
          "data": {
            "text/plain": [
              "(165034, 14)"
            ]
          },
          "metadata": {},
          "execution_count": 37
        }
      ]
    },
    {
      "cell_type": "code",
      "execution_count": null,
      "metadata": {
        "id": "2TcnQGIGljvV"
      },
      "outputs": [],
      "source": [
        "id = test['id']"
      ]
    },
    {
      "cell_type": "code",
      "execution_count": null,
      "metadata": {
        "id": "9ewrRUBWdYmS"
      },
      "outputs": [],
      "source": [
        "train = train.drop_duplicates(subset=[\"Surname\",\"CustomerId\"],keep=\"first\")"
      ]
    },
    {
      "cell_type": "code",
      "execution_count": null,
      "metadata": {
        "id": "vwi--b_JR-RV"
      },
      "outputs": [],
      "source": [
        "numerical_cols= ['CreditScore', 'Age', 'Tenure', 'Balance','NumOfProducts', 'HasCrCard', 'IsActiveMember', 'EstimatedSalary','Exited']"
      ]
    },
    {
      "cell_type": "code",
      "execution_count": null,
      "metadata": {
        "id": "-eAnXx_GbKhS"
      },
      "outputs": [],
      "source": [
        "extra = pd.read_csv('Churn_Modelling.csv')"
      ]
    },
    {
      "cell_type": "code",
      "source": [
        "extra.columns = train.columns\n",
        "extra_ones = extra.loc[extra.Exited==1].copy()\n",
        "train = pd.concat([train,extra_ones])"
      ],
      "metadata": {
        "id": "cvqE9MAROqWx"
      },
      "execution_count": null,
      "outputs": []
    },
    {
      "cell_type": "code",
      "source": [
        "train[\"Exited\"].value_counts()"
      ],
      "metadata": {
        "colab": {
          "base_uri": "https://localhost:8080/"
        },
        "id": "IDUGtln1O9tj",
        "outputId": "7762defc-3872-4867-9f3c-7b5e336eb162"
      },
      "execution_count": null,
      "outputs": [
        {
          "output_type": "execute_result",
          "data": {
            "text/plain": [
              "Exited\n",
              "0    104218\n",
              "1     30384\n",
              "Name: count, dtype: int64"
            ]
          },
          "metadata": {},
          "execution_count": 43
        }
      ]
    },
    {
      "cell_type": "code",
      "execution_count": null,
      "metadata": {
        "id": "34-pRKzWeXE2"
      },
      "outputs": [],
      "source": [
        "# train = train[(np.abs(stats.zscore(train[numerical_cols])) < 3).all(axis=1)]"
      ]
    },
    {
      "cell_type": "code",
      "execution_count": null,
      "metadata": {
        "colab": {
          "base_uri": "https://localhost:8080/"
        },
        "id": "yMEEDJKGe0mX",
        "outputId": "5c947dc3-4167-4734-86fa-c55a58225fe8"
      },
      "outputs": [
        {
          "output_type": "execute_result",
          "data": {
            "text/plain": [
              "(134602, 14)"
            ]
          },
          "metadata": {},
          "execution_count": 44
        }
      ],
      "source": [
        "train.shape"
      ]
    },
    {
      "cell_type": "code",
      "execution_count": null,
      "metadata": {
        "id": "xSdKX8Bje3nV"
      },
      "outputs": [],
      "source": [
        "def preprocess(df):\n",
        "  df = df.drop(columns = [\"id\",\"Surname\"])\n",
        "  df[\"Gender\"] = df[\"Gender\"].astype(\"category\").cat.codes\n",
        "  df[\"Geography\"] = df[\"Geography\"].astype(\"category\").cat.codes\n",
        "  return df"
      ]
    },
    {
      "cell_type": "code",
      "execution_count": null,
      "metadata": {
        "id": "TFvHwZB-fQ0S"
      },
      "outputs": [],
      "source": [
        "train = preprocess(train)\n",
        "test = preprocess(test)"
      ]
    },
    {
      "cell_type": "code",
      "execution_count": null,
      "metadata": {
        "id": "1PwJeLf91kvw"
      },
      "outputs": [],
      "source": [
        "exited = train[train.Exited==1]\n",
        "no_exit = train[train.Exited == 0]\n",
        "upsampled_exited = resample(no_exit, replace=True, n_samples=40681)\n",
        "train = pd.concat([upsampled_exited,exited])"
      ]
    },
    {
      "cell_type": "code",
      "execution_count": null,
      "metadata": {
        "id": "F5PG2WlT2si1"
      },
      "outputs": [],
      "source": [
        "train = train.sample(frac=1)"
      ]
    },
    {
      "cell_type": "code",
      "source": [
        "train.drop(columns=[\"CustomerId\"],inplace=True)"
      ],
      "metadata": {
        "id": "nevTZ1xtQAGJ"
      },
      "execution_count": null,
      "outputs": []
    },
    {
      "cell_type": "code",
      "execution_count": null,
      "metadata": {
        "colab": {
          "base_uri": "https://localhost:8080/"
        },
        "id": "dmBvaigiN-si",
        "outputId": "1256bcb9-0836-43a2-fcd0-7fae9fff6005"
      },
      "outputs": [
        {
          "output_type": "execute_result",
          "data": {
            "text/plain": [
              "Exited\n",
              "0    40681\n",
              "1    30384\n",
              "Name: count, dtype: int64"
            ]
          },
          "metadata": {},
          "execution_count": 52
        }
      ],
      "source": [
        "train['Exited'].value_counts()"
      ]
    },
    {
      "cell_type": "code",
      "execution_count": null,
      "metadata": {
        "id": "DZVha-j1gki_"
      },
      "outputs": [],
      "source": [
        "X = train.drop(columns=[\"Exited\"])\n",
        "y = train[\"Exited\"]"
      ]
    },
    {
      "cell_type": "markdown",
      "metadata": {
        "id": "07RAHPckFUIS"
      },
      "source": [
        "# **Exploit Data**"
      ]
    },
    {
      "cell_type": "code",
      "execution_count": null,
      "metadata": {
        "colab": {
          "base_uri": "https://localhost:8080/",
          "height": 414
        },
        "id": "UgCSWRnrFTvM",
        "outputId": "16929f58-7773-45f6-d4f7-021ce63fe8de"
      },
      "outputs": [
        {
          "output_type": "execute_result",
          "data": {
            "text/plain": [
              "<pandas.io.formats.style.Styler at 0x7a44cdc8fb20>"
            ],
            "text/html": [
              "<style type=\"text/css\">\n",
              "#T_d4390_row0_col0, #T_d4390_row1_col1, #T_d4390_row2_col2, #T_d4390_row3_col3, #T_d4390_row4_col4, #T_d4390_row5_col5, #T_d4390_row6_col6, #T_d4390_row7_col7, #T_d4390_row8_col8, #T_d4390_row9_col9, #T_d4390_row10_col10 {\n",
              "  background-color: #b40426;\n",
              "  color: #f1f1f1;\n",
              "}\n",
              "#T_d4390_row0_col1, #T_d4390_row0_col4, #T_d4390_row7_col4, #T_d4390_row9_col4, #T_d4390_row10_col6, #T_d4390_row10_col9 {\n",
              "  background-color: #4257c9;\n",
              "  color: #f1f1f1;\n",
              "}\n",
              "#T_d4390_row0_col2, #T_d4390_row4_col2 {\n",
              "  background-color: #6f92f3;\n",
              "  color: #f1f1f1;\n",
              "}\n",
              "#T_d4390_row0_col3, #T_d4390_row4_col3, #T_d4390_row7_col3 {\n",
              "  background-color: #5977e3;\n",
              "  color: #f1f1f1;\n",
              "}\n",
              "#T_d4390_row0_col5, #T_d4390_row4_col6, #T_d4390_row7_col6, #T_d4390_row9_col5 {\n",
              "  background-color: #82a6fb;\n",
              "  color: #f1f1f1;\n",
              "}\n",
              "#T_d4390_row0_col6 {\n",
              "  background-color: #84a7fc;\n",
              "  color: #f1f1f1;\n",
              "}\n",
              "#T_d4390_row0_col7, #T_d4390_row3_col0 {\n",
              "  background-color: #4055c8;\n",
              "  color: #f1f1f1;\n",
              "}\n",
              "#T_d4390_row0_col8, #T_d4390_row9_col10 {\n",
              "  background-color: #81a4fb;\n",
              "  color: #f1f1f1;\n",
              "}\n",
              "#T_d4390_row0_col9, #T_d4390_row2_col1, #T_d4390_row2_col9, #T_d4390_row5_col6, #T_d4390_row6_col1, #T_d4390_row6_col3, #T_d4390_row6_col5, #T_d4390_row6_col9, #T_d4390_row7_col1, #T_d4390_row8_col7, #T_d4390_row8_col9, #T_d4390_row8_col10, #T_d4390_row10_col0, #T_d4390_row10_col2, #T_d4390_row10_col4, #T_d4390_row10_col7, #T_d4390_row10_col8 {\n",
              "  background-color: #3b4cc0;\n",
              "  color: #f1f1f1;\n",
              "}\n",
              "#T_d4390_row0_col10 {\n",
              "  background-color: #7093f3;\n",
              "  color: #f1f1f1;\n",
              "}\n",
              "#T_d4390_row1_col0, #T_d4390_row2_col0, #T_d4390_row5_col0 {\n",
              "  background-color: #485fd1;\n",
              "  color: #f1f1f1;\n",
              "}\n",
              "#T_d4390_row1_col2, #T_d4390_row5_col2 {\n",
              "  background-color: #6788ee;\n",
              "  color: #f1f1f1;\n",
              "}\n",
              "#T_d4390_row1_col3 {\n",
              "  background-color: #688aef;\n",
              "  color: #f1f1f1;\n",
              "}\n",
              "#T_d4390_row1_col4, #T_d4390_row3_col7, #T_d4390_row3_col9, #T_d4390_row5_col9, #T_d4390_row7_col9, #T_d4390_row8_col4, #T_d4390_row9_col1 {\n",
              "  background-color: #3f53c6;\n",
              "  color: #f1f1f1;\n",
              "}\n",
              "#T_d4390_row1_col5 {\n",
              "  background-color: #abc8fd;\n",
              "  color: #000000;\n",
              "}\n",
              "#T_d4390_row1_col6, #T_d4390_row1_col8, #T_d4390_row4_col8, #T_d4390_row9_col8 {\n",
              "  background-color: #7a9df8;\n",
              "  color: #f1f1f1;\n",
              "}\n",
              "#T_d4390_row1_col7, #T_d4390_row1_col9, #T_d4390_row4_col9, #T_d4390_row5_col4, #T_d4390_row8_col1 {\n",
              "  background-color: #3d50c3;\n",
              "  color: #f1f1f1;\n",
              "}\n",
              "#T_d4390_row1_col10 {\n",
              "  background-color: #90b2fe;\n",
              "  color: #000000;\n",
              "}\n",
              "#T_d4390_row2_col3, #T_d4390_row2_col4, #T_d4390_row6_col4, #T_d4390_row9_col0 {\n",
              "  background-color: #445acc;\n",
              "  color: #f1f1f1;\n",
              "}\n",
              "#T_d4390_row2_col5, #T_d4390_row4_col5, #T_d4390_row8_col2 {\n",
              "  background-color: #7b9ff9;\n",
              "  color: #f1f1f1;\n",
              "}\n",
              "#T_d4390_row2_col6 {\n",
              "  background-color: #8caffe;\n",
              "  color: #000000;\n",
              "}\n",
              "#T_d4390_row2_col7, #T_d4390_row4_col7, #T_d4390_row7_col0 {\n",
              "  background-color: #4358cb;\n",
              "  color: #f1f1f1;\n",
              "}\n",
              "#T_d4390_row2_col8 {\n",
              "  background-color: #8badfd;\n",
              "  color: #000000;\n",
              "}\n",
              "#T_d4390_row2_col10 {\n",
              "  background-color: #4a63d3;\n",
              "  color: #f1f1f1;\n",
              "}\n",
              "#T_d4390_row3_col1 {\n",
              "  background-color: #4c66d6;\n",
              "  color: #f1f1f1;\n",
              "}\n",
              "#T_d4390_row3_col2 {\n",
              "  background-color: #5470de;\n",
              "  color: #f1f1f1;\n",
              "}\n",
              "#T_d4390_row3_col4, #T_d4390_row4_col1, #T_d4390_row6_col10 {\n",
              "  background-color: #3e51c5;\n",
              "  color: #f1f1f1;\n",
              "}\n",
              "#T_d4390_row3_col5 {\n",
              "  background-color: #97b8ff;\n",
              "  color: #000000;\n",
              "}\n",
              "#T_d4390_row3_col6 {\n",
              "  background-color: #5e7de7;\n",
              "  color: #f1f1f1;\n",
              "}\n",
              "#T_d4390_row3_col8, #T_d4390_row7_col2 {\n",
              "  background-color: #6c8ff1;\n",
              "  color: #f1f1f1;\n",
              "}\n",
              "#T_d4390_row3_col10 {\n",
              "  background-color: #e9d5cb;\n",
              "  color: #000000;\n",
              "}\n",
              "#T_d4390_row4_col0, #T_d4390_row6_col7, #T_d4390_row9_col7 {\n",
              "  background-color: #455cce;\n",
              "  color: #f1f1f1;\n",
              "}\n",
              "#T_d4390_row4_col10 {\n",
              "  background-color: #7597f6;\n",
              "  color: #f1f1f1;\n",
              "}\n",
              "#T_d4390_row5_col1, #T_d4390_row5_col8, #T_d4390_row7_col8, #T_d4390_row7_col10 {\n",
              "  background-color: #7396f5;\n",
              "  color: #f1f1f1;\n",
              "}\n",
              "#T_d4390_row5_col3 {\n",
              "  background-color: #7699f6;\n",
              "  color: #f1f1f1;\n",
              "}\n",
              "#T_d4390_row5_col7 {\n",
              "  background-color: #3c4ec2;\n",
              "  color: #f1f1f1;\n",
              "}\n",
              "#T_d4390_row5_col10 {\n",
              "  background-color: #aac7fd;\n",
              "  color: #000000;\n",
              "}\n",
              "#T_d4390_row6_col0 {\n",
              "  background-color: #4961d2;\n",
              "  color: #f1f1f1;\n",
              "}\n",
              "#T_d4390_row6_col2, #T_d4390_row7_col5 {\n",
              "  background-color: #799cf8;\n",
              "  color: #f1f1f1;\n",
              "}\n",
              "#T_d4390_row6_col8 {\n",
              "  background-color: #8db0fe;\n",
              "  color: #000000;\n",
              "}\n",
              "#T_d4390_row8_col0 {\n",
              "  background-color: #4b64d5;\n",
              "  color: #f1f1f1;\n",
              "}\n",
              "#T_d4390_row8_col3 {\n",
              "  background-color: #4e68d8;\n",
              "  color: #f1f1f1;\n",
              "}\n",
              "#T_d4390_row8_col5 {\n",
              "  background-color: #779af7;\n",
              "  color: #f1f1f1;\n",
              "}\n",
              "#T_d4390_row8_col6 {\n",
              "  background-color: #92b4fe;\n",
              "  color: #000000;\n",
              "}\n",
              "#T_d4390_row9_col2 {\n",
              "  background-color: #6a8bef;\n",
              "  color: #f1f1f1;\n",
              "}\n",
              "#T_d4390_row9_col3 {\n",
              "  background-color: #5f7fe8;\n",
              "  color: #f1f1f1;\n",
              "}\n",
              "#T_d4390_row9_col6 {\n",
              "  background-color: #7da0f9;\n",
              "  color: #f1f1f1;\n",
              "}\n",
              "#T_d4390_row10_col1 {\n",
              "  background-color: #5572df;\n",
              "  color: #f1f1f1;\n",
              "}\n",
              "#T_d4390_row10_col3 {\n",
              "  background-color: #dcdddd;\n",
              "  color: #000000;\n",
              "}\n",
              "#T_d4390_row10_col5 {\n",
              "  background-color: #adc9fd;\n",
              "  color: #000000;\n",
              "}\n",
              "</style>\n",
              "<table id=\"T_d4390\" class=\"dataframe\">\n",
              "  <thead>\n",
              "    <tr>\n",
              "      <th class=\"blank level0\" >&nbsp;</th>\n",
              "      <th id=\"T_d4390_level0_col0\" class=\"col_heading level0 col0\" >CreditScore</th>\n",
              "      <th id=\"T_d4390_level0_col1\" class=\"col_heading level0 col1\" >Geography</th>\n",
              "      <th id=\"T_d4390_level0_col2\" class=\"col_heading level0 col2\" >Gender</th>\n",
              "      <th id=\"T_d4390_level0_col3\" class=\"col_heading level0 col3\" >Age</th>\n",
              "      <th id=\"T_d4390_level0_col4\" class=\"col_heading level0 col4\" >Tenure</th>\n",
              "      <th id=\"T_d4390_level0_col5\" class=\"col_heading level0 col5\" >Balance</th>\n",
              "      <th id=\"T_d4390_level0_col6\" class=\"col_heading level0 col6\" >NumOfProducts</th>\n",
              "      <th id=\"T_d4390_level0_col7\" class=\"col_heading level0 col7\" >HasCrCard</th>\n",
              "      <th id=\"T_d4390_level0_col8\" class=\"col_heading level0 col8\" >IsActiveMember</th>\n",
              "      <th id=\"T_d4390_level0_col9\" class=\"col_heading level0 col9\" >EstimatedSalary</th>\n",
              "      <th id=\"T_d4390_level0_col10\" class=\"col_heading level0 col10\" >Exited</th>\n",
              "    </tr>\n",
              "  </thead>\n",
              "  <tbody>\n",
              "    <tr>\n",
              "      <th id=\"T_d4390_level0_row0\" class=\"row_heading level0 row0\" >CreditScore</th>\n",
              "      <td id=\"T_d4390_row0_col0\" class=\"data row0 col0\" >1.000000</td>\n",
              "      <td id=\"T_d4390_row0_col1\" class=\"data row0 col1\" >0.006164</td>\n",
              "      <td id=\"T_d4390_row0_col2\" class=\"data row0 col2\" >0.007600</td>\n",
              "      <td id=\"T_d4390_row0_col3\" class=\"data row0 col3\" >-0.015354</td>\n",
              "      <td id=\"T_d4390_row0_col4\" class=\"data row0 col4\" >0.000886</td>\n",
              "      <td id=\"T_d4390_row0_col5\" class=\"data row0 col5\" >0.007526</td>\n",
              "      <td id=\"T_d4390_row0_col6\" class=\"data row0 col6\" >0.013408</td>\n",
              "      <td id=\"T_d4390_row0_col7\" class=\"data row0 col7\" >-0.009202</td>\n",
              "      <td id=\"T_d4390_row0_col8\" class=\"data row0 col8\" >0.018661</td>\n",
              "      <td id=\"T_d4390_row0_col9\" class=\"data row0 col9\" >-0.006283</td>\n",
              "      <td id=\"T_d4390_row0_col10\" class=\"data row0 col10\" >-0.039181</td>\n",
              "    </tr>\n",
              "    <tr>\n",
              "      <th id=\"T_d4390_level0_row1\" class=\"row_heading level0 row1\" >Geography</th>\n",
              "      <td id=\"T_d4390_row1_col0\" class=\"data row1 col0\" >0.006164</td>\n",
              "      <td id=\"T_d4390_row1_col1\" class=\"data row1 col1\" >1.000000</td>\n",
              "      <td id=\"T_d4390_row1_col2\" class=\"data row1 col2\" >-0.017554</td>\n",
              "      <td id=\"T_d4390_row1_col3\" class=\"data row1 col3\" >0.040288</td>\n",
              "      <td id=\"T_d4390_row1_col4\" class=\"data row1 col4\" >-0.004813</td>\n",
              "      <td id=\"T_d4390_row1_col5\" class=\"data row1 col5\" >0.159470</td>\n",
              "      <td id=\"T_d4390_row1_col6\" class=\"data row1 col6\" >-0.020266</td>\n",
              "      <td id=\"T_d4390_row1_col7\" class=\"data row1 col7\" >-0.019468</td>\n",
              "      <td id=\"T_d4390_row1_col8\" class=\"data row1 col8\" >-0.009475</td>\n",
              "      <td id=\"T_d4390_row1_col9\" class=\"data row1 col9\" >-0.000540</td>\n",
              "      <td id=\"T_d4390_row1_col10\" class=\"data row1 col10\" >0.070886</td>\n",
              "    </tr>\n",
              "    <tr>\n",
              "      <th id=\"T_d4390_level0_row2\" class=\"row_heading level0 row2\" >Gender</th>\n",
              "      <td id=\"T_d4390_row2_col0\" class=\"data row2 col0\" >0.007600</td>\n",
              "      <td id=\"T_d4390_row2_col1\" class=\"data row2 col1\" >-0.017554</td>\n",
              "      <td id=\"T_d4390_row2_col2\" class=\"data row2 col2\" >1.000000</td>\n",
              "      <td id=\"T_d4390_row2_col3\" class=\"data row2 col3\" >-0.089786</td>\n",
              "      <td id=\"T_d4390_row2_col4\" class=\"data row2 col4\" >0.008831</td>\n",
              "      <td id=\"T_d4390_row2_col5\" class=\"data row2 col5\" >-0.018352</td>\n",
              "      <td id=\"T_d4390_row2_col6\" class=\"data row2 col6\" >0.041686</td>\n",
              "      <td id=\"T_d4390_row2_col7\" class=\"data row2 col7\" >0.001566</td>\n",
              "      <td id=\"T_d4390_row2_col8\" class=\"data row2 col8\" >0.051850</td>\n",
              "      <td id=\"T_d4390_row2_col9\" class=\"data row2 col9\" >-0.010212</td>\n",
              "      <td id=\"T_d4390_row2_col10\" class=\"data row2 col10\" >-0.188819</td>\n",
              "    </tr>\n",
              "    <tr>\n",
              "      <th id=\"T_d4390_level0_row3\" class=\"row_heading level0 row3\" >Age</th>\n",
              "      <td id=\"T_d4390_row3_col0\" class=\"data row3 col0\" >-0.015354</td>\n",
              "      <td id=\"T_d4390_row3_col1\" class=\"data row3 col1\" >0.040288</td>\n",
              "      <td id=\"T_d4390_row3_col2\" class=\"data row3 col2\" >-0.089786</td>\n",
              "      <td id=\"T_d4390_row3_col3\" class=\"data row3 col3\" >1.000000</td>\n",
              "      <td id=\"T_d4390_row3_col4\" class=\"data row3 col4\" >-0.011143</td>\n",
              "      <td id=\"T_d4390_row3_col5\" class=\"data row3 col5\" >0.081257</td>\n",
              "      <td id=\"T_d4390_row3_col6\" class=\"data row3 col6\" >-0.125446</td>\n",
              "      <td id=\"T_d4390_row3_col7\" class=\"data row3 col7\" >-0.012668</td>\n",
              "      <td id=\"T_d4390_row3_col8\" class=\"data row3 col8\" >-0.053827</td>\n",
              "      <td id=\"T_d4390_row3_col9\" class=\"data row3 col9\" >0.008791</td>\n",
              "      <td id=\"T_d4390_row3_col10\" class=\"data row3 col10\" >0.433740</td>\n",
              "    </tr>\n",
              "    <tr>\n",
              "      <th id=\"T_d4390_level0_row4\" class=\"row_heading level0 row4\" >Tenure</th>\n",
              "      <td id=\"T_d4390_row4_col0\" class=\"data row4 col0\" >0.000886</td>\n",
              "      <td id=\"T_d4390_row4_col1\" class=\"data row4 col1\" >-0.004813</td>\n",
              "      <td id=\"T_d4390_row4_col2\" class=\"data row4 col2\" >0.008831</td>\n",
              "      <td id=\"T_d4390_row4_col3\" class=\"data row4 col3\" >-0.011143</td>\n",
              "      <td id=\"T_d4390_row4_col4\" class=\"data row4 col4\" >1.000000</td>\n",
              "      <td id=\"T_d4390_row4_col5\" class=\"data row4 col5\" >-0.014865</td>\n",
              "      <td id=\"T_d4390_row4_col6\" class=\"data row4 col6\" >0.011082</td>\n",
              "      <td id=\"T_d4390_row4_col7\" class=\"data row4 col7\" >-0.000523</td>\n",
              "      <td id=\"T_d4390_row4_col8\" class=\"data row4 col8\" >-0.004815</td>\n",
              "      <td id=\"T_d4390_row4_col9\" class=\"data row4 col9\" >0.000804</td>\n",
              "      <td id=\"T_d4390_row4_col10\" class=\"data row4 col10\" >-0.024811</td>\n",
              "    </tr>\n",
              "    <tr>\n",
              "      <th id=\"T_d4390_level0_row5\" class=\"row_heading level0 row5\" >Balance</th>\n",
              "      <td id=\"T_d4390_row5_col0\" class=\"data row5 col0\" >0.007526</td>\n",
              "      <td id=\"T_d4390_row5_col1\" class=\"data row5 col1\" >0.159470</td>\n",
              "      <td id=\"T_d4390_row5_col2\" class=\"data row5 col2\" >-0.018352</td>\n",
              "      <td id=\"T_d4390_row5_col3\" class=\"data row5 col3\" >0.081257</td>\n",
              "      <td id=\"T_d4390_row5_col4\" class=\"data row5 col4\" >-0.014865</td>\n",
              "      <td id=\"T_d4390_row5_col5\" class=\"data row5 col5\" >1.000000</td>\n",
              "      <td id=\"T_d4390_row5_col6\" class=\"data row5 col6\" >-0.272142</td>\n",
              "      <td id=\"T_d4390_row5_col7\" class=\"data row5 col7\" >-0.023905</td>\n",
              "      <td id=\"T_d4390_row5_col8\" class=\"data row5 col8\" >-0.031674</td>\n",
              "      <td id=\"T_d4390_row5_col9\" class=\"data row5 col9\" >0.006881</td>\n",
              "      <td id=\"T_d4390_row5_col10\" class=\"data row5 col10\" >0.163324</td>\n",
              "    </tr>\n",
              "    <tr>\n",
              "      <th id=\"T_d4390_level0_row6\" class=\"row_heading level0 row6\" >NumOfProducts</th>\n",
              "      <td id=\"T_d4390_row6_col0\" class=\"data row6 col0\" >0.013408</td>\n",
              "      <td id=\"T_d4390_row6_col1\" class=\"data row6 col1\" >-0.020266</td>\n",
              "      <td id=\"T_d4390_row6_col2\" class=\"data row6 col2\" >0.041686</td>\n",
              "      <td id=\"T_d4390_row6_col3\" class=\"data row6 col3\" >-0.125446</td>\n",
              "      <td id=\"T_d4390_row6_col4\" class=\"data row6 col4\" >0.011082</td>\n",
              "      <td id=\"T_d4390_row6_col5\" class=\"data row6 col5\" >-0.272142</td>\n",
              "      <td id=\"T_d4390_row6_col6\" class=\"data row6 col6\" >1.000000</td>\n",
              "      <td id=\"T_d4390_row6_col7\" class=\"data row6 col7\" >0.006484</td>\n",
              "      <td id=\"T_d4390_row6_col8\" class=\"data row6 col8\" >0.062865</td>\n",
              "      <td id=\"T_d4390_row6_col9\" class=\"data row6 col9\" >-0.009303</td>\n",
              "      <td id=\"T_d4390_row6_col10\" class=\"data row6 col10\" >-0.239716</td>\n",
              "    </tr>\n",
              "    <tr>\n",
              "      <th id=\"T_d4390_level0_row7\" class=\"row_heading level0 row7\" >HasCrCard</th>\n",
              "      <td id=\"T_d4390_row7_col0\" class=\"data row7 col0\" >-0.009202</td>\n",
              "      <td id=\"T_d4390_row7_col1\" class=\"data row7 col1\" >-0.019468</td>\n",
              "      <td id=\"T_d4390_row7_col2\" class=\"data row7 col2\" >0.001566</td>\n",
              "      <td id=\"T_d4390_row7_col3\" class=\"data row7 col3\" >-0.012668</td>\n",
              "      <td id=\"T_d4390_row7_col4\" class=\"data row7 col4\" >-0.000523</td>\n",
              "      <td id=\"T_d4390_row7_col5\" class=\"data row7 col5\" >-0.023905</td>\n",
              "      <td id=\"T_d4390_row7_col6\" class=\"data row7 col6\" >0.006484</td>\n",
              "      <td id=\"T_d4390_row7_col7\" class=\"data row7 col7\" >1.000000</td>\n",
              "      <td id=\"T_d4390_row7_col8\" class=\"data row7 col8\" >-0.029736</td>\n",
              "      <td id=\"T_d4390_row7_col9\" class=\"data row7 col9\" >0.009048</td>\n",
              "      <td id=\"T_d4390_row7_col10\" class=\"data row7 col10\" >-0.030249</td>\n",
              "    </tr>\n",
              "    <tr>\n",
              "      <th id=\"T_d4390_level0_row8\" class=\"row_heading level0 row8\" >IsActiveMember</th>\n",
              "      <td id=\"T_d4390_row8_col0\" class=\"data row8 col0\" >0.018661</td>\n",
              "      <td id=\"T_d4390_row8_col1\" class=\"data row8 col1\" >-0.009475</td>\n",
              "      <td id=\"T_d4390_row8_col2\" class=\"data row8 col2\" >0.051850</td>\n",
              "      <td id=\"T_d4390_row8_col3\" class=\"data row8 col3\" >-0.053827</td>\n",
              "      <td id=\"T_d4390_row8_col4\" class=\"data row8 col4\" >-0.004815</td>\n",
              "      <td id=\"T_d4390_row8_col5\" class=\"data row8 col5\" >-0.031674</td>\n",
              "      <td id=\"T_d4390_row8_col6\" class=\"data row8 col6\" >0.062865</td>\n",
              "      <td id=\"T_d4390_row8_col7\" class=\"data row8 col7\" >-0.029736</td>\n",
              "      <td id=\"T_d4390_row8_col8\" class=\"data row8 col8\" >1.000000</td>\n",
              "      <td id=\"T_d4390_row8_col9\" class=\"data row8 col9\" >-0.008645</td>\n",
              "      <td id=\"T_d4390_row8_col10\" class=\"data row8 col10\" >-0.254774</td>\n",
              "    </tr>\n",
              "    <tr>\n",
              "      <th id=\"T_d4390_level0_row9\" class=\"row_heading level0 row9\" >EstimatedSalary</th>\n",
              "      <td id=\"T_d4390_row9_col0\" class=\"data row9 col0\" >-0.006283</td>\n",
              "      <td id=\"T_d4390_row9_col1\" class=\"data row9 col1\" >-0.000540</td>\n",
              "      <td id=\"T_d4390_row9_col2\" class=\"data row9 col2\" >-0.010212</td>\n",
              "      <td id=\"T_d4390_row9_col3\" class=\"data row9 col3\" >0.008791</td>\n",
              "      <td id=\"T_d4390_row9_col4\" class=\"data row9 col4\" >0.000804</td>\n",
              "      <td id=\"T_d4390_row9_col5\" class=\"data row9 col5\" >0.006881</td>\n",
              "      <td id=\"T_d4390_row9_col6\" class=\"data row9 col6\" >-0.009303</td>\n",
              "      <td id=\"T_d4390_row9_col7\" class=\"data row9 col7\" >0.009048</td>\n",
              "      <td id=\"T_d4390_row9_col8\" class=\"data row9 col8\" >-0.008645</td>\n",
              "      <td id=\"T_d4390_row9_col9\" class=\"data row9 col9\" >1.000000</td>\n",
              "      <td id=\"T_d4390_row9_col10\" class=\"data row9 col10\" >0.016151</td>\n",
              "    </tr>\n",
              "    <tr>\n",
              "      <th id=\"T_d4390_level0_row10\" class=\"row_heading level0 row10\" >Exited</th>\n",
              "      <td id=\"T_d4390_row10_col0\" class=\"data row10 col0\" >-0.039181</td>\n",
              "      <td id=\"T_d4390_row10_col1\" class=\"data row10 col1\" >0.070886</td>\n",
              "      <td id=\"T_d4390_row10_col2\" class=\"data row10 col2\" >-0.188819</td>\n",
              "      <td id=\"T_d4390_row10_col3\" class=\"data row10 col3\" >0.433740</td>\n",
              "      <td id=\"T_d4390_row10_col4\" class=\"data row10 col4\" >-0.024811</td>\n",
              "      <td id=\"T_d4390_row10_col5\" class=\"data row10 col5\" >0.163324</td>\n",
              "      <td id=\"T_d4390_row10_col6\" class=\"data row10 col6\" >-0.239716</td>\n",
              "      <td id=\"T_d4390_row10_col7\" class=\"data row10 col7\" >-0.030249</td>\n",
              "      <td id=\"T_d4390_row10_col8\" class=\"data row10 col8\" >-0.254774</td>\n",
              "      <td id=\"T_d4390_row10_col9\" class=\"data row10 col9\" >0.016151</td>\n",
              "      <td id=\"T_d4390_row10_col10\" class=\"data row10 col10\" >1.000000</td>\n",
              "    </tr>\n",
              "  </tbody>\n",
              "</table>\n"
            ]
          },
          "metadata": {},
          "execution_count": 54
        }
      ],
      "source": [
        "corr = train.corr()\n",
        "corr.style.background_gradient(cmap='coolwarm')"
      ]
    },
    {
      "cell_type": "code",
      "execution_count": null,
      "metadata": {
        "colab": {
          "base_uri": "https://localhost:8080/",
          "height": 206
        },
        "id": "5986VxbdGhbf",
        "outputId": "aa804312-9e54-4c87-9302-a91f973d73c1"
      },
      "outputs": [
        {
          "output_type": "execute_result",
          "data": {
            "text/plain": [
              "        CreditScore  Geography  Gender   Age  Tenure    Balance  \\\n",
              "138625          718          1       0  35.0       9  133871.05   \n",
              "45413           663          0       0  43.0       5       0.00   \n",
              "2254            474          0       0  40.0       4       0.00   \n",
              "1757            523          1       0  39.0       1  143903.11   \n",
              "64306           718          0       0  51.0       5  109109.33   \n",
              "\n",
              "        NumOfProducts  HasCrCard  IsActiveMember  EstimatedSalary  Exited  \n",
              "138625              2        0.0             0.0         15360.91       1  \n",
              "45413               2        1.0             1.0        153536.24       0  \n",
              "2254                2        1.0             0.0        103726.71       0  \n",
              "1757                1        1.0             1.0        118711.75       1  \n",
              "64306               3        1.0             0.0        108528.56       1  "
            ],
            "text/html": [
              "\n",
              "  <div id=\"df-302c7fd1-b8b8-424c-b70e-76d10f82027c\" class=\"colab-df-container\">\n",
              "    <div>\n",
              "<style scoped>\n",
              "    .dataframe tbody tr th:only-of-type {\n",
              "        vertical-align: middle;\n",
              "    }\n",
              "\n",
              "    .dataframe tbody tr th {\n",
              "        vertical-align: top;\n",
              "    }\n",
              "\n",
              "    .dataframe thead th {\n",
              "        text-align: right;\n",
              "    }\n",
              "</style>\n",
              "<table border=\"1\" class=\"dataframe\">\n",
              "  <thead>\n",
              "    <tr style=\"text-align: right;\">\n",
              "      <th></th>\n",
              "      <th>CreditScore</th>\n",
              "      <th>Geography</th>\n",
              "      <th>Gender</th>\n",
              "      <th>Age</th>\n",
              "      <th>Tenure</th>\n",
              "      <th>Balance</th>\n",
              "      <th>NumOfProducts</th>\n",
              "      <th>HasCrCard</th>\n",
              "      <th>IsActiveMember</th>\n",
              "      <th>EstimatedSalary</th>\n",
              "      <th>Exited</th>\n",
              "    </tr>\n",
              "  </thead>\n",
              "  <tbody>\n",
              "    <tr>\n",
              "      <th>138625</th>\n",
              "      <td>718</td>\n",
              "      <td>1</td>\n",
              "      <td>0</td>\n",
              "      <td>35.0</td>\n",
              "      <td>9</td>\n",
              "      <td>133871.05</td>\n",
              "      <td>2</td>\n",
              "      <td>0.0</td>\n",
              "      <td>0.0</td>\n",
              "      <td>15360.91</td>\n",
              "      <td>1</td>\n",
              "    </tr>\n",
              "    <tr>\n",
              "      <th>45413</th>\n",
              "      <td>663</td>\n",
              "      <td>0</td>\n",
              "      <td>0</td>\n",
              "      <td>43.0</td>\n",
              "      <td>5</td>\n",
              "      <td>0.00</td>\n",
              "      <td>2</td>\n",
              "      <td>1.0</td>\n",
              "      <td>1.0</td>\n",
              "      <td>153536.24</td>\n",
              "      <td>0</td>\n",
              "    </tr>\n",
              "    <tr>\n",
              "      <th>2254</th>\n",
              "      <td>474</td>\n",
              "      <td>0</td>\n",
              "      <td>0</td>\n",
              "      <td>40.0</td>\n",
              "      <td>4</td>\n",
              "      <td>0.00</td>\n",
              "      <td>2</td>\n",
              "      <td>1.0</td>\n",
              "      <td>0.0</td>\n",
              "      <td>103726.71</td>\n",
              "      <td>0</td>\n",
              "    </tr>\n",
              "    <tr>\n",
              "      <th>1757</th>\n",
              "      <td>523</td>\n",
              "      <td>1</td>\n",
              "      <td>0</td>\n",
              "      <td>39.0</td>\n",
              "      <td>1</td>\n",
              "      <td>143903.11</td>\n",
              "      <td>1</td>\n",
              "      <td>1.0</td>\n",
              "      <td>1.0</td>\n",
              "      <td>118711.75</td>\n",
              "      <td>1</td>\n",
              "    </tr>\n",
              "    <tr>\n",
              "      <th>64306</th>\n",
              "      <td>718</td>\n",
              "      <td>0</td>\n",
              "      <td>0</td>\n",
              "      <td>51.0</td>\n",
              "      <td>5</td>\n",
              "      <td>109109.33</td>\n",
              "      <td>3</td>\n",
              "      <td>1.0</td>\n",
              "      <td>0.0</td>\n",
              "      <td>108528.56</td>\n",
              "      <td>1</td>\n",
              "    </tr>\n",
              "  </tbody>\n",
              "</table>\n",
              "</div>\n",
              "    <div class=\"colab-df-buttons\">\n",
              "\n",
              "  <div class=\"colab-df-container\">\n",
              "    <button class=\"colab-df-convert\" onclick=\"convertToInteractive('df-302c7fd1-b8b8-424c-b70e-76d10f82027c')\"\n",
              "            title=\"Convert this dataframe to an interactive table.\"\n",
              "            style=\"display:none;\">\n",
              "\n",
              "  <svg xmlns=\"http://www.w3.org/2000/svg\" height=\"24px\" viewBox=\"0 -960 960 960\">\n",
              "    <path d=\"M120-120v-720h720v720H120Zm60-500h600v-160H180v160Zm220 220h160v-160H400v160Zm0 220h160v-160H400v160ZM180-400h160v-160H180v160Zm440 0h160v-160H620v160ZM180-180h160v-160H180v160Zm440 0h160v-160H620v160Z\"/>\n",
              "  </svg>\n",
              "    </button>\n",
              "\n",
              "  <style>\n",
              "    .colab-df-container {\n",
              "      display:flex;\n",
              "      gap: 12px;\n",
              "    }\n",
              "\n",
              "    .colab-df-convert {\n",
              "      background-color: #E8F0FE;\n",
              "      border: none;\n",
              "      border-radius: 50%;\n",
              "      cursor: pointer;\n",
              "      display: none;\n",
              "      fill: #1967D2;\n",
              "      height: 32px;\n",
              "      padding: 0 0 0 0;\n",
              "      width: 32px;\n",
              "    }\n",
              "\n",
              "    .colab-df-convert:hover {\n",
              "      background-color: #E2EBFA;\n",
              "      box-shadow: 0px 1px 2px rgba(60, 64, 67, 0.3), 0px 1px 3px 1px rgba(60, 64, 67, 0.15);\n",
              "      fill: #174EA6;\n",
              "    }\n",
              "\n",
              "    .colab-df-buttons div {\n",
              "      margin-bottom: 4px;\n",
              "    }\n",
              "\n",
              "    [theme=dark] .colab-df-convert {\n",
              "      background-color: #3B4455;\n",
              "      fill: #D2E3FC;\n",
              "    }\n",
              "\n",
              "    [theme=dark] .colab-df-convert:hover {\n",
              "      background-color: #434B5C;\n",
              "      box-shadow: 0px 1px 3px 1px rgba(0, 0, 0, 0.15);\n",
              "      filter: drop-shadow(0px 1px 2px rgba(0, 0, 0, 0.3));\n",
              "      fill: #FFFFFF;\n",
              "    }\n",
              "  </style>\n",
              "\n",
              "    <script>\n",
              "      const buttonEl =\n",
              "        document.querySelector('#df-302c7fd1-b8b8-424c-b70e-76d10f82027c button.colab-df-convert');\n",
              "      buttonEl.style.display =\n",
              "        google.colab.kernel.accessAllowed ? 'block' : 'none';\n",
              "\n",
              "      async function convertToInteractive(key) {\n",
              "        const element = document.querySelector('#df-302c7fd1-b8b8-424c-b70e-76d10f82027c');\n",
              "        const dataTable =\n",
              "          await google.colab.kernel.invokeFunction('convertToInteractive',\n",
              "                                                    [key], {});\n",
              "        if (!dataTable) return;\n",
              "\n",
              "        const docLinkHtml = 'Like what you see? Visit the ' +\n",
              "          '<a target=\"_blank\" href=https://colab.research.google.com/notebooks/data_table.ipynb>data table notebook</a>'\n",
              "          + ' to learn more about interactive tables.';\n",
              "        element.innerHTML = '';\n",
              "        dataTable['output_type'] = 'display_data';\n",
              "        await google.colab.output.renderOutput(dataTable, element);\n",
              "        const docLink = document.createElement('div');\n",
              "        docLink.innerHTML = docLinkHtml;\n",
              "        element.appendChild(docLink);\n",
              "      }\n",
              "    </script>\n",
              "  </div>\n",
              "\n",
              "\n",
              "<div id=\"df-a1fd6328-f2b8-4e0d-90b3-4da8924ca14a\">\n",
              "  <button class=\"colab-df-quickchart\" onclick=\"quickchart('df-a1fd6328-f2b8-4e0d-90b3-4da8924ca14a')\"\n",
              "            title=\"Suggest charts\"\n",
              "            style=\"display:none;\">\n",
              "\n",
              "<svg xmlns=\"http://www.w3.org/2000/svg\" height=\"24px\"viewBox=\"0 0 24 24\"\n",
              "     width=\"24px\">\n",
              "    <g>\n",
              "        <path d=\"M19 3H5c-1.1 0-2 .9-2 2v14c0 1.1.9 2 2 2h14c1.1 0 2-.9 2-2V5c0-1.1-.9-2-2-2zM9 17H7v-7h2v7zm4 0h-2V7h2v10zm4 0h-2v-4h2v4z\"/>\n",
              "    </g>\n",
              "</svg>\n",
              "  </button>\n",
              "\n",
              "<style>\n",
              "  .colab-df-quickchart {\n",
              "      --bg-color: #E8F0FE;\n",
              "      --fill-color: #1967D2;\n",
              "      --hover-bg-color: #E2EBFA;\n",
              "      --hover-fill-color: #174EA6;\n",
              "      --disabled-fill-color: #AAA;\n",
              "      --disabled-bg-color: #DDD;\n",
              "  }\n",
              "\n",
              "  [theme=dark] .colab-df-quickchart {\n",
              "      --bg-color: #3B4455;\n",
              "      --fill-color: #D2E3FC;\n",
              "      --hover-bg-color: #434B5C;\n",
              "      --hover-fill-color: #FFFFFF;\n",
              "      --disabled-bg-color: #3B4455;\n",
              "      --disabled-fill-color: #666;\n",
              "  }\n",
              "\n",
              "  .colab-df-quickchart {\n",
              "    background-color: var(--bg-color);\n",
              "    border: none;\n",
              "    border-radius: 50%;\n",
              "    cursor: pointer;\n",
              "    display: none;\n",
              "    fill: var(--fill-color);\n",
              "    height: 32px;\n",
              "    padding: 0;\n",
              "    width: 32px;\n",
              "  }\n",
              "\n",
              "  .colab-df-quickchart:hover {\n",
              "    background-color: var(--hover-bg-color);\n",
              "    box-shadow: 0 1px 2px rgba(60, 64, 67, 0.3), 0 1px 3px 1px rgba(60, 64, 67, 0.15);\n",
              "    fill: var(--button-hover-fill-color);\n",
              "  }\n",
              "\n",
              "  .colab-df-quickchart-complete:disabled,\n",
              "  .colab-df-quickchart-complete:disabled:hover {\n",
              "    background-color: var(--disabled-bg-color);\n",
              "    fill: var(--disabled-fill-color);\n",
              "    box-shadow: none;\n",
              "  }\n",
              "\n",
              "  .colab-df-spinner {\n",
              "    border: 2px solid var(--fill-color);\n",
              "    border-color: transparent;\n",
              "    border-bottom-color: var(--fill-color);\n",
              "    animation:\n",
              "      spin 1s steps(1) infinite;\n",
              "  }\n",
              "\n",
              "  @keyframes spin {\n",
              "    0% {\n",
              "      border-color: transparent;\n",
              "      border-bottom-color: var(--fill-color);\n",
              "      border-left-color: var(--fill-color);\n",
              "    }\n",
              "    20% {\n",
              "      border-color: transparent;\n",
              "      border-left-color: var(--fill-color);\n",
              "      border-top-color: var(--fill-color);\n",
              "    }\n",
              "    30% {\n",
              "      border-color: transparent;\n",
              "      border-left-color: var(--fill-color);\n",
              "      border-top-color: var(--fill-color);\n",
              "      border-right-color: var(--fill-color);\n",
              "    }\n",
              "    40% {\n",
              "      border-color: transparent;\n",
              "      border-right-color: var(--fill-color);\n",
              "      border-top-color: var(--fill-color);\n",
              "    }\n",
              "    60% {\n",
              "      border-color: transparent;\n",
              "      border-right-color: var(--fill-color);\n",
              "    }\n",
              "    80% {\n",
              "      border-color: transparent;\n",
              "      border-right-color: var(--fill-color);\n",
              "      border-bottom-color: var(--fill-color);\n",
              "    }\n",
              "    90% {\n",
              "      border-color: transparent;\n",
              "      border-bottom-color: var(--fill-color);\n",
              "    }\n",
              "  }\n",
              "</style>\n",
              "\n",
              "  <script>\n",
              "    async function quickchart(key) {\n",
              "      const quickchartButtonEl =\n",
              "        document.querySelector('#' + key + ' button');\n",
              "      quickchartButtonEl.disabled = true;  // To prevent multiple clicks.\n",
              "      quickchartButtonEl.classList.add('colab-df-spinner');\n",
              "      try {\n",
              "        const charts = await google.colab.kernel.invokeFunction(\n",
              "            'suggestCharts', [key], {});\n",
              "      } catch (error) {\n",
              "        console.error('Error during call to suggestCharts:', error);\n",
              "      }\n",
              "      quickchartButtonEl.classList.remove('colab-df-spinner');\n",
              "      quickchartButtonEl.classList.add('colab-df-quickchart-complete');\n",
              "    }\n",
              "    (() => {\n",
              "      let quickchartButtonEl =\n",
              "        document.querySelector('#df-a1fd6328-f2b8-4e0d-90b3-4da8924ca14a button');\n",
              "      quickchartButtonEl.style.display =\n",
              "        google.colab.kernel.accessAllowed ? 'block' : 'none';\n",
              "    })();\n",
              "  </script>\n",
              "</div>\n",
              "\n",
              "    </div>\n",
              "  </div>\n"
            ],
            "application/vnd.google.colaboratory.intrinsic+json": {
              "type": "dataframe",
              "variable_name": "train",
              "summary": "{\n  \"name\": \"train\",\n  \"rows\": 71065,\n  \"fields\": [\n    {\n      \"column\": \"CreditScore\",\n      \"properties\": {\n        \"dtype\": \"number\",\n        \"std\": 79,\n        \"min\": 350,\n        \"max\": 850,\n        \"num_unique_values\": 455,\n        \"samples\": [\n          580,\n          725,\n          843\n        ],\n        \"semantic_type\": \"\",\n        \"description\": \"\"\n      }\n    },\n    {\n      \"column\": \"Geography\",\n      \"properties\": {\n        \"dtype\": \"int8\",\n        \"num_unique_values\": 3,\n        \"samples\": [\n          1,\n          0,\n          2\n        ],\n        \"semantic_type\": \"\",\n        \"description\": \"\"\n      }\n    },\n    {\n      \"column\": \"Gender\",\n      \"properties\": {\n        \"dtype\": \"int8\",\n        \"num_unique_values\": 2,\n        \"samples\": [\n          1,\n          0\n        ],\n        \"semantic_type\": \"\",\n        \"description\": \"\"\n      }\n    },\n    {\n      \"column\": \"Age\",\n      \"properties\": {\n        \"dtype\": \"number\",\n        \"std\": 9.185933595812173,\n        \"min\": 18.0,\n        \"max\": 92.0,\n        \"num_unique_values\": 68,\n        \"samples\": [\n          67.0,\n          56.0\n        ],\n        \"semantic_type\": \"\",\n        \"description\": \"\"\n      }\n    },\n    {\n      \"column\": \"Tenure\",\n      \"properties\": {\n        \"dtype\": \"number\",\n        \"std\": 2,\n        \"min\": 0,\n        \"max\": 10,\n        \"num_unique_values\": 11,\n        \"samples\": [\n          6,\n          9\n        ],\n        \"semantic_type\": \"\",\n        \"description\": \"\"\n      }\n    },\n    {\n      \"column\": \"Balance\",\n      \"properties\": {\n        \"dtype\": \"number\",\n        \"std\": 63215.103721111256,\n        \"min\": 0.0,\n        \"max\": 250898.09,\n        \"num_unique_values\": 17819,\n        \"samples\": [\n          117899.24,\n          109472.81\n        ],\n        \"semantic_type\": \"\",\n        \"description\": \"\"\n      }\n    },\n    {\n      \"column\": \"NumOfProducts\",\n      \"properties\": {\n        \"dtype\": \"number\",\n        \"std\": 0,\n        \"min\": 1,\n        \"max\": 4,\n        \"num_unique_values\": 4,\n        \"samples\": [\n          1,\n          4\n        ],\n        \"semantic_type\": \"\",\n        \"description\": \"\"\n      }\n    },\n    {\n      \"column\": \"HasCrCard\",\n      \"properties\": {\n        \"dtype\": \"number\",\n        \"std\": 0.4285028478080639,\n        \"min\": 0.0,\n        \"max\": 1.0,\n        \"num_unique_values\": 2,\n        \"samples\": [\n          1.0,\n          0.0\n        ],\n        \"semantic_type\": \"\",\n        \"description\": \"\"\n      }\n    },\n    {\n      \"column\": \"IsActiveMember\",\n      \"properties\": {\n        \"dtype\": \"number\",\n        \"std\": 0.4967956619492417,\n        \"min\": 0.0,\n        \"max\": 1.0,\n        \"num_unique_values\": 2,\n        \"samples\": [\n          1.0,\n          0.0\n        ],\n        \"semantic_type\": \"\",\n        \"description\": \"\"\n      }\n    },\n    {\n      \"column\": \"EstimatedSalary\",\n      \"properties\": {\n        \"dtype\": \"number\",\n        \"std\": 49613.67918613483,\n        \"min\": 11.58,\n        \"max\": 199992.48,\n        \"num_unique_values\": 31157,\n        \"samples\": [\n          60906.72,\n          77502.56\n        ],\n        \"semantic_type\": \"\",\n        \"description\": \"\"\n      }\n    },\n    {\n      \"column\": \"Exited\",\n      \"properties\": {\n        \"dtype\": \"number\",\n        \"std\": 0,\n        \"min\": 0,\n        \"max\": 1,\n        \"num_unique_values\": 2,\n        \"samples\": [\n          0,\n          1\n        ],\n        \"semantic_type\": \"\",\n        \"description\": \"\"\n      }\n    }\n  ]\n}"
            }
          },
          "metadata": {},
          "execution_count": 55
        }
      ],
      "source": [
        "train.head()"
      ]
    },
    {
      "cell_type": "code",
      "execution_count": null,
      "metadata": {
        "colab": {
          "base_uri": "https://localhost:8080/",
          "height": 447
        },
        "id": "MY0yRBJNGkvH",
        "outputId": "ca6ae1d3-b08c-4a69-ed0e-5754c57a0837"
      },
      "outputs": [
        {
          "output_type": "execute_result",
          "data": {
            "text/plain": [
              "[<matplotlib.lines.Line2D at 0x7a44cb00a530>]"
            ]
          },
          "metadata": {},
          "execution_count": 56
        },
        {
          "output_type": "display_data",
          "data": {
            "text/plain": [
              "<Figure size 640x480 with 1 Axes>"
            ],
            "image/png": "[encoded data removed]"
          },
          "metadata": {}
        }
      ],
      "source": [
        "plt.plot(X[\"Balance\"].sort_values().reset_index(drop=True))"
      ]
    },
    {
      "cell_type": "markdown",
      "metadata": {
        "id": "aYd6BaLrocUG"
      },
      "source": [
        "# **Fine Tune**"
      ]
    },
    {
      "cell_type": "code",
      "execution_count": null,
      "metadata": {
        "id": "7iEx87QWoCC7"
      },
      "outputs": [],
      "source": [
        "def optimize(param,param_names,X,y):\n",
        "  params = dict(zip(param_names,param))\n",
        "  params[\"verbose\"] = False\n",
        "  params[\"task_type\"]=\"GPU\"\n",
        "  model = CatBoostClassifier(**params)\n",
        "  kf = model_selection.KFold(n_splits=5)\n",
        "  scores = []\n",
        "  for idx in kf.split(X=X,y=y):\n",
        "    train_idx,test_idx = idx[0],idx[1]\n",
        "    X_train,X_test = X.iloc[train_idx],X.iloc[test_idx]\n",
        "    y_train,y_test = y.iloc[train_idx],y.iloc[test_idx]\n",
        "    train_pool = Pool(X_train,y_train)\n",
        "    test_pool = Pool(X_test,y_test)\n",
        "    model.fit(train_pool)\n",
        "    (fpr, tpr, thresholds) = utils.get_roc_curve(model,test_pool,plot=False)\n",
        "    score = auc(fpr,tpr)\n",
        "    scores.append(score)\n",
        "  return -1.0 * np.mean(scores)"
      ]
    },
    {
      "cell_type": "code",
      "execution_count": null,
      "metadata": {
        "id": "hsU1NEq3oH_f"
      },
      "outputs": [],
      "source": [
        "params_space = [\n",
        "    space.Integer(50,300,name='iterations'),\n",
        "    space.Real(0.1,0.4,prior=\"uniform\",name='learning_rate'),\n",
        "    space.Integer(150,300,name=\"leaf_estimation_iterations\"),\n",
        "    space.Integer(5,14,name=\"depth\"),\n",
        "    space.Categorical([\"Logloss\"],name=\"loss_function\")\n",
        "]\n",
        "param_names=['iterations','learning_rate','leaf_estimation_iterations','depth','loss_function']"
      ]
    },
    {
      "cell_type": "code",
      "execution_count": null,
      "metadata": {
        "id": "6xutEV8aoQJK"
      },
      "outputs": [],
      "source": [
        "optimization_function = partial(optimize,param_names=param_names,X=X,y=y)"
      ]
    },
    {
      "cell_type": "code",
      "execution_count": null,
      "metadata": {
        "colab": {
          "base_uri": "https://localhost:8080/"
        },
        "id": "rmQtl-f4o09u",
        "outputId": "cb610994-36e7-4728-9f4c-4c073c2503df"
      },
      "outputs": [
        {
          "output_type": "stream",
          "name": "stdout",
          "text": [
            "Iteration No: 1 started. Evaluating function at random point.\n",
            "Iteration No: 1 ended. Evaluation done at random point.\n",
            "Time taken: 98.5141\n",
            "Function value obtained: -0.8978\n",
            "Current minimum: -0.8978\n",
            "Iteration No: 2 started. Evaluating function at random point.\n",
            "Iteration No: 2 ended. Evaluation done at random point.\n",
            "Time taken: 17.9522\n",
            "Function value obtained: -0.9016\n",
            "Current minimum: -0.9016\n",
            "Iteration No: 3 started. Evaluating function at random point.\n",
            "Iteration No: 3 ended. Evaluation done at random point.\n",
            "Time taken: 179.9038\n",
            "Function value obtained: -0.8911\n",
            "Current minimum: -0.9016\n",
            "Iteration No: 4 started. Evaluating function at random point.\n",
            "Iteration No: 4 ended. Evaluation done at random point.\n",
            "Time taken: 234.3339\n",
            "Function value obtained: -0.8895\n",
            "Current minimum: -0.9016\n",
            "Iteration No: 5 started. Evaluating function at random point.\n",
            "Iteration No: 5 ended. Evaluation done at random point.\n",
            "Time taken: 12.1689\n",
            "Function value obtained: -0.9009\n",
            "Current minimum: -0.9016\n",
            "Iteration No: 6 started. Evaluating function at random point.\n",
            "Iteration No: 6 ended. Evaluation done at random point.\n",
            "Time taken: 1247.4667\n",
            "Function value obtained: -0.8833\n",
            "Current minimum: -0.9016\n",
            "Iteration No: 7 started. Evaluating function at random point.\n",
            "Iteration No: 7 ended. Evaluation done at random point.\n",
            "Time taken: 162.3018\n",
            "Function value obtained: -0.9000\n",
            "Current minimum: -0.9016\n",
            "Iteration No: 8 started. Evaluating function at random point.\n",
            "Iteration No: 8 ended. Evaluation done at random point.\n",
            "Time taken: 34.1004\n",
            "Function value obtained: -0.8985\n",
            "Current minimum: -0.9016\n",
            "Iteration No: 9 started. Evaluating function at random point.\n",
            "Iteration No: 9 ended. Evaluation done at random point.\n",
            "Time taken: 1021.6119\n",
            "Function value obtained: -0.8811\n",
            "Current minimum: -0.9016\n",
            "Iteration No: 10 started. Evaluating function at random point.\n",
            "Iteration No: 10 ended. Evaluation done at random point.\n",
            "Time taken: 63.7171\n",
            "Function value obtained: -0.9016\n",
            "Current minimum: -0.9016\n",
            "Iteration No: 11 started. Evaluating function at random point.\n",
            "Iteration No: 11 ended. Evaluation done at random point.\n",
            "Time taken: 98.5543\n",
            "Function value obtained: -0.8919\n",
            "Current minimum: -0.9016\n",
            "Iteration No: 12 started. Evaluating function at random point.\n",
            "Iteration No: 12 ended. Evaluation done at random point.\n",
            "Time taken: 998.3727\n",
            "Function value obtained: -0.8835\n",
            "Current minimum: -0.9016\n",
            "Iteration No: 13 started. Evaluating function at random point.\n",
            "Iteration No: 13 ended. Evaluation done at random point.\n",
            "Time taken: 58.7211\n",
            "Function value obtained: -0.9005\n",
            "Current minimum: -0.9016\n",
            "Iteration No: 14 started. Evaluating function at random point.\n",
            "Iteration No: 14 ended. Evaluation done at random point.\n",
            "Time taken: 601.5767\n",
            "Function value obtained: -0.8872\n",
            "Current minimum: -0.9016\n",
            "Iteration No: 15 started. Evaluating function at random point.\n",
            "Iteration No: 15 ended. Evaluation done at random point.\n",
            "Time taken: 545.2319\n",
            "Function value obtained: -0.8908\n",
            "Current minimum: -0.9016\n"
          ]
        }
      ],
      "source": [
        "result = gp_minimize(optimization_function,dimensions= params_space,n_calls=15,n_random_starts=15,verbose=15)"
      ]
    },
    {
      "cell_type": "code",
      "execution_count": null,
      "metadata": {
        "id": "VSgclASqo3mv"
      },
      "outputs": [],
      "source": [
        "recommended = dict(zip(param_names,result.x))"
      ]
    },
    {
      "cell_type": "code",
      "execution_count": null,
      "metadata": {
        "colab": {
          "base_uri": "https://localhost:8080/"
        },
        "id": "ljtEn1puBl6U",
        "outputId": "75699647-ae9f-4fc4-bc83-abac409ba95e"
      },
      "outputs": [
        {
          "output_type": "execute_result",
          "data": {
            "text/plain": [
              "{'iterations': 72,\n",
              " 'learning_rate': 0.17570970812124373,\n",
              " 'leaf_estimation_iterations': 169,\n",
              " 'depth': 6,\n",
              " 'loss_function': 'Logloss'}"
            ]
          },
          "metadata": {},
          "execution_count": 82
        }
      ],
      "source": [
        "recommended"
      ]
    },
    {
      "cell_type": "markdown",
      "metadata": {
        "id": "lSXIyy7ToZbB"
      },
      "source": [
        "# **Train**"
      ]
    },
    {
      "cell_type": "code",
      "execution_count": null,
      "metadata": {
        "id": "XkqKXSm1EDT9"
      },
      "outputs": [],
      "source": [
        "model = CatBoostClassifier(**recommended)"
      ]
    },
    {
      "cell_type": "code",
      "execution_count": null,
      "metadata": {
        "id": "NWJ8-fEoEI8a"
      },
      "outputs": [],
      "source": [
        "x_train , x_val , y_train , y_val = train_test_split(X,y,test_size=0.2)"
      ]
    },
    {
      "cell_type": "code",
      "execution_count": null,
      "metadata": {
        "colab": {
          "base_uri": "https://localhost:8080/"
        },
        "id": "KMgZ5cSTEIGG",
        "outputId": "eaaa0205-ba3a-4a7c-e179-d3dcebc47233"
      },
      "outputs": [
        {
          "output_type": "execute_result",
          "data": {
            "text/plain": [
              "<catboost.core.CatBoostClassifier at 0x7a44cb0b7520>"
            ]
          },
          "metadata": {},
          "execution_count": 85
        }
      ],
      "source": [
        "model.fit(x_train,y_train,verbose=False)"
      ]
    },
    {
      "cell_type": "code",
      "execution_count": null,
      "metadata": {
        "id": "Qd0vuCxZi7dh"
      },
      "outputs": [],
      "source": [
        "pred = model.predict(x_val)\n",
        "fpr, tpr, thresholds = roc_curve(y_val,pred)"
      ]
    },
    {
      "cell_type": "code",
      "execution_count": null,
      "metadata": {
        "colab": {
          "base_uri": "https://localhost:8080/",
          "height": 36
        },
        "id": "NoB1B3FfMdCz",
        "outputId": "035fe13d-6b69-442b-e429-5a332bfb9244"
      },
      "outputs": [
        {
          "output_type": "execute_result",
          "data": {
            "text/plain": [
              "'14213 - 5703 = 8510'"
            ],
            "application/vnd.google.colaboratory.intrinsic+json": {
              "type": "string"
            }
          },
          "metadata": {},
          "execution_count": 87
        }
      ],
      "source": [
        "f\"{len(pred)} - {np.count_nonzero(pred)} = {len(pred)-np.count_nonzero(pred)}\""
      ]
    },
    {
      "cell_type": "code",
      "source": [
        "y_val.value_counts()"
      ],
      "metadata": {
        "colab": {
          "base_uri": "https://localhost:8080/"
        },
        "id": "chYlm5ZRqa6p",
        "outputId": "24f38e26-2bea-4b50-e383-bec29caff5d1"
      },
      "execution_count": null,
      "outputs": [
        {
          "output_type": "execute_result",
          "data": {
            "text/plain": [
              "Exited\n",
              "0    8148\n",
              "1    6065\n",
              "Name: count, dtype: int64"
            ]
          },
          "metadata": {},
          "execution_count": 88
        }
      ]
    },
    {
      "cell_type": "code",
      "execution_count": null,
      "metadata": {
        "colab": {
          "base_uri": "https://localhost:8080/"
        },
        "id": "CFn_q8mcmjl6",
        "outputId": "89329be1-4f0e-417f-c36a-34c237c2a3c0"
      },
      "outputs": [
        {
          "output_type": "execute_result",
          "data": {
            "text/plain": [
              "0.8162853047152008"
            ]
          },
          "metadata": {},
          "execution_count": 90
        }
      ],
      "source": [
        "auc(fpr,tpr)"
      ]
    },
    {
      "cell_type": "code",
      "execution_count": null,
      "metadata": {
        "id": "HEXUKRZ7lHuG"
      },
      "outputs": [],
      "source": [
        "submit = pd.DataFrame({\"id\":id,\"Exited\":model.predict(test)})"
      ]
    },
    {
      "cell_type": "code",
      "execution_count": null,
      "metadata": {
        "id": "1nng1p6KluOw"
      },
      "outputs": [],
      "source": [
        "submit.to_csv(\"submit.csv\",index=False)"
      ]
    },
    {
      "cell_type": "code",
      "execution_count": null,
      "metadata": {
        "id": "XJioxBDxQDav"
      },
      "outputs": [],
      "source": [
        "# https://www.kaggle.com/code/diaakotb/bank-churn-eda-and-prediction-rfc-94"
      ]
    },
    {
      "cell_type": "code",
      "execution_count": null,
      "metadata": {
        "colab": {
          "base_uri": "https://localhost:8080/"
        },
        "id": "LKKlmq-4lwvh",
        "outputId": "00ba7c01-ecca-4866-8326-20e338581cc0"
      },
      "outputs": [
        {
          "output_type": "stream",
          "name": "stdout",
          "text": [
            "100% 967k/967k [00:00<00:00, 1.82MB/s]\n",
            "Successfully submitted to Coder 49140 - Season Finale"
          ]
        }
      ],
      "source": [
        "!kaggle competitions submit -c coder-49140-season-finale -f submit.csv -m \"first submission\""
      ]
    },
    {
      "cell_type": "code",
      "execution_count": null,
      "metadata": {
        "id": "poF4j-qRlzXP"
      },
      "outputs": [],
      "source": []
    }
  ],
  "metadata": {
    "accelerator": "GPU",
    "colab": {
      "gpuType": "T4",
      "provenance": []
    },
    "kernelspec": {
      "display_name": "Python 3",
      "name": "python3"
    },
    "language_info": {
      "name": "python"
    }
  },
  "nbformat": 4,
  "nbformat_minor": 0
}