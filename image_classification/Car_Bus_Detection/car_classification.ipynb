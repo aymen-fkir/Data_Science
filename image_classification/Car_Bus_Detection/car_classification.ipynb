{
  "nbformat": 4,
  "nbformat_minor": 0,
  "metadata": {
    "colab": {
      "provenance": [],
      "gpuType": "T4"
    },
    "kernelspec": {
      "name": "python3",
      "display_name": "Python 3"
    },
    "language_info": {
      "name": "python"
    },
    "accelerator": "GPU"
  },
  "cells": [
    {
      "cell_type": "code",
      "execution_count": 1,
      "metadata": {
        "id": "ILgmNOPEt-pA"
      },
      "outputs": [],
      "source": [
        "!mkdir /root/.kaggle\n",
        "!mv kaggle.json /root/.kaggle/\n",
        "!chmod 600 /root/.kaggle/kaggle.json"
      ]
    },
    {
      "cell_type": "code",
      "source": [
        "!kaggle datasets download -d positivepc/object-detection"
      ],
      "metadata": {
        "colab": {
          "base_uri": "https://localhost:8080/"
        },
        "id": "fGY-4WdhuVUs",
        "outputId": "030b63b1-db7a-4f7c-e8ac-001bbfe45ab4"
      },
      "execution_count": 2,
      "outputs": [
        {
          "output_type": "stream",
          "name": "stdout",
          "text": [
            "Downloading object-detection.zip to /content\n",
            " 86% 65.0M/75.4M [00:01<00:00, 45.1MB/s]\n",
            "100% 75.4M/75.4M [00:01<00:00, 49.7MB/s]\n"
          ]
        }
      ]
    },
    {
      "cell_type": "code",
      "source": [
        "!unzip object-detection.zip"
      ],
      "metadata": {
        "id": "PB5nLOyYubUo"
      },
      "execution_count": null,
      "outputs": []
    },
    {
      "cell_type": "code",
      "source": [
        "import tensorflow as tf\n",
        "from tensorflow.keras.utils import image_dataset_from_directory\n",
        "from tensorflow.keras.layers import Conv2D, MaxPooling2D, Flatten, Dense,Rescaling,Dropout\n",
        "from tensorflow.keras.models import Sequential"
      ],
      "metadata": {
        "id": "8Sb-RrivuXqC"
      },
      "execution_count": 22,
      "outputs": []
    },
    {
      "cell_type": "code",
      "source": [
        "train = image_dataset_from_directory(\n",
        "    '/content/training_set/Training_set',\n",
        "    color_mode='rgb',\n",
        "    image_size=(200, 200),\n",
        "    batch_size=32,\n",
        "    label_mode='categorical',\n",
        "    subset='training',\n",
        "    seed=42,\n",
        "    validation_split=0.2,\n",
        "    labels='inferred'\n",
        ")\n",
        "\n",
        "val = image_dataset_from_directory(\n",
        "    '/content/training_set/Training_set',\n",
        "    image_size=(200, 200),\n",
        "    batch_size=32,\n",
        "    color_mode='rgb',\n",
        "    label_mode='categorical',\n",
        "    subset='validation',\n",
        "    seed=42,\n",
        "    validation_split=0.2,\n",
        "    labels='inferred'\n",
        ")"
      ],
      "metadata": {
        "colab": {
          "base_uri": "https://localhost:8080/"
        },
        "id": "bzfEjMy9uuHu",
        "outputId": "dec363f4-f74a-48fb-8ff6-62d73d70c514"
      },
      "execution_count": 16,
      "outputs": [
        {
          "output_type": "stream",
          "name": "stdout",
          "text": [
            "Found 1486 files belonging to 2 classes.\n",
            "Using 1189 files for training.\n",
            "Found 1486 files belonging to 2 classes.\n",
            "Using 297 files for validation.\n"
          ]
        }
      ]
    },
    {
      "cell_type": "code",
      "source": [
        "model = Sequential()"
      ],
      "metadata": {
        "id": "nX42On8TvOjg"
      },
      "execution_count": 74,
      "outputs": []
    },
    {
      "cell_type": "code",
      "source": [
        "model.add(Rescaling(1/255.,input_shape=(200,200,3)))\n",
        "model.add(Conv2D(32,3,activation=\"relu\"))\n",
        "model.add(MaxPooling2D())#64\n",
        "model.add(Conv2D(32,3,activation=\"relu\"))\n",
        "model.add(MaxPooling2D())#64\n",
        "\n",
        "model.add(Flatten())\n",
        "model.add(Dense(120,activation=\"relu\"))\n",
        "model.add(Dropout(0.1))\n",
        "model.add(Dense(100,activation=\"relu\"))\n",
        "model.add(Dropout(0.2))\n",
        "model.add(Dense(60,activation=\"relu\"))\n",
        "model.add(Dense(2,activation=\"softmax\"))"
      ],
      "metadata": {
        "id": "XULN9glkvWZC"
      },
      "execution_count": 75,
      "outputs": []
    },
    {
      "cell_type": "code",
      "source": [
        "model.compile(optimizer=\"adam\",loss=\"categorical_crossentropy\",metrics=\"accuracy\")"
      ],
      "metadata": {
        "id": "nVqaAd4GvpbH"
      },
      "execution_count": 76,
      "outputs": []
    },
    {
      "cell_type": "code",
      "source": [
        "model.summary()"
      ],
      "metadata": {
        "colab": {
          "base_uri": "https://localhost:8080/"
        },
        "id": "3noXl_8kvzFX",
        "outputId": "e90453fb-290a-478b-ca1a-c9e7aad1a989"
      },
      "execution_count": 77,
      "outputs": [
        {
          "output_type": "stream",
          "name": "stdout",
          "text": [
            "Model: \"sequential_12\"\n",
            "_________________________________________________________________\n",
            " Layer (type)                Output Shape              Param #   \n",
            "=================================================================\n",
            " rescaling_15 (Rescaling)    (None, 200, 200, 3)       0         \n",
            "                                                                 \n",
            " conv2d_23 (Conv2D)          (None, 198, 198, 32)      896       \n",
            "                                                                 \n",
            " max_pooling2d_20 (MaxPooli  (None, 99, 99, 32)        0         \n",
            " ng2D)                                                           \n",
            "                                                                 \n",
            " conv2d_24 (Conv2D)          (None, 97, 97, 32)        9248      \n",
            "                                                                 \n",
            " max_pooling2d_21 (MaxPooli  (None, 48, 48, 32)        0         \n",
            " ng2D)                                                           \n",
            "                                                                 \n",
            " flatten_12 (Flatten)        (None, 73728)             0         \n",
            "                                                                 \n",
            " dense_48 (Dense)            (None, 120)               8847480   \n",
            "                                                                 \n",
            " dropout_11 (Dropout)        (None, 120)               0         \n",
            "                                                                 \n",
            " dense_49 (Dense)            (None, 100)               12100     \n",
            "                                                                 \n",
            " dropout_12 (Dropout)        (None, 100)               0         \n",
            "                                                                 \n",
            " dense_50 (Dense)            (None, 60)                6060      \n",
            "                                                                 \n",
            " dense_51 (Dense)            (None, 2)                 122       \n",
            "                                                                 \n",
            "=================================================================\n",
            "Total params: 8875906 (33.86 MB)\n",
            "Trainable params: 8875906 (33.86 MB)\n",
            "Non-trainable params: 0 (0.00 Byte)\n",
            "_________________________________________________________________\n"
          ]
        }
      ]
    },
    {
      "cell_type": "code",
      "source": [
        "hist = model.fit(train,validation_data=val,epochs=3)"
      ],
      "metadata": {
        "colab": {
          "base_uri": "https://localhost:8080/"
        },
        "id": "VW4CQS1nv0V1",
        "outputId": "fc8f9545-c696-45ec-a4b7-8d4d37b32242"
      },
      "execution_count": 78,
      "outputs": [
        {
          "output_type": "stream",
          "name": "stdout",
          "text": [
            "Epoch 1/3\n",
            "38/38 [==============================] - 4s 56ms/step - loss: 0.8720 - accuracy: 0.5282 - val_loss: 0.6685 - val_accuracy: 0.6229\n",
            "Epoch 2/3\n",
            "38/38 [==============================] - 3s 62ms/step - loss: 0.5361 - accuracy: 0.7578 - val_loss: 0.4161 - val_accuracy: 0.7879\n",
            "Epoch 3/3\n",
            "38/38 [==============================] - 2s 48ms/step - loss: 0.3021 - accuracy: 0.8848 - val_loss: 0.4091 - val_accuracy: 0.8485\n"
          ]
        }
      ]
    },
    {
      "cell_type": "code",
      "source": [
        "import matplotlib.pyplot as plt\n",
        "plt.plot(hist.history['loss'])\n",
        "plt.plot(hist.history['val_loss'])"
      ],
      "metadata": {
        "colab": {
          "base_uri": "https://localhost:8080/",
          "height": 452
        },
        "id": "b5B6kR9Mv414",
        "outputId": "63419733-4ee2-42dc-e921-ac0a0f61d9d8"
      },
      "execution_count": 79,
      "outputs": [
        {
          "output_type": "execute_result",
          "data": {
            "text/plain": [
              "[<matplotlib.lines.Line2D at 0x7ae40e230d60>]"
            ]
          },
          "metadata": {},
          "execution_count": 79
        },
        {
          "output_type": "display_data",
          "data": {
            "text/plain": [
              "<Figure size 640x480 with 1 Axes>"
            ],
            "image/png": "[encoded data removed]"
          },
          "metadata": {}
        }
      ]
    },
    {
      "cell_type": "code",
      "source": [
        "from PIL import Image\n",
        "import cv2\n",
        "import os\n",
        "import numpy as np"
      ],
      "metadata": {
        "id": "AkG7ThlhzrOH"
      },
      "execution_count": 88,
      "outputs": []
    },
    {
      "cell_type": "code",
      "source": [
        "imgs = []\n",
        "classes = []\n",
        "for f in os.listdir(\"/content/Training_set/Training_set/electric bus\"):\n",
        "  imgs.append(cv2.imread(\"/content/Training_set/Training_set/electric bus/\"+f))\n",
        "  classes.append(0)\n",
        "for f in os.listdir(\"/content/Training_set/Training_set/electric car\"):\n",
        "  imgs.append(cv2.imread(\"/content/Training_set/Training_set/electric car/\"+f))\n",
        "  classes.append(1)\n"
      ],
      "metadata": {
        "id": "-bmhJ9LVxniM"
      },
      "execution_count": 85,
      "outputs": []
    },
    {
      "cell_type": "code",
      "source": [
        "new_imgs = []\n",
        "for img in imgs:\n",
        "  new_imgs.append(cv2.resize(img,(200,200)))"
      ],
      "metadata": {
        "id": "BWNQOYJYzaKl"
      },
      "execution_count": 86,
      "outputs": []
    },
    {
      "cell_type": "code",
      "source": [
        "imgs = np.array(new_imgs)"
      ],
      "metadata": {
        "id": "Ps3aC-6U0vfE"
      },
      "execution_count": 89,
      "outputs": []
    },
    {
      "cell_type": "code",
      "source": [
        "preds = model.predict(imgs)"
      ],
      "metadata": {
        "colab": {
          "base_uri": "https://localhost:8080/"
        },
        "id": "OlLaj5gf0gZf",
        "outputId": "dcf02799-10e1-4354-d80c-f67727b0f29a"
      },
      "execution_count": 92,
      "outputs": [
        {
          "output_type": "stream",
          "name": "stdout",
          "text": [
            "47/47 [==============================] - 1s 11ms/step\n"
          ]
        }
      ]
    },
    {
      "cell_type": "code",
      "source": [
        "f_preds = np.argmax(preds,axis=1)\n",
        "classes = np.array(classes)"
      ],
      "metadata": {
        "id": "iNPksYd20o7I"
      },
      "execution_count": 100,
      "outputs": []
    },
    {
      "cell_type": "code",
      "source": [
        "from sklearn.metrics import accuracy_score"
      ],
      "metadata": {
        "id": "j8tYAsDw1DU0"
      },
      "execution_count": 95,
      "outputs": []
    },
    {
      "cell_type": "code",
      "source": [
        "accuracy_score(classes,f_preds)"
      ],
      "metadata": {
        "colab": {
          "base_uri": "https://localhost:8080/"
        },
        "id": "yGnJdhwV1EbH",
        "outputId": "0bf70f02-e8a3-45f8-bcd2-217bef9492b8"
      },
      "execution_count": 101,
      "outputs": [
        {
          "output_type": "execute_result",
          "data": {
            "text/plain": [
              "0.9057873485868102"
            ]
          },
          "metadata": {},
          "execution_count": 101
        }
      ]
    },
    {
      "cell_type": "code",
      "source": [],
      "metadata": {
        "id": "JRZP1VYQ1dZu"
      },
      "execution_count": null,
      "outputs": []
    }
  ]
}