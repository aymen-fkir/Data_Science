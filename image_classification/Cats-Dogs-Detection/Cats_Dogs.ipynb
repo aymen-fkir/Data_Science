{
  "nbformat": 4,
  "nbformat_minor": 0,
  "metadata": {
    "colab": {
      "provenance": []
    },
    "kernelspec": {
      "name": "python3",
      "display_name": "Python 3"
    },
    "language_info": {
      "name": "python"
    },
    "accelerator": "TPU"
  },
  "cells": [
    {
      "cell_type": "code",
      "source": [
        "!mkdir /root/.kaggle\n",
        "!mv kaggle.json /root/.kaggle/"
      ],
      "metadata": {
        "id": "iVl4VJw1foqT"
      },
      "execution_count": 2,
      "outputs": []
    },
    {
      "cell_type": "code",
      "execution_count": 1,
      "metadata": {
        "id": "sQ9-VbV1Gba0"
      },
      "outputs": [],
      "source": [
        "import tensorflow as tf\n",
        "import numpy as np\n",
        "import pandas as pd\n",
        "import matplotlib.pyplot as plt\n",
        "import os\n",
        "import cv2\n",
        "import random"
      ]
    },
    {
      "cell_type": "code",
      "source": [
        "!kaggle datasets download -d tongpython/cat-and-dog"
      ],
      "metadata": {
        "colab": {
          "base_uri": "https://localhost:8080/"
        },
        "id": "FztZdhrAG88V",
        "outputId": "11c0e1ee-d629-40a5-d303-e32b795b1cc8"
      },
      "execution_count": 4,
      "outputs": [
        {
          "output_type": "stream",
          "name": "stdout",
          "text": [
            "Warning: Your Kaggle API key is readable by other users on this system! To fix this, you can run 'chmod 600 /root/.kaggle/kaggle.json'\n",
            "Downloading cat-and-dog.zip to /content\n",
            " 92% 201M/218M [00:01<00:00, 181MB/s]\n",
            "100% 218M/218M [00:01<00:00, 165MB/s]\n"
          ]
        }
      ]
    },
    {
      "cell_type": "code",
      "source": [
        "!unzip cat-and-dog.zip"
      ],
      "metadata": {
        "id": "br8QThFpftWc"
      },
      "execution_count": null,
      "outputs": []
    },
    {
      "cell_type": "markdown",
      "source": [
        "Get Data"
      ],
      "metadata": {
        "id": "QX4A5z2biMEG"
      }
    },
    {
      "cell_type": "code",
      "source": [
        "def GetData():\n",
        "  categories = [\"cats\",\"dogs\"]\n",
        "  path = \"/content/training_set/training_set/\"\n",
        "  Train_data = []\n",
        "  for category in categories:\n",
        "    for img in os.listdir(path+category):\n",
        "      try:\n",
        "        image = cv2.imread(f\"{path}{category}/{img}\",cv2.IMREAD_GRAYSCALE)\n",
        "        image = cv2.resize(image,(100,100))\n",
        "        Train_data.append([image,categories.index(category)])\n",
        "      except:\n",
        "        pass\n",
        "  return Train_data\n",
        "Train_data = GetData()"
      ],
      "metadata": {
        "id": "X8eqoI40srWB"
      },
      "execution_count": 2,
      "outputs": []
    },
    {
      "cell_type": "code",
      "source": [
        "Train_data[0][0].shape"
      ],
      "metadata": {
        "colab": {
          "base_uri": "https://localhost:8080/"
        },
        "id": "hewyCWR7uRRG",
        "outputId": "b90804fe-1626-4026-9d99-1feb33e9df6f"
      },
      "execution_count": null,
      "outputs": [
        {
          "output_type": "execute_result",
          "data": {
            "text/plain": [
              "(100, 100)"
            ]
          },
          "metadata": {},
          "execution_count": 11
        }
      ]
    },
    {
      "cell_type": "code",
      "source": [
        "random.shuffle(Train_data)"
      ],
      "metadata": {
        "id": "3jybrlgTwOmP"
      },
      "execution_count": 3,
      "outputs": []
    },
    {
      "cell_type": "code",
      "source": [
        "X = []\n",
        "Y = []\n",
        "\n",
        "for features,labels in Train_data:\n",
        "  X.append(features)\n",
        "  Y.append(labels)"
      ],
      "metadata": {
        "id": "mptpsXiqv6q3"
      },
      "execution_count": 4,
      "outputs": []
    },
    {
      "cell_type": "code",
      "source": [
        "model = tf.keras.models.Sequential()"
      ],
      "metadata": {
        "id": "eseJWaWyv6jw"
      },
      "execution_count": 5,
      "outputs": []
    },
    {
      "cell_type": "code",
      "source": [
        "X = np.array(X).reshape(-1,100,100,1)"
      ],
      "metadata": {
        "id": "5m-BpwxOBKa2"
      },
      "execution_count": 7,
      "outputs": []
    },
    {
      "cell_type": "code",
      "source": [
        "X.shape"
      ],
      "metadata": {
        "colab": {
          "base_uri": "https://localhost:8080/"
        },
        "id": "7iq8zm7cEpaM",
        "outputId": "da6c2d8e-efdf-4518-877f-f41ef070aff4"
      },
      "execution_count": 16,
      "outputs": [
        {
          "output_type": "execute_result",
          "data": {
            "text/plain": [
              "(8005, 100, 100, 1)"
            ]
          },
          "metadata": {},
          "execution_count": 16
        }
      ]
    },
    {
      "cell_type": "code",
      "source": [
        "model.add(tf.keras.layers.Conv2D(64,(3,3),input_shape=X.shape[1:],activation=\"relu\"))\n",
        "model.add(tf.keras.layers.MaxPool2D(pool_size=(2,2)))\n",
        "\n",
        "model.add(tf.keras.layers.Conv2D(64,(3,3),activation=\"relu\"))\n",
        "model.add(tf.keras.layers.MaxPool2D(pool_size=(2,2)))\n",
        "\n",
        "model.add(tf.keras.layers.Flatten())\n",
        "model.add(tf.keras.layers.Dense(64))\n",
        "\n",
        "model.add(tf.keras.layers.Dense(1,activation=\"sigmoid\"))\n"
      ],
      "metadata": {
        "id": "IGVBhLIFT1L0"
      },
      "execution_count": 8,
      "outputs": []
    },
    {
      "cell_type": "code",
      "source": [
        "model.compile(loss=\"binary_crossentropy\",optimizer=\"adam\",metrics=[\"accuracy\"])"
      ],
      "metadata": {
        "id": "xevZrSkRAoZj"
      },
      "execution_count": 9,
      "outputs": []
    },
    {
      "cell_type": "code",
      "source": [
        "model.summary()"
      ],
      "metadata": {
        "colab": {
          "base_uri": "https://localhost:8080/"
        },
        "id": "jMrbPveMBfoX",
        "outputId": "770f9a8a-f270-46af-9118-9255f5cddd44"
      },
      "execution_count": 10,
      "outputs": [
        {
          "output_type": "stream",
          "name": "stdout",
          "text": [
            "Model: \"sequential\"\n",
            "_________________________________________________________________\n",
            " Layer (type)                Output Shape              Param #   \n",
            "=================================================================\n",
            " conv2d (Conv2D)             (None, 98, 98, 64)        640       \n",
            "                                                                 \n",
            " max_pooling2d (MaxPooling2  (None, 49, 49, 64)        0         \n",
            " D)                                                              \n",
            "                                                                 \n",
            " conv2d_1 (Conv2D)           (None, 47, 47, 64)        36928     \n",
            "                                                                 \n",
            " max_pooling2d_1 (MaxPoolin  (None, 23, 23, 64)        0         \n",
            " g2D)                                                            \n",
            "                                                                 \n",
            " flatten (Flatten)           (None, 33856)             0         \n",
            "                                                                 \n",
            " dense (Dense)               (None, 64)                2166848   \n",
            "                                                                 \n",
            " dense_1 (Dense)             (None, 1)                 65        \n",
            "                                                                 \n",
            "=================================================================\n",
            "Total params: 2204481 (8.41 MB)\n",
            "Trainable params: 2204481 (8.41 MB)\n",
            "Non-trainable params: 0 (0.00 Byte)\n",
            "_________________________________________________________________\n"
          ]
        }
      ]
    },
    {
      "cell_type": "code",
      "source": [
        "X = X/255.0"
      ],
      "metadata": {
        "id": "OACnorXUBo82"
      },
      "execution_count": 11,
      "outputs": []
    },
    {
      "cell_type": "code",
      "source": [
        "Y = np.array(Y)"
      ],
      "metadata": {
        "id": "vK6LoX-eB6cL"
      },
      "execution_count": 13,
      "outputs": []
    },
    {
      "cell_type": "code",
      "source": [
        "model.fit(X,Y,batch_size=32,epochs=3,validation_split=0.1)"
      ],
      "metadata": {
        "colab": {
          "base_uri": "https://localhost:8080/"
        },
        "id": "FEyC_E0xBh8D",
        "outputId": "dd252318-6a14-4d1f-f7ad-991dbc527ac2"
      },
      "execution_count": 15,
      "outputs": [
        {
          "output_type": "stream",
          "name": "stdout",
          "text": [
            "Epoch 1/3\n",
            "226/226 [==============================] - 170s 752ms/step - loss: 0.6510 - accuracy: 0.6249 - val_loss: 0.6485 - val_accuracy: 0.6292\n",
            "Epoch 2/3\n",
            "226/226 [==============================] - 171s 756ms/step - loss: 0.6013 - accuracy: 0.6760 - val_loss: 0.6299 - val_accuracy: 0.6542\n",
            "Epoch 3/3\n",
            "226/226 [==============================] - 177s 782ms/step - loss: 0.5377 - accuracy: 0.7339 - val_loss: 0.6093 - val_accuracy: 0.6767\n"
          ]
        },
        {
          "output_type": "execute_result",
          "data": {
            "text/plain": [
              "<keras.src.callbacks.History at 0x7d6a13b64400>"
            ]
          },
          "metadata": {},
          "execution_count": 15
        }
      ]
    },
    {
      "cell_type": "code",
      "source": [],
      "metadata": {
        "id": "EM3LlCnCB0l_"
      },
      "execution_count": null,
      "outputs": []
    }
  ]
}